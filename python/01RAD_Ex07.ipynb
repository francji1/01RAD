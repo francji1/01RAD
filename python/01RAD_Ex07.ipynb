{
  "nbformat": 4,
  "nbformat_minor": 0,
  "metadata": {
    "colab": {
      "private_outputs": true,
      "provenance": [],
      "authorship_tag": "ABX9TyNNP6c/hNzkel0A5c3I6Xak",
      "include_colab_link": true
    },
    "kernelspec": {
      "name": "python3",
      "display_name": "Python 3"
    },
    "language_info": {
      "name": "python"
    }
  },
  "cells": [
    {
      "cell_type": "markdown",
      "metadata": {
        "id": "view-in-github",
        "colab_type": "text"
      },
      "source": [
        "<a href=\"https://colab.research.google.com/github/francji1/01RAD/blob/main/python/01RAD_Ex07.ipynb\" target=\"_parent\"><img src=\"https://colab.research.google.com/assets/colab-badge.svg\" alt=\"Open In Colab\"/></a>"
      ]
    },
    {
      "cell_type": "markdown",
      "source": [
        "## Exercise 07"
      ],
      "metadata": {
        "id": "IySLvMRC2IO4"
      }
    },
    {
      "cell_type": "code",
      "execution_count": null,
      "metadata": {
        "id": "binLmBw41zGH"
      },
      "outputs": [],
      "source": []
    },
    {
      "cell_type": "code",
      "source": [
        "import pandas as pd\n",
        "import statsmodels.api as sm\n",
        "import statsmodels.formula.api as smf\n",
        "import matplotlib.pyplot as plt\n",
        "import numpy as np\n",
        "import seaborn as sns\n",
        "\n",
        "from statsmodels.formula.api import ols\n",
        "from statsmodels.stats.anova import anova_lm\n",
        "from scipy.stats import f,t,norm"
      ],
      "metadata": {
        "id": "kcuAltnr13Nu"
      },
      "execution_count": null,
      "outputs": []
    },
    {
      "cell_type": "code",
      "source": [
        "cars_all = pd.read_csv(\"https://raw.githubusercontent.com/francji1/01RAD/main/data/carsdata2.csv\", sep=\";\")\n",
        "cars_all.head()"
      ],
      "metadata": {
        "id": "IXlL6QzQ13RB"
      },
      "execution_count": null,
      "outputs": []
    },
    {
      "cell_type": "code",
      "source": [
        "cars_all.isna().sum()\n"
      ],
      "metadata": {
        "id": "yaZfc6n213Tb"
      },
      "execution_count": null,
      "outputs": []
    },
    {
      "cell_type": "code",
      "source": [
        "# Define car types and wheel drive conditions\n",
        "sedan_condition = cars_all['Sedan'] == 1\n",
        "sport_condition = cars_all['Sports'] == 1\n",
        "suv_condition = cars_all['SUV'] == 1\n",
        "minivan_condition = (cars_all['Wagon'] == 1) | (cars_all['Minivan'] == 1) | (cars_all['Pickup'] == 1)\n",
        "awd_condition = cars_all['AWD'] == 1\n",
        "rwd_condition = cars_all['RWD'] == 1\n",
        "\n",
        "cars_all = (\n",
        "    cars_all.assign(\n",
        "        consumption=100 / (1.60934 * ((cars_all['CityMPG'] + cars_all['HwyMPG']) / 2) / 3.7854),\n",
        "        type=np.select(\n",
        "            [sedan_condition, sport_condition, suv_condition, minivan_condition],\n",
        "            ['sedan', 'sport', 'suv', 'minivan'],\n",
        "            default='Unknown'\n",
        "        ),\n",
        "        wheel_drive=np.select(\n",
        "            [awd_condition, rwd_condition],\n",
        "            ['AWD', 'RWD'],\n",
        "            default='FWD'\n",
        "        )\n",
        "    )\n",
        "    .astype({'type': 'category', 'wheel_drive': 'category'})\n",
        "    .filter(['RetailPrice', 'type', 'consumption', 'wheel_drive', 'DealerCost', 'EngineSize', 'Cyl', 'HP', 'Weight', 'WheelBase', 'Len', 'Width'])\n",
        ")\n",
        "\n",
        "cars_all.head()"
      ],
      "metadata": {
        "id": "FvIEAmX846v0"
      },
      "execution_count": null,
      "outputs": []
    },
    {
      "cell_type": "code",
      "source": [
        "cars_all.isna().sum()\n"
      ],
      "metadata": {
        "id": "txrPJP__39t4"
      },
      "execution_count": null,
      "outputs": []
    },
    {
      "cell_type": "code",
      "source": [
        "# Filter to include only rows where 'Cyl' is 4, 6, or 8\n",
        "cars_all = cars_all[cars_all['Cyl'].isin([4, 6, 8])]\n",
        "\n",
        "# Convert 'Cyl' to a categorical type\n",
        "cars_all['Cyl'] = cars_all['Cyl'].astype('category')\n",
        "\n",
        "# Omit rows with NA values\n",
        "cars_all.dropna(inplace=True)"
      ],
      "metadata": {
        "id": "D3DUeTPiisAA"
      },
      "execution_count": null,
      "outputs": []
    },
    {
      "cell_type": "code",
      "source": [
        "# Select only numeric columns for the pair plot\n",
        "numeric_cols = cars_all.select_dtypes(include=['float64', 'int64'])\n",
        "sns.pairplot(numeric_cols)\n",
        "plt.show()"
      ],
      "metadata": {
        "id": "vfPf2zLt5dTH"
      },
      "execution_count": null,
      "outputs": []
    },
    {
      "cell_type": "code",
      "source": [
        "# Select only categorical columns\n",
        "categorical_cols = cars_all.select_dtypes(include=['category'])\n",
        "\n",
        "for col in categorical_cols:\n",
        "    sns.countplot(x=col, data=cars_all)\n",
        "    plt.title(f'Count Plot for {col}')\n",
        "    plt.xticks(rotation=45)\n",
        "    plt.show()"
      ],
      "metadata": {
        "id": "_deuXLhhgobl"
      },
      "execution_count": null,
      "outputs": []
    },
    {
      "cell_type": "code",
      "source": [
        "# Select only two categorical columns\n",
        "col1 = categorical_cols.columns[0]\n",
        "col2 = categorical_cols.columns[1]\n",
        "\n",
        "plt.figure(figsize=(12, 6))\n",
        "sns.catplot(x=col1, hue=col2, data=cars_all, kind='count', palette='Set2')\n",
        "plt.title(f'Count Plot for {col1} by {col2}')\n",
        "plt.xticks(rotation=45)\n",
        "plt.show()"
      ],
      "metadata": {
        "id": "C5qzrmXNgogs"
      },
      "execution_count": null,
      "outputs": []
    },
    {
      "cell_type": "code",
      "source": [
        "cars = cars_all.copy()"
      ],
      "metadata": {
        "id": "7TKHKu2Igolb"
      },
      "execution_count": null,
      "outputs": []
    },
    {
      "cell_type": "code",
      "source": [
        "# Simple linear regression: Weight ~ EngineSize\n",
        "model_simple = smf.ols('Weight ~ EngineSize', data=cars).fit()\n",
        "print(model_simple.summary())"
      ],
      "metadata": {
        "id": "bFvOyWBBiTdB"
      },
      "execution_count": null,
      "outputs": []
    },
    {
      "cell_type": "code",
      "source": [
        "# Additive multivariate regression: Weight ~ EngineSize + HP\n",
        "model_additive = smf.ols('Weight ~ EngineSize + HP', data=cars_all).fit()\n",
        "print(model_additive.summary())"
      ],
      "metadata": {
        "id": "JlrzTvetiTfg"
      },
      "execution_count": null,
      "outputs": []
    },
    {
      "cell_type": "code",
      "source": [
        "# Multivariate regression with interaction: Weight ~ EngineSize + HP + EngineSize:HP\n",
        "model_interaction = smf.ols('Weight ~ EngineSize + HP + EngineSize:HP', data=cars_all).fit()\n",
        "print(model_interaction.summary())"
      ],
      "metadata": {
        "id": "W9Jft1SziTiQ"
      },
      "execution_count": null,
      "outputs": []
    },
    {
      "cell_type": "code",
      "source": [],
      "metadata": {
        "id": "4u9MIHQBiTkh"
      },
      "execution_count": null,
      "outputs": []
    },
    {
      "cell_type": "markdown",
      "source": [
        "### Compare three models using ANOVA and F test"
      ],
      "metadata": {
        "id": "NjRQEktujwdg"
      }
    },
    {
      "cell_type": "code",
      "source": [
        "print(anova_lm(model_simple, model_additive, typ=1))  # Comparison between m1 and m2\n",
        "print(anova_lm(model_additive, model_interaction, typ=1))  # Comparison between m2 and m3\n",
        "print(anova_lm(model_simple, model_interaction, typ=1))  # Comparison between m1 and m3\n"
      ],
      "metadata": {
        "id": "Gv3FtN5fjv3X"
      },
      "execution_count": null,
      "outputs": []
    },
    {
      "cell_type": "markdown",
      "source": [
        "Calculating SSR and RSS manually with F test\n"
      ],
      "metadata": {
        "id": "4D9SAzxYkaXI"
      }
    },
    {
      "cell_type": "code",
      "source": [
        "\n",
        "# SSR (Sum of Squares due to Regression)\n",
        "SSR3 = sum((model_interaction.fittedvalues - cars_all['Weight'].mean()) ** 2)\n",
        "SSR1 = sum((model_simple.fittedvalues - cars_all['Weight'].mean()) ** 2)\n",
        "\n",
        "# RSS (Residual Sum of Squares)\n",
        "RSS3 = sum(model_interaction.resid ** 2)\n",
        "RSS1 = sum(model_simple.resid ** 2)\n",
        "\n",
        "# Mean Squared Error (MSE) for m3\n",
        "MSE = RSS3 / model_interaction.df_resid\n",
        "\n"
      ],
      "metadata": {
        "id": "UV0TW7qVjv6C"
      },
      "execution_count": null,
      "outputs": []
    },
    {
      "cell_type": "code",
      "source": [
        "# Calculating the F-statistic\n",
        "numerator = (model_simple.ssr - model_interaction.ssr) / (model_simple.df_resid - model_interaction.df_resid)\n",
        "denominator = model_interaction.ssr / model_interaction.df_resid\n",
        "F_statistic = numerator / denominator\n",
        "F_statistic"
      ],
      "metadata": {
        "id": "OtnYPvNLjv9K"
      },
      "execution_count": null,
      "outputs": []
    },
    {
      "cell_type": "code",
      "source": [
        "# Calculating SSR for each model\n",
        "SSR1 = sum((model_simple.fittedvalues - cars_all['Weight'].mean())**2)\n",
        "SSR3 = sum((model_interaction.fittedvalues - cars_all['Weight'].mean())**2)\n",
        "\n",
        "# Calculating MSE for the more complex model (m3)\n",
        "MSE3 = sum(model_interaction.resid**2) / model_interaction.df_resid\n",
        "\n",
        "# Calculating the F-statistic\n",
        "F_value = (SSR3 - SSR1) / (MSE3 * (model_simple.df_resid - model_interaction.df_resid))\n",
        "F_value"
      ],
      "metadata": {
        "id": "_EfcqQF8m-7r"
      },
      "execution_count": null,
      "outputs": []
    },
    {
      "cell_type": "code",
      "source": [
        "# F-statistic calculation\n",
        "# Probability value for the F-statistic\n",
        "p_value = f.sf(F_statistic, model_simple.df_resid - model_interaction.df_resid, model_interaction.df_resid)\n",
        "\n",
        "print(\"F-statistic:\", F_statistic)\n",
        "print(\"p-value:\", p_value)\n"
      ],
      "metadata": {
        "id": "GiN03epIkj8w"
      },
      "execution_count": null,
      "outputs": []
    },
    {
      "cell_type": "code",
      "source": [
        "# Scatter plot of Weight vs EngineSize\n",
        "plt.scatter(cars_all['EngineSize'], cars_all['Weight'], color='black', s=10)  # s is the size of the points\n",
        "\n",
        "# Plotting the regression line from model_simple\n",
        "sns.regplot(x='EngineSize', y='Weight', data=cars_all, scatter=False, color='blue', label='Linear Fit')\n",
        "plt.xlabel('EngineSize')\n",
        "plt.ylabel('Weight')\n",
        "plt.title('Weight vs EngineSize with Regression Line')\n",
        "plt.legend()\n",
        "plt.show()"
      ],
      "metadata": {
        "id": "0ogOK3rfkmfv"
      },
      "execution_count": null,
      "outputs": []
    },
    {
      "cell_type": "code",
      "source": [
        "model = model_simple"
      ],
      "metadata": {
        "id": "D6pw80AloRYd"
      },
      "execution_count": null,
      "outputs": []
    },
    {
      "cell_type": "code",
      "source": [
        "cars_all['fit_m1'] = model_simple.fittedvalues\n",
        "# Create the base plot with points\n",
        "plt.figure(figsize=(10, 6))\n",
        "sns.scatterplot(x='EngineSize', y='Weight', data=cars_all, color='blue')\n",
        "\n",
        "# Add the linear regression line\n",
        "sns.lineplot(x='EngineSize', y='fit_m1', data=cars_all, color='green')\n",
        "\n",
        "# Add red segments to show the difference between observed and fitted values\n",
        "for _, row in cars_all.iterrows():\n",
        "    plt.plot([row['EngineSize'], row['EngineSize']], [row['Weight'], row['fit_m1']], color='red', linewidth=0.3)\n",
        "\n",
        "# Additional plot settings\n",
        "plt.xlabel('EngineSize')\n",
        "plt.ylabel('Weight')\n",
        "plt.title('Weight vs EngineSize with Linear Model Fit and Residuals')\n",
        "plt.show()\n"
      ],
      "metadata": {
        "id": "Zw3iDaGSm9KQ"
      },
      "execution_count": null,
      "outputs": []
    },
    {
      "cell_type": "code",
      "source": [
        "# Plot the fitted values against EngineSize\n",
        "fig, ax = plt.subplots(figsize=(10, 6))\n",
        "sm.graphics.plot_fit(model_simple, 'EngineSize', ax=ax)\n",
        "\n",
        "# Labels and Title\n",
        "ax.set_ylabel('Weight')\n",
        "ax.set_xlabel('EngineSize')\n",
        "ax.set_title('Weight vs EngineSize with Linear Model Fit and Residuals')\n",
        "\n",
        "# Show the plot\n",
        "plt.show()\n"
      ],
      "metadata": {
        "id": "koJLjA55nvVX"
      },
      "execution_count": null,
      "outputs": []
    },
    {
      "cell_type": "code",
      "source": [
        "# Plot Residuals vs. Fitted\n",
        "plt.scatter(model_simple.fittedvalues, model_simple.resid)\n",
        "plt.axhline(y=0, color='grey', linestyle='--')\n",
        "plt.xlabel('Fitted values')\n",
        "plt.ylabel('Residuals')\n",
        "plt.title('Residuals vs Fitted')\n",
        "plt.show()\n",
        "\n",
        "# Plot Residuals vs. EngineSize (as an example of a covariate)\n",
        "plt.scatter(cars_all['EngineSize'], model_simple.resid)\n",
        "plt.axhline(y=0, color='grey', linestyle='--')\n",
        "plt.xlabel('EngineSize')\n",
        "plt.ylabel('Residuals')\n",
        "plt.title('Residuals vs EngineSize')\n",
        "plt.show()\n",
        "\n"
      ],
      "metadata": {
        "id": "BWIZdx2fn_8P"
      },
      "execution_count": null,
      "outputs": []
    },
    {
      "cell_type": "code",
      "source": [
        "from statsmodels.graphics.gofplots import qqplot\n",
        "\n",
        "plt.figure(figsize=(8, 6))\n",
        "qqplot(model_simple.resid, line='s')\n",
        "plt.title('Normal Q-Q')\n",
        "plt.show()\n"
      ],
      "metadata": {
        "id": "M-Wx7LDaoJ1O"
      },
      "execution_count": null,
      "outputs": []
    },
    {
      "cell_type": "code",
      "source": [
        "# Scale-Location Plot (or Spread-Location Plot)\n",
        "plt.figure(figsize=(8, 6))\n",
        "standardized_resids = model_simple.get_influence().resid_studentized_internal\n",
        "plt.scatter(model_simple.fittedvalues, np.sqrt(np.abs(standardized_resids)))\n",
        "plt.axhline(y=0, color='grey', linestyle='--')\n",
        "plt.xlabel('Fitted values')\n",
        "plt.ylabel('Sqrt(Abs(Standardized Residuals))')\n",
        "plt.title('Scale-Location')\n",
        "plt.show()\n"
      ],
      "metadata": {
        "id": "xxo1tKHOoM0W"
      },
      "execution_count": null,
      "outputs": []
    },
    {
      "cell_type": "code",
      "source": [
        "# Residuals vs Covariates (Engine Size)\n",
        "plt.figure(figsize=(8, 6))\n",
        "plt.scatter(cars_all['EngineSize'], model_simple.resid)\n",
        "sns.regplot(x='EngineSize', y=model_simple.resid, data=cars_all, lowess=True, scatter=False, color='red', ci=None)\n",
        "plt.xlabel('Engine Size')\n",
        "plt.ylabel('Residuals')\n",
        "plt.title('Residuals vs Engine Size')\n",
        "plt.show()\n"
      ],
      "metadata": {
        "id": "vRO2NCE9obWg"
      },
      "execution_count": null,
      "outputs": []
    },
    {
      "cell_type": "code",
      "source": [
        "# Durbin-Watson Test\n",
        "from statsmodels.stats.stattools import durbin_watson\n",
        "\n",
        "dw_stat = durbin_watson(model_simple.resid)\n",
        "print('Durbin-Watson statistic:', dw_stat)"
      ],
      "metadata": {
        "id": "LDR5CFGrobYz"
      },
      "execution_count": null,
      "outputs": []
    },
    {
      "cell_type": "code",
      "source": [
        "from statsmodels.stats.diagnostic import het_breuschpagan\n",
        "\n",
        "# Perform Breusch-Pagan test\n",
        "bp_test = het_breuschpagan(model_simple.resid, model_simple.model.exog)\n",
        "labels = ['Lagrange Multiplier statistic', 'p-value', 'f-value', 'f p-value']\n",
        "print(dict(zip(labels, bp_test)))\n"
      ],
      "metadata": {
        "id": "gsGw--COobbX"
      },
      "execution_count": null,
      "outputs": []
    },
    {
      "cell_type": "code",
      "source": [
        "# Extract residuals and create shifted residuals for comparison\n",
        "residuals = model_interaction.resid\n",
        "shifted_residuals = np.roll(residuals, -1)\n",
        "\n",
        "# Create a DataFrame for plotting\n",
        "residuals_df = pd.DataFrame({\n",
        "    'Residuals_i-1': residuals[:-1],\n",
        "    'Residuals_i': shifted_residuals[:-1]\n",
        "})\n",
        "\n",
        "# Create scatter plot\n",
        "plt.figure(figsize=(10, 6))\n",
        "plt.scatter('Residuals_i-1', 'Residuals_i', data=residuals_df, color='blue')\n",
        "\n",
        "\n",
        "# Add horizontal line at 0\n",
        "plt.axhline(y=0, color='grey', linestyle='--')\n",
        "\n",
        "# Labels and title\n",
        "plt.xlabel(r'$r_{i-1}$')\n",
        "plt.ylabel(r'$r_i$')\n",
        "plt.title('Scatter plot of Residuals: $r_i$ vs $r_{i-1}$ with LOWESS and Linear Fit')\n",
        "plt.show()\n"
      ],
      "metadata": {
        "id": "4xwhO0FuobeC"
      },
      "execution_count": null,
      "outputs": []
    },
    {
      "cell_type": "code",
      "source": [
        "from scipy.stats import shapiro, anderson\n",
        "from statsmodels.stats.diagnostic import lilliefors"
      ],
      "metadata": {
        "id": "ZROdKdB4pluf"
      },
      "execution_count": null,
      "outputs": []
    },
    {
      "cell_type": "code",
      "source": [
        "# Lilliefors test for normality\n",
        "lillie_result = lilliefors(model_interaction.resid)\n",
        "print(\"Lilliefors test result:\", lillie_result)"
      ],
      "metadata": {
        "id": "7DwX7R2Mq4rS"
      },
      "execution_count": null,
      "outputs": []
    },
    {
      "cell_type": "code",
      "source": [
        "# Shapiro-Wilk test for normality\n",
        "shapiro_result = shapiro(model_interaction.resid)\n",
        "print(\"Shapiro-Wilk test result:\", shapiro_result)"
      ],
      "metadata": {
        "id": "GXWvWz_Gq4uM"
      },
      "execution_count": null,
      "outputs": []
    },
    {
      "cell_type": "code",
      "source": [
        "# Anderson-Darling test for normality\n",
        "ad_result = anderson(model_interaction.resid)\n",
        "print(\"Anderson-Darling test result:\", ad_result)"
      ],
      "metadata": {
        "id": "4KPrihSdq4wc"
      },
      "execution_count": null,
      "outputs": []
    },
    {
      "cell_type": "code",
      "source": [],
      "metadata": {
        "id": "00UahzNNq4yw"
      },
      "execution_count": null,
      "outputs": []
    },
    {
      "cell_type": "markdown",
      "source": [
        "### How to improve the model?\n",
        "\n"
      ],
      "metadata": {
        "id": "-ZyC69rrrBRf"
      }
    },
    {
      "cell_type": "code",
      "source": [],
      "metadata": {
        "id": "cqm9Ae9tq41j"
      },
      "execution_count": null,
      "outputs": []
    }
  ]
}