{
  "nbformat": 4,
  "nbformat_minor": 0,
  "metadata": {
    "colab": {
      "private_outputs": true,
      "provenance": [],
      "authorship_tag": "ABX9TyMtGjySlteTiVWNGYyxJ7E5",
      "include_colab_link": true
    },
    "kernelspec": {
      "name": "python3",
      "display_name": "Python 3"
    },
    "language_info": {
      "name": "python"
    }
  },
  "cells": [
    {
      "cell_type": "markdown",
      "metadata": {
        "id": "view-in-github",
        "colab_type": "text"
      },
      "source": [
        "<a href=\"https://colab.research.google.com/github/francji1/01RAD/blob/main/python/01RAD_Ex3_python.ipynb\" target=\"_parent\"><img src=\"https://colab.research.google.com/assets/colab-badge.svg\" alt=\"Open In Colab\"/></a>"
      ]
    },
    {
      "cell_type": "markdown",
      "source": [
        "# 01RAD Exercise 03"
      ],
      "metadata": {
        "id": "7-hPbyBREkme"
      }
    },
    {
      "cell_type": "markdown",
      "source": [
        "###  0. Load the dataset and initial exploration\n",
        "In Python, we'll use the statsmodels library to load the cars dataset and use pandas for data manipulation and exploration.\n",
        "\n",
        "Q1. Display dataset (scatter plot, histograms and density plots of speed and dist variables)\n",
        "For visualizations, we'll primarily use matplotlib and seaborn.\n",
        "\n"
      ],
      "metadata": {
        "id": "_kEG9hXTDuyR"
      }
    },
    {
      "cell_type": "code",
      "source": [
        "\n",
        "import pandas as pd\n",
        "import statsmodels.api as sm\n",
        "import statsmodels.formula.api as smf\n",
        "\n",
        "import matplotlib.pyplot as plt\n",
        "import seaborn as sns\n",
        "\n",
        "import numpy as np"
      ],
      "metadata": {
        "id": "sMuLulCXE4Qg"
      },
      "execution_count": null,
      "outputs": []
    },
    {
      "cell_type": "code",
      "source": [
        "\n",
        "# Load the dataset\n",
        "cars = sm.datasets.get_rdataset(\"cars\").data\n",
        "\n",
        "# Display the head of the dataset\n",
        "head_cars = cars.head()\n",
        "print(head_cars)\n",
        "# Display dataset structure\n",
        "str_cars = cars.dtypes\n",
        "print(str_cars)\n",
        "\n"
      ],
      "metadata": {
        "id": "XMBNjPvzFB_q"
      },
      "execution_count": null,
      "outputs": []
    },
    {
      "cell_type": "markdown",
      "source": [
        "\n",
        "\n",
        "### 1) Display data set (scatter plot, histograms and density plots of speed and dist variables)\n"
      ],
      "metadata": {
        "id": "qVYqpJh3D0rZ"
      }
    },
    {
      "cell_type": "code",
      "source": [
        "# Display summary of the dataset\n",
        "summary_cars = cars.describe()\n",
        "summary_cars\n"
      ],
      "metadata": {
        "id": "mLwC4ea5FI8u"
      },
      "execution_count": null,
      "outputs": []
    },
    {
      "cell_type": "code",
      "source": [
        "\n",
        "# Scatter plot\n",
        "plt.figure(figsize=(10, 6))\n",
        "sns.scatterplot(x=cars['speed'], y=cars['dist'])\n",
        "plt.title('Speed vs Stopping Distances of Cars')\n",
        "plt.xlabel('Speed')\n",
        "plt.ylabel('Stopping Distance')\n",
        "plt.show()\n",
        "\n"
      ],
      "metadata": {
        "id": "SUpVrzYnFe05"
      },
      "execution_count": null,
      "outputs": []
    },
    {
      "cell_type": "code",
      "source": [
        "# Histograms and Density Plots\n",
        "\n",
        "fig, axes = plt.subplots(2, 2, figsize=(15, 10))\n",
        "\n",
        "# Histogram for speed\n",
        "sns.histplot(cars['speed'], kde=False, color='red', ax=axes[0, 0])\n",
        "axes[0, 0].set_title('Histogram for Speed')\n",
        "axes[0, 0].set_xlabel('Speed (mph)')\n",
        "axes[0, 0].set_ylabel('Count')\n",
        "\n",
        "# Density plot for speed\n",
        "sns.kdeplot(cars['speed'], color='red', ax=axes[0, 1])\n",
        "axes[0, 1].set_title('Density Plot for Speed')\n",
        "axes[0, 1].set_xlabel('Speed (mph)')\n",
        "axes[0, 1].set_ylabel('Density')\n",
        "\n",
        "# Histogram for dist\n",
        "sns.histplot(cars['dist'], kde=False, color='blue', ax=axes[1, 0])\n",
        "axes[1, 0].set_title('Histogram for Stopping Distance')\n",
        "axes[1, 0].set_xlabel('Stopping Distance (ft)')\n",
        "axes[1, 0].set_ylabel('Count')\n",
        "\n",
        "# Density plot for dist\n",
        "sns.kdeplot(cars['dist'], color='blue', ax=axes[1, 1])\n",
        "axes[1, 1].set_title('Density Plot for Stopping Distance')\n",
        "axes[1, 1].set_xlabel('Stopping Distance (ft)')\n",
        "axes[1, 1].set_ylabel('Density')\n",
        "\n",
        "plt.tight_layout()\n",
        "plt.show()\n"
      ],
      "metadata": {
        "id": "dPom26e7Ef8i"
      },
      "execution_count": null,
      "outputs": []
    },
    {
      "cell_type": "code",
      "source": [
        "# Scatter plot\n",
        "plt.figure(figsize=(12, 6))\n",
        "plt.subplot(1, 3, 1)\n",
        "sns.scatterplot(data=cars, x='speed', y='dist')\n",
        "plt.title(\"Scatter plot of Speed vs Stopping Distance\")\n",
        "\n",
        "# Histograms and density plots\n",
        "plt.subplot(1, 3, 2)\n",
        "#sns.histplot(simulated_cars['speed'], kde=True, color='blue', label='Speed')\n",
        "sns.histplot(cars['dist'], kde=True, color='red', label='Stopping Distance')\n",
        "plt.legend()\n",
        "plt.title(\"Histogram and Density Plot of Speed and Stopping Distance\")\n",
        "\n",
        "# Histograms and density plots\n",
        "plt.subplot(1, 3, 3)\n",
        "sns.histplot(cars['speed'], kde=True, color='blue', label='Speed')\n",
        "#sns.histplot(simulated_cars['dist'], kde=True, color='red', label='Stopping Distance')\n",
        "plt.legend()\n",
        "plt.title(\"Histogram and Density Plot of Speed and Stopping Distance\")\n",
        "\n",
        "plt.tight_layout()\n",
        "plt.show()\n"
      ],
      "metadata": {
        "id": "6ZxyfVPwHCg5"
      },
      "execution_count": null,
      "outputs": []
    },
    {
      "cell_type": "code",
      "source": [
        "# Pair plot for the  cars dataset\n",
        "sns.pairplot(cars)\n",
        "plt.suptitle('Pair Plot for Cars Dataset', y=1.02)\n",
        "plt.show()"
      ],
      "metadata": {
        "id": "sK-KcGyUKRNj"
      },
      "execution_count": null,
      "outputs": []
    },
    {
      "cell_type": "markdown",
      "source": [
        "\n",
        "### 2) Try model with and without intercept\n"
      ],
      "metadata": {
        "id": "PlnXiJpREaZk"
      }
    },
    {
      "cell_type": "code",
      "source": [
        "\n",
        "# Model without intercept\n",
        "model_without_intercept = smf.ols('dist ~ speed - 1', data=cars).fit()\n",
        "\n",
        "# Model with intercept\n",
        "model_with_intercept = smf.ols('dist ~ speed', data=cars).fit()\n",
        "\n",
        "model_without_intercept.summary(), model_with_intercept.summary()\n"
      ],
      "metadata": {
        "id": "rADYA7n2EgU4"
      },
      "execution_count": null,
      "outputs": []
    },
    {
      "cell_type": "markdown",
      "source": [
        "\n",
        "### 3) Compute \"manually\" OLS estimate of regression parameters and error variance\n"
      ],
      "metadata": {
        "id": "Zo_QZ3C5EbPC"
      }
    },
    {
      "cell_type": "code",
      "source": [
        "# 3) Compute \"manually\" OLS estimate of regression parameters and error variance\n",
        "\n",
        "# Regression matrix X and Response variable Y\n",
        "Y = cars['dist'].values\n",
        "X = np.column_stack((np.ones(len(Y)), cars['speed'].values))\n",
        "\n",
        "# Compute OLS estimate of regression parameters\n",
        "beta_ols = np.linalg.inv(X.T @ X) @ X.T @ Y\n",
        "\n",
        "# Compute the residuals\n",
        "residuals = Y - X @ beta_ols\n",
        "\n",
        "# Compute the error variance\n",
        "n, p = X.shape\n",
        "error_variance = np.sum(residuals**2) / (n - p)\n",
        "\n",
        "beta_ols, error_variance\n"
      ],
      "metadata": {
        "id": "GYLN5e36Egwv"
      },
      "execution_count": null,
      "outputs": []
    },
    {
      "cell_type": "code",
      "source": [],
      "metadata": {
        "id": "bnGuIPqsKf4c"
      },
      "execution_count": null,
      "outputs": []
    },
    {
      "cell_type": "code",
      "source": [
        "# Extracting Residual Standard Error (RSE) and Model Variance\n",
        "RSE = np.sqrt(model_with_intercept.ssr / model_with_intercept.df_resid)\n",
        "model_variance = RSE**2\n",
        "\n",
        "RSE, model_variance"
      ],
      "metadata": {
        "id": "op9rPl6JJOsQ"
      },
      "execution_count": null,
      "outputs": []
    },
    {
      "cell_type": "code",
      "source": [
        "!pip install rpy2\n",
        "%load_ext rpy2.ipython"
      ],
      "metadata": {
        "id": "ab3Wb2IqKCRg"
      },
      "execution_count": null,
      "outputs": []
    },
    {
      "cell_type": "code",
      "source": [
        "%%R\n",
        "summary(cars)"
      ],
      "metadata": {
        "id": "pKxXv8O3LOch"
      },
      "execution_count": null,
      "outputs": []
    },
    {
      "cell_type": "code",
      "source": [],
      "metadata": {
        "id": "R24IXqQeLOfr"
      },
      "execution_count": null,
      "outputs": []
    },
    {
      "cell_type": "code",
      "source": [
        "%%R\n",
        "# 3) Compute \"manually\" OLS estimate of regression parameters and error variance\n",
        "# 4) Compute \"manually\" variance of estimated parameters\n",
        "\n",
        "# simple linear model - simple regression without intercept\n",
        "cars_lm1 <- lm(dist ~ -1 +speed , data = cars)\n",
        "# simple linear model - simple regression with intercept\n",
        "cars_lm2 <- lm(dist ~  speed , data = cars)\n",
        "\n",
        "\n",
        "Y  = cars$dist\n",
        "X1 = rep(1,times=length(Y))\n",
        "X2 = cars$speed\n",
        "X <- cbind(X1,X2)\n",
        "X\n",
        "# model  with intercept\n",
        "# approach 1\n",
        "beta_2_lm2 <- cor(X2,Y) * (sd(Y)/sd(X2))\n",
        "beta_1_lm2 <- mean(Y) - beta_2_lm2*mean(X2)\n",
        "cbind(beta_1_lm2,beta_2_lm2)\n",
        "# approach 2\n",
        "solve(t(X)%*%(X))%*%(t(X)%*%Y)\n",
        "# approach 3 (from lm())\n",
        "coefficients(cars_lm2)\n",
        "\n",
        "\n",
        "# model  without intercept\n",
        "solve(t(X2)%*%(X2))%*%(t(X2)%*%Y)\n",
        "coefficients(cars_lm1)\n",
        "\n",
        "\n",
        "#  variance of parameters\n",
        "# manual computation of residuals\n",
        "resid <-   Y - X%*%coefficients(cars_lm2)\n",
        "summary(resid)\n",
        "# same\n",
        "residuals(cars_lm2)\n",
        "sum(residuals(cars_lm2)==resid)\n",
        "\n",
        "n <- length(Y)\n",
        "p <-  2\n",
        "sigma <- sqrt((1/(n-p))*sum(residuals(cars_lm2)^2))\n",
        "summary(cars_lm2)\n",
        "summary(cars_lm2)$sigma\n",
        "\n",
        "\n",
        "# check\n",
        "MSE  <- sum(resid^2)/(length(resid)) # MSE - biased MLE of residual variance\n",
        "RMSE <- sqrt(MSE)                    # Root Mean Square Error (RMSE)\n",
        "\n",
        "# IN Regression:\n",
        "# The term MSE can be used to refer to the unbiased estimate of error variance too:\n",
        "# Unbiased Pearson estimation of residual variance\n",
        "sigma2  <- sum(resid^2)/(length(resid)-2)\n",
        "sigma   <- sqrt(sigma2)\n",
        "\n",
        "\n",
        "var_b2 <- sigma^2*(1/sum((X2 - mean(X2))^2))\n",
        "sd_b2  <- sqrt(var_b2)\n",
        "var_b2\n",
        "sd_b2\n",
        "\n",
        "\n",
        "var_b1  <- sigma^2*(sum(X2^2)/(n*sum((X2 - mean(X2))^2)))\n",
        "sd_b1   <- sqrt(var_b1)\n",
        "var_b1\n",
        "sd_b1\n",
        "\n",
        "# compare with a simple linear model - simple regression with intercept\n",
        "\n",
        "summary(cars_lm2)$coefficients"
      ],
      "metadata": {
        "id": "GFcMEmuuLs9J"
      },
      "execution_count": null,
      "outputs": []
    },
    {
      "cell_type": "markdown",
      "source": [
        "\n",
        "### 4) Compute \"manually\" variance of estimated parameters\n"
      ],
      "metadata": {
        "id": "DPEXo-RyEcMJ"
      }
    },
    {
      "cell_type": "code",
      "source": [
        "# Compute the variance-covariance matrix of the estimated parameters\n",
        "var_cov_matrix = error_variance * np.linalg.inv(X.T @ X)\n",
        "\n",
        "# Extract variances of the parameters\n",
        "var_beta = np.diagonal(var_cov_matrix)\n",
        "\n",
        "# Extract standard errors of the parameters\n",
        "se_beta = np.sqrt(var_beta)\n",
        "\n",
        "var_beta, se_beta\n",
        "# COMPARE WITH  model_with_intercept.summary()"
      ],
      "metadata": {
        "id": "ZiTr70uoEhOK"
      },
      "execution_count": null,
      "outputs": []
    },
    {
      "cell_type": "markdown",
      "source": [
        "\n",
        "### 5) Plot data with both estimated regression lines\n"
      ],
      "metadata": {
        "id": "Nu2wKORQEc6H"
      }
    },
    {
      "cell_type": "code",
      "source": [
        "plt.figure(figsize=(10, 6))\n",
        "plt.scatter(cars['speed'], cars['dist'], color='black', label='Data')\n",
        "plt.plot(cars['speed'], model_without_intercept.predict(cars['speed']), color='blue', label='Without Intercept')\n",
        "plt.plot(cars['speed'], model_with_intercept.predict(cars['speed']), color='red', label='With Intercept')\n",
        "plt.xlabel('Speed')\n",
        "plt.ylabel('Stopping Distance')\n",
        "plt.title('Speed vs Stopping Distance with Regression Lines')\n",
        "plt.legend()\n",
        "plt.grid(True)\n",
        "plt.show()"
      ],
      "metadata": {
        "id": "_NM2Q9pvEhsE"
      },
      "execution_count": null,
      "outputs": []
    },
    {
      "cell_type": "markdown",
      "source": [
        "\n",
        "### 6) Investigate output from the lm function\n",
        "* Model Data: The first few rows of the original endogenous (or dependent) variable, dist, from the model.\n",
        "* Fitted Values: The first few rows of the predicted values for dist based on the model.\n",
        "* Residuals: The first few rows of the residuals, which represent the difference between the observed and fitted values.\n",
        "* Degrees of Freedom of the Residuals:\n"
      ],
      "metadata": {
        "id": "h87kQxQ3Edpv"
      }
    },
    {
      "cell_type": "code",
      "source": [
        "# Extracting various outputs from the model\n",
        "model_data = model_with_intercept.model.data.orig_endog\n",
        "fitted_values = model_with_intercept.fittedvalues\n",
        "residuals = model_with_intercept.resid\n",
        "df_residuals = model_with_intercept.df_resid\n",
        "\n",
        "model_data.head(), fitted_values.head(), residuals.head(), df_residuals"
      ],
      "metadata": {
        "id": "aQzPEoOlEiIa"
      },
      "execution_count": null,
      "outputs": []
    },
    {
      "cell_type": "markdown",
      "source": [
        "\n",
        "### 7) Whats the estimated stopping distance for a car going 20mph?\n",
        "* use both models  \n",
        "* compare with the estimated stopping distance for a car going 30mph?\n",
        "* use both models, can we predict this?\n",
        "\n",
        "$\\hat{\\mu}$(dist) = -17.58 + 3.93(speed)\n",
        "\n",
        "We estimated average stopping distance (in feet) for a car going (speed) mph.\n",
        "\n",
        "Interpretation of the slope:\n",
        "\n",
        "Estimated slope $\\hat{\\beta}_2$ = 3.93 represents the increase in average stopping distance for each mile per hour faster that the car drives.\n",
        "\n",
        "Interpretation of the intercept:\n",
        "\n",
        "Estimated intercept $\\hat{\\beta}_1$ = -17.58 represents the mean stopping distance for a car traveling 0 mph (make no sense in our example !!!)\n",
        "\n",
        "Extrapolating can be dangerous and can lead to  nonsensical results."
      ],
      "metadata": {
        "id": "4ldr_rRXEefT"
      }
    },
    {
      "cell_type": "code",
      "source": [
        "# Predicting for 20mph and 30mph for both models\n",
        "speed_values = pd.DataFrame({'speed': [20, 30]})\n",
        "predicted_without_intercept = model_without_intercept.predict(speed_values)\n",
        "predicted_with_intercept = model_with_intercept.predict(speed_values)\n",
        "\n",
        "predicted_values = pd.DataFrame({\n",
        "    'Speed': [20, 30],\n",
        "    'Without Intercept': predicted_without_intercept,\n",
        "    'With Intercept': predicted_with_intercept\n",
        "})\n",
        "\n",
        "predicted_values\n"
      ],
      "metadata": {
        "id": "cu8HQD_-MqdY"
      },
      "execution_count": null,
      "outputs": []
    },
    {
      "cell_type": "code",
      "source": [
        "from scipy.stats import t\n"
      ],
      "metadata": {
        "id": "lNWwcnlvN1DR"
      },
      "execution_count": null,
      "outputs": []
    },
    {
      "cell_type": "code",
      "source": [
        "# We already have the data loaded and the model fitted, so we'll continue from the predictions\n",
        "\n",
        "# t-test of significance of parameters (manually computed)\n",
        "# H0 hypothesis is beta_i = 0\n",
        "beta_H0 = 0\n",
        "Sb_1 = model_with_intercept.bse[0]\n",
        "UCI_1 = model_with_intercept.params[0] + t.ppf(0.975, df=n-2) * Sb_1\n",
        "LCI_1 = model_with_intercept.params[0] + t.ppf(0.025, df=n-2) * Sb_1\n",
        "\n",
        "Sb_2 = model_with_intercept.bse[1]\n",
        "UCI_2 = model_with_intercept.params[1] + t.ppf(0.975, df=n-2) * Sb_2\n",
        "LCI_2 = model_with_intercept.params[1] + t.ppf(0.025, df=n-2) * Sb_2\n",
        "\n",
        "conf_int_manually = pd.DataFrame({\n",
        "    'lower CI 2.5 %': [LCI_1, LCI_2],\n",
        "    'estimated val.': [model_with_intercept.params[0], model_with_intercept.params[1]],\n",
        "    'upper CI 97.5 %': [UCI_1, UCI_2]\n",
        "}, index=['Intercept', 'Speed'])\n",
        "\n",
        "# t-test of significance of parameters (manual computation)\n",
        "tval_1_manual = (model_with_intercept.params[0] - beta_H0) / Sb_1\n",
        "tval_2_manual = (model_with_intercept.params[1] - beta_H0) / Sb_2\n",
        "\n",
        "pval_1_manual = 2 * (1 - t.cdf(np.abs(tval_1_manual), df=model_with_intercept.df_resid))\n",
        "pval_2_manual = 2 * (1 - t.cdf(np.abs(tval_2_manual), df=model_with_intercept.df_resid))\n",
        "\n",
        "coef_manually = pd.DataFrame({\n",
        "    'Coefficient': model_with_intercept.params.values,\n",
        "    'Standard Error': [Sb_1, Sb_2],\n",
        "    't value': [tval_1_manual, tval_2_manual],\n",
        "    'p value': [pval_1_manual, pval_2_manual]\n",
        "}, index=['Intercept', 'Speed'])\n",
        "\n",
        "results_manual = {\n",
        "    'Confidence Intervals (manual computation)': conf_int_manually,\n",
        "    'Coefficients (manual computation)': coef_manually\n",
        "}\n",
        "\n",
        "print(conf_int_manually)\n",
        "print(coef_manually)\n"
      ],
      "metadata": {
        "id": "1taOFkGED_t1"
      },
      "execution_count": null,
      "outputs": []
    },
    {
      "cell_type": "code",
      "source": [
        "t_values = model_with_intercept.tvalues\n",
        "t_values"
      ],
      "metadata": {
        "id": "mST1M4QIO_oG"
      },
      "execution_count": null,
      "outputs": []
    },
    {
      "cell_type": "code",
      "source": [
        "p_values = model_with_intercept.pvalues\n",
        "p_values"
      ],
      "metadata": {
        "id": "4Z8vujGHPCx1"
      },
      "execution_count": null,
      "outputs": []
    },
    {
      "cell_type": "code",
      "source": [
        "%%R\n",
        "# Mean Square Error and Standard Error\n",
        "n = dim(cars)[1]\n",
        "p = dim(cars)[2] - 1\n",
        "MSE_2a = sum(residuals(cars_lm2)^2)/(n-p-1) # Mean square error  - manually from the definition\n",
        "sigma_hat2a = sqrt(MSE_2a)                  # Residual standard error (estimation of standard deviation)\n",
        "sigma_hat2b = summary(cars_lm2)$sigma       # by R function\n",
        "cbind(sigma_hat2a, sigma_hat2b)\n",
        "sigma_hat = sigma_hat2a\n",
        "# compare to summary(cars_lm2)\n",
        "\n",
        "\n",
        "# Interval Estimates of the Parameters\n",
        "coef(cars_lm2)\n",
        "confint(cars_lm2)\n",
        "conf_int = as.data.frame(cbind(confint(cars_lm2)[,1], coef(cars_lm2), confint(cars_lm2)[,2]))\n",
        "names(conf_int) = c(\"lower CI 2.5 %\", \"estimate\", \"upper CI 97.5 %\"  )\n",
        "conf_int\n",
        "summary(cars_lm2)$coef\n",
        "#summary(cars_lm2)$coefficients\n",
        "\n",
        "# another confidence interval - 99%\n",
        "confint(cars_lm2, level = 0.99)\n",
        "\n",
        "\n",
        "\n",
        "# t-test of significance of parameters\n",
        "Sb_1 = summary(cars_lm2)$coef[1,2]\n",
        "UCI_1 = coef(cars_lm2)[1]+qt(.975,df = n-2)*Sb_1\n",
        "LCI_1 = coef(cars_lm2)[1]+qt(.025, df = n-2)*Sb_1\n",
        "\n",
        "Sb_2 = summary(cars_lm2)$coef[2,2]\n",
        "UCI_2 = coef(cars_lm2)[2]+qt(.975, df = n-2)*Sb_2\n",
        "LCI_2 = coef(cars_lm2)[2]+qt(.025, df = n-2)*Sb_2\n",
        "\n",
        "conf_int_manually = rbind( c(LCI_1,coef(cars_lm2)[1],UCI_1), c(LCI_2,coef(cars_lm2)[2],UCI_2))\n",
        "conf_int_manually = as.data.frame(conf_int_manually)\n",
        "names(conf_int_manually) = c(\"lower CI 2.5 %\", \"estimateed val.\", \"upper CI 97.5 %\"  )\n",
        "row.names(conf_int_manually) = c(\"Intercept\",\"Speed\")\n",
        "conf_int_manually"
      ],
      "metadata": {
        "id": "dIG9XKjsOP65"
      },
      "execution_count": null,
      "outputs": []
    },
    {
      "cell_type": "code",
      "source": [
        "%%R\n",
        "# t-test of significance of parameters\n",
        "# H0 hypothesis is beta_i = 0\n",
        "beta_H0 = 0\n",
        "tval_1 = (summary(cars_lm2)$coef[1,1]-beta_H0)/summary(cars_lm2)$coef[1,2]\n",
        "tval_2 = (summary(cars_lm2)$coef[2,1]-beta_H0)/summary(cars_lm2)$coef[2,2]\n",
        "\n",
        "pval_1 = 2*pt(abs(tval_1), cars_lm2$df.residual, lower.tail = FALSE)\n",
        "pval_2 = 2*pt(abs(tval_2), cars_lm2$df.residual, lower.tail = FALSE)\n",
        "coef_manually = rbind( c(coef(cars_lm2)[1], Sb_1, tval_1,pval_1),\n",
        "                       c(coef(cars_lm2)[2], Sb_2, tval_2,pval_2))\n",
        "coef_manually\n",
        "#comapre with\n",
        "summary(cars_lm2)$coef\n"
      ],
      "metadata": {
        "id": "Cm8pFuGWOmDi"
      },
      "execution_count": null,
      "outputs": []
    },
    {
      "cell_type": "code",
      "source": [
        "\n",
        "#  Confidence intervals vs. Prediction intervals\n",
        "\n",
        "# Confidence intervals tell us about how well we have determined the mean.\n",
        "# Prediction intervals tell us  where we can expect to see the next data point sampled."
      ],
      "metadata": {
        "id": "TBsoOyZZOtn3"
      },
      "execution_count": null,
      "outputs": []
    },
    {
      "cell_type": "markdown",
      "source": [
        "\n",
        "### 8) Is the simple linear model good approximation for these problems? Suggest next steps.\n",
        "\n"
      ],
      "metadata": {
        "id": "9W-z5SmKEfMK"
      }
    },
    {
      "cell_type": "code",
      "source": [],
      "metadata": {
        "id": "rVr7laowO0te"
      },
      "execution_count": null,
      "outputs": []
    },
    {
      "cell_type": "code",
      "source": [],
      "metadata": {
        "id": "0PgnxuTPPLPD"
      },
      "execution_count": null,
      "outputs": []
    }
  ]
}