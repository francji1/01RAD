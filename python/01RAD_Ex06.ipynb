{
  "nbformat": 4,
  "nbformat_minor": 0,
  "metadata": {
    "colab": {
      "private_outputs": true,
      "provenance": [],
      "authorship_tag": "ABX9TyMTQ+JEVP079wCctdTQb0Vo",
      "include_colab_link": true
    },
    "kernelspec": {
      "name": "python3",
      "display_name": "Python 3"
    },
    "language_info": {
      "name": "python"
    }
  },
  "cells": [
    {
      "cell_type": "markdown",
      "metadata": {
        "id": "view-in-github",
        "colab_type": "text"
      },
      "source": [
        "<a href=\"https://colab.research.google.com/github/francji1/01RAD/blob/main/python/01RAD_Ex06.ipynb\" target=\"_parent\"><img src=\"https://colab.research.google.com/assets/colab-badge.svg\" alt=\"Open In Colab\"/></a>"
      ]
    },
    {
      "cell_type": "markdown",
      "source": [
        "## 01RAD Exercise 6\n"
      ],
      "metadata": {
        "id": "WOO8sHUxU_vi"
      }
    },
    {
      "cell_type": "code",
      "execution_count": null,
      "metadata": {
        "id": "bpfOqbJkU-d-"
      },
      "outputs": [],
      "source": [
        "import pandas as pd\n",
        "import statsmodels.api as sm\n",
        "import statsmodels.formula.api as smf\n",
        "from statsmodels.formula.api import ols\n",
        "import matplotlib.pyplot as plt\n",
        "import numpy as np\n",
        "import seaborn as sns\n"
      ]
    },
    {
      "cell_type": "markdown",
      "source": [
        "Imagine  that you are statistical consultants asked to build a marketing plan for next year that will result in high product sales. On the basis of this data and your final model answer following questions:\n",
        "\n",
        "1 - Is there a relationship between advertising budget and sales?\n",
        "\n",
        "2 - Which media contribute to sales, i.e. do all three media - TV, radio, and newspapers contribute to sales?\n",
        "\n",
        "3 - Which media generate the biggest boost in sales?\n",
        "\n",
        "4- How strong is the relationship between advertising budget and sales?\n",
        "\n",
        "5 - How much increase in sales is associated with a given increase in TV advertising?\n",
        "\n",
        "6 - How much increase in sales is associated with a given increase in Radio advertising?\n",
        "\n",
        "7 - How accurately can we estimate the effect of each medium on sales?\n",
        "\n",
        "8 - How accurately can we predict future sales?\n",
        "\n",
        "9 - Is there synergy among the advertising media?\n",
        "\n",
        "10 - Imagine you have 100k $, what is the best strategy how to spend it in advertising?\n",
        "\n",
        "11 - How much more pruduct will we sell, if we spend 10k$ in TV and 20k$ in radio advertising?\n",
        "\n",
        "12 - What is the 95% confidence interval of previous question?\n",
        "\n",
        "Problem described in the book:  An Introduction to Statistical Learning with Applications in R  https://faculty.marshall.usc.edu/gareth-james/ISL/\n"
      ],
      "metadata": {
        "id": "Vw5hhn08WibV"
      }
    },
    {
      "cell_type": "code",
      "source": [
        "# Load the data\n",
        "Advert = pd.read_csv(\"https://raw.githubusercontent.com/francji1/01RAD/main/data/Advert.csv\", sep=\",\")\n",
        "Advert.head()"
      ],
      "metadata": {
        "id": "l82DP9YHVFHy"
      },
      "execution_count": null,
      "outputs": []
    },
    {
      "cell_type": "code",
      "source": [
        "print(Advert.describe())\n",
        "print(Advert.info())"
      ],
      "metadata": {
        "id": "R3tnsQNRVFLR"
      },
      "execution_count": null,
      "outputs": []
    },
    {
      "cell_type": "code",
      "source": [
        "# Simple linear regression models\n",
        "model_tv = smf.ols('sales ~ TV', data=Advert).fit()\n",
        "print(model_tv.summary())\n",
        "\n",
        "model_ra = smf.ols('sales ~ radio', data=Advert).fit()\n",
        "print(model_ra.summary())\n",
        "\n",
        "model_np = smf.ols('sales ~ newspaper', data=Advert).fit()\n",
        "print(model_np.summary())"
      ],
      "metadata": {
        "id": "CazRGLkbV5nd"
      },
      "execution_count": null,
      "outputs": []
    },
    {
      "cell_type": "code",
      "source": [],
      "metadata": {
        "id": "_rPh2gACWEyd"
      },
      "execution_count": null,
      "outputs": []
    },
    {
      "cell_type": "code",
      "source": [],
      "metadata": {
        "id": "1Gft-Q6ZWE3v"
      },
      "execution_count": null,
      "outputs": []
    },
    {
      "cell_type": "code",
      "source": [
        "# Predictions for simple models\n",
        "new_data = pd.DataFrame({\n",
        "    'TV': np.arange(0, 301, 5),\n",
        "    'radio': np.arange(0, 301, 5),\n",
        "    'newspaper': np.arange(0, 301, 5)\n",
        "})\n",
        "\n",
        "predictions_tv = model_tv.get_prediction(new_data).summary_frame()\n",
        "predictions_ra = model_ra.get_prediction(new_data).summary_frame()\n",
        "predictions_np = model_np.get_prediction(new_data).summary_frame()\n",
        "\n",
        "# Plotting\n",
        "sns.scatterplot(x='TV', y='sales', data=Advert)\n",
        "sns.lineplot(x=new_data['TV'], y=predictions_tv['mean'], color=\"red\")\n",
        "plt.fill_between(new_data['TV'], predictions_tv['obs_ci_lower'], predictions_tv['obs_ci_upper'], color='blue', alpha=0.3)\n",
        "plt.show()"
      ],
      "metadata": {
        "id": "3zApclDpWE6d"
      },
      "execution_count": null,
      "outputs": []
    },
    {
      "cell_type": "code",
      "source": [
        "\n",
        "# Create a figure with subplots\n",
        "fig, axs = plt.subplots(1, 3, figsize=(15, 5))\n",
        "\n",
        "# TV vs Sales\n",
        "sns.scatterplot(x='TV', y='sales', data=Advert, ax=axs[0])\n",
        "model_tv = ols('sales ~ TV', data=Advert).fit()\n",
        "sns.lineplot(x='TV', y=model_tv.predict(Advert['TV']), data=Advert, ax=axs[0], color='blue')\n",
        "\n",
        "# Radio vs Sales\n",
        "sns.scatterplot(x='radio', y='sales', data=Advert, ax=axs[1])\n",
        "model_ra = ols('sales ~ radio', data=Advert).fit()\n",
        "sns.lineplot(x='radio', y=model_ra.predict(Advert['radio']), data=Advert, ax=axs[1], color='blue')\n",
        "\n",
        "# Newspaper vs Sales\n",
        "sns.scatterplot(x='newspaper', y='sales', data=Advert, ax=axs[2])\n",
        "model_np = ols('sales ~ newspaper', data=Advert).fit()\n",
        "sns.lineplot(x='newspaper', y=model_np.predict(Advert['newspaper']), data=Advert, ax=axs[2], color='blue')\n",
        "\n",
        "# Set the title for each subplot\n",
        "axs[0].set_title('TV Advertisements vs Sales')\n",
        "axs[1].set_title('Radio Advertisements vs Sales')\n",
        "axs[2].set_title('Newspaper Advertisements vs Sales')\n",
        "\n",
        "plt.tight_layout()\n",
        "plt.show()"
      ],
      "metadata": {
        "id": "giWz7RmIWE9V"
      },
      "execution_count": null,
      "outputs": []
    },
    {
      "cell_type": "code",
      "source": [],
      "metadata": {
        "id": "Urxz2bbWXwcK"
      },
      "execution_count": null,
      "outputs": []
    },
    {
      "cell_type": "code",
      "source": [],
      "metadata": {
        "id": "zS_viMk4Xwez"
      },
      "execution_count": null,
      "outputs": []
    },
    {
      "cell_type": "code",
      "source": [
        "# Models with and without interactions\n",
        "model0 = smf.ols('sales ~ TV * radio * newspaper', data=Advert).fit()\n",
        "print(model0.summary())\n",
        "print(model0.conf_int())\n",
        "\n",
        "model1 = smf.ols('sales ~ TV + radio + newspaper', data=Advert).fit()\n",
        "print(model1.summary())\n",
        "print(model1.conf_int())\n",
        "\n",
        "model2 = smf.ols('sales ~ TV * radio', data=Advert).fit()\n",
        "print(model2.summary())\n",
        "print(model2.conf_int())"
      ],
      "metadata": {
        "id": "7v0yogGjWE1K"
      },
      "execution_count": null,
      "outputs": []
    },
    {
      "cell_type": "code",
      "source": [
        "from statsmodels.stats.outliers_influence import variance_inflation_factor"
      ],
      "metadata": {
        "id": "skcpi7ZdXwiA"
      },
      "execution_count": null,
      "outputs": []
    },
    {
      "cell_type": "code",
      "source": [
        "Advert.columns"
      ],
      "metadata": {
        "id": "FM8iMj2zfV-7"
      },
      "execution_count": null,
      "outputs": []
    },
    {
      "cell_type": "code",
      "source": [
        "variables = Advert.columns[1:-1]  # Skipping the first and last columns\n",
        "\n",
        "# DataFrame to store VIF values\n",
        "vif_data = pd.DataFrame()\n",
        "vif_data[\"feature\"] = variables\n",
        "\n",
        "# Create a new DataFrame for the independent variables (predictors) only\n",
        "X = Advert[variables]\n",
        "X = sm.add_constant(X)\n",
        "\n",
        "# Calculate VIF for each predictor\n",
        "vif_data[\"VIF\"] = [1 / (1 - sm.OLS(X[col], X.loc[:, X.columns != col]).fit().rsquared) for col in variables]\n",
        "print(vif_data)"
      ],
      "metadata": {
        "id": "RiTqhjvKgWjV"
      },
      "execution_count": null,
      "outputs": []
    },
    {
      "cell_type": "code",
      "source": [],
      "metadata": {
        "id": "YbEnGwbXecsd"
      },
      "execution_count": null,
      "outputs": []
    },
    {
      "cell_type": "code",
      "source": [
        "variables = Advert.columns[1:-1]  # Skip the first and the last column\n",
        "vif_dict = {}\n",
        "Advert_x = Advert.iloc[:, 1:-1]\n",
        "print(variables)\n",
        "for variable in variables:\n",
        "    # The independent variables set.\n",
        "    x_vars = Advert_x.drop([variable], axis=1)\n",
        "    # The dependent variable.\n",
        "    y_var = Advert_x[variable]\n",
        "\n",
        "    # Add constant for OLS model\n",
        "    x_vars_const = sm.add_constant(x_vars)\n",
        "    # Fit the model\n",
        "    model = sm.OLS(y_var, x_vars_const).fit()\n",
        "\n",
        "    # Calculate R-squared value\n",
        "    rsq = model.rsquared\n",
        "    #print(model.summary())\n",
        "    # Calculate VIF\n",
        "    vif = 1 / (1 - rsq)\n",
        "\n",
        "    vif_dict[variable] = vif\n",
        "\n",
        "# Display the VIF values\n",
        "vif_dict\n"
      ],
      "metadata": {
        "id": "IBMjI7fTYKQX"
      },
      "execution_count": null,
      "outputs": []
    },
    {
      "cell_type": "code",
      "source": [
        "# Compute the correlation matrix for TV, radio, newspaper, and sales\n",
        "correlation_matrix = Advert[['TV', 'radio', 'newspaper', 'sales']].corr()\n",
        "correlation_matrix"
      ],
      "metadata": {
        "id": "VNnHgsa8YKTI"
      },
      "execution_count": null,
      "outputs": []
    },
    {
      "cell_type": "code",
      "source": [],
      "metadata": {
        "id": "fuKxq5cUYKVb"
      },
      "execution_count": null,
      "outputs": []
    },
    {
      "cell_type": "markdown",
      "source": [
        "### Is at least one of the predictors X1, X2,...,Xp useful in predicting the response?\n",
        "\n",
        "To determine if at least one predictor is useful, look at the F-statistic and its corresponding p-value from the overall regression model."
      ],
      "metadata": {
        "id": "bllLST0MjHuC"
      }
    },
    {
      "cell_type": "markdown",
      "source": [],
      "metadata": {
        "id": "IhbaOUG3kD8Y"
      }
    },
    {
      "cell_type": "code",
      "source": [
        "# Fit the model with TV, radio, and newspaper as predictors\n",
        "model1 = smf.ols('sales ~ TV + radio + newspaper', data=Advert).fit()\n",
        "\n",
        "# Perform the F-test to test if all parameters (excluding the intercept) are zero\n",
        "f_statistic = model1.fvalue\n",
        "f_pvalue = model1.f_pvalue\n",
        "\n",
        "print(f\"F-statistic: {f_statistic}\")\n",
        "print(f\"P-value: {f_pvalue}\")"
      ],
      "metadata": {
        "id": "UW8hLhH3YKX5"
      },
      "execution_count": null,
      "outputs": []
    },
    {
      "cell_type": "code",
      "source": [
        "from scipy.stats import norm, t, f\n",
        "import scipy.stats"
      ],
      "metadata": {
        "id": "avfAlEf1lWmK"
      },
      "execution_count": null,
      "outputs": []
    },
    {
      "cell_type": "code",
      "source": [
        "# Fit the model with TV, radio, and newspaper as predictors\n",
        "model1 = smf.ols('sales ~ TV + radio + newspaper', data=Advert).fit()\n",
        "\n",
        "# Calculate TSS\n",
        "y_mean = Advert['sales'].mean()\n",
        "TSS = ((Advert['sales'] - y_mean)**2).sum()\n",
        "\n",
        "# RSS is the sum of squared residuals from the model\n",
        "RSS = model1.ssr\n",
        "\n",
        "# Number of predictors p (excluding the intercept)\n",
        "p = len(model1.params) - 1\n",
        "\n",
        "# Number of observations n\n",
        "n = Advert.shape[0]\n",
        "\n",
        "# Calculate the F-statistic\n",
        "F = ((TSS - RSS) / p) / (RSS / (n - p - 1))\n",
        "\n",
        "# Get the p-value from the F-distribution\n",
        "p_value = 1 - f.cdf(F, p, n - p - 1)\n",
        "\n",
        "F, p_value\n"
      ],
      "metadata": {
        "id": "kd_ObZt8YKai"
      },
      "execution_count": null,
      "outputs": []
    },
    {
      "cell_type": "code",
      "source": [
        "import pandas as pd\n",
        "import statsmodels.api as sm\n",
        "import statsmodels.formula.api as smf\n",
        "import numpy as np\n",
        "from statsmodels.stats.anova import anova_lm\n",
        "from itertools import combinations\n",
        "\n",
        "# Assuming the Advert dataframe is already loaded and contains the columns 'TV', 'Radio', 'Newspaper', 'Sales'\n",
        "\n",
        "# Fit full model with all interactions\n",
        "model1 = smf.ols('sales ~ TV * radio * newspaper', data=Advert).fit()\n",
        "#print(model1.summary())\n",
        "\n",
        "# Compare models using ANOVA\n",
        "model2 = smf.ols('sales ~ TV * radio', data=Advert).fit()\n",
        "#print(anova_lm(model1, model2))\n",
        "\n",
        "# Perform stepwise regression (manual implementation since statsmodels does not have a built-in function)\n",
        "def stepwise_selection(X, y,\n",
        "                       initial_list=[],\n",
        "                       threshold_in=0.01,\n",
        "                       threshold_out = 0.05,\n",
        "                       verbose=True):\n",
        "    \"\"\" Perform a forward-backward feature selection\n",
        "    based on p-value from statsmodels.api.OLS\n",
        "    Arguments:\n",
        "        X - pandas.DataFrame with candidate features\n",
        "        y - list-like with the target\n",
        "        initial_list - list of features to start with (column names of X)\n",
        "        threshold_in - include a feature if its p-value < threshold_in\n",
        "        threshold_out - exclude a feature if its p-value > threshold_out\n",
        "        verbose - whether to print the sequence of inclusions and exclusions\n",
        "    Returns: list of selected features\n",
        "    Always set threshold_in < threshold_out to avoid infinite looping.\n",
        "    See https://en.wikipedia.org/wiki/Stepwise_regression for the details\n",
        "    \"\"\"\n",
        "    included = list(initial_list)\n",
        "    while True:\n",
        "        changed=False\n",
        "        # forward step\n",
        "        excluded = list(set(X.columns)-set(included))\n",
        "        new_pval = pd.Series(index=excluded, dtype=float)\n",
        "        for new_column in excluded:\n",
        "            model = sm.OLS(y, sm.add_constant(pd.DataFrame(X[included+[new_column]]))).fit()\n",
        "            new_pval[new_column] = model.pvalues[new_column]\n",
        "        best_pval = new_pval.min()\n",
        "        if best_pval < threshold_in:\n",
        "            best_feature = new_pval.idxmin()\n",
        "            included.append(best_feature)\n",
        "            changed=True\n",
        "            if verbose:\n",
        "                print('Add  {:30} with p-value {:.6}'.format(best_feature, best_pval))\n",
        "\n",
        "        # backward step\n",
        "        model = sm.OLS(y, sm.add_constant(pd.DataFrame(X[included]))).fit()\n",
        "        # use all coefs except intercept\n",
        "        pvalues = model.pvalues.iloc[1:]\n",
        "        worst_pval = pvalues.max() # null if pvalues is empty\n",
        "        if worst_pval > threshold_out:\n",
        "            changed=True\n",
        "            worst_feature = pvalues.idxmax()\n",
        "            included.remove(worst_feature)\n",
        "            if verbose:\n",
        "                print('Drop {:30} with p-value {:.6}'.format(worst_feature, worst_pval))\n",
        "        if not changed:\n",
        "            break\n",
        "    return included\n",
        "\n",
        "result = stepwise_selection(Advert[['TV', 'radio', 'newspaper']], Advert['sales'])\n",
        "print(result)\n",
        "#"
      ],
      "metadata": {
        "id": "8FXpIzWQYKdU"
      },
      "execution_count": null,
      "outputs": []
    },
    {
      "cell_type": "code",
      "source": [],
      "metadata": {
        "id": "XvGnQ63dku1n"
      },
      "execution_count": null,
      "outputs": []
    },
    {
      "cell_type": "code",
      "source": [
        "!pip install rpy2\n",
        "%load_ext rpy2.ipython\n",
        "from rpy2.robjects import pandas2ri\n",
        "\n",
        ""
      ],
      "metadata": {
        "id": "F8S8w89glPLq"
      },
      "execution_count": null,
      "outputs": []
    },
    {
      "cell_type": "code",
      "source": [
        "%%R -o trees\n",
        "library(MASS)\n",
        "install.packages('leaps')\n",
        "library(leaps)\n",
        "\n",
        "Advert <- read.table(\"https://raw.githubusercontent.com/francji1/01RAD/main/data/Advert.csv\",header=TRUE,sep=\",\")\n",
        "head(Advert)\n",
        "\n",
        "\n",
        "model1 <-  lm(sales ~ TV*radio*newspaper, data = Advert) # model with all interactions\n",
        "summary(model1)\n",
        "\n",
        "model2 <-  lm(sales ~ TV*radio, data = Advert)\n",
        "summary(model2)\n",
        "\n",
        "anova(model1,model2)\n",
        "\n",
        "pairs(Advert)\n",
        "n = nrow(Advert)\n",
        "\n",
        "model_step0 <- step(model1)   # what is step function doing?\n",
        "summary(model_step0)\n",
        "\n",
        "anova(model1,model2)\n",
        "anova(model1,model_step0)\n",
        "anova(model2,model_step0)\n",
        "\n",
        "\n",
        "# BIC\n",
        "model_step1 <- stepAIC(model1, k=log(n))\n",
        "summary(model_step1)\n",
        "\n",
        "# AIC\n",
        "model_step2 <- stepAIC(model1, k=2)\n",
        "summary(model_step2)\n",
        "model_step2 <- stepAIC(model1, direction=\"both\")\n",
        "model_step2$anova\n",
        "\n",
        "# compare obtained model from BIC and AIC step functions\n",
        "anova(model_step1,model_step2)\n",
        "\n",
        "# Drop 1 predictor from full model\n",
        "# which one?\n",
        "dropterm(model1, test = \"F\")  # 'arg' should be one of “none”, “Chisq”, “F”\n",
        "\n",
        "# Add 1 predictor to null model (model with intercept only)\n",
        "# which one?\n",
        "with(Advert, add1(lm(sales~TV),sales~TV+radio+newspaper, test = \"F\"))\n",
        "\n",
        "AIC = matrix(0,8,2)\n",
        "BIC = matrix(0,8,2)\n",
        "\n",
        "# write loop - add one variable per step and save AIC\n",
        "AIC[1,]= extractAIC(lm(sales~1, data = Advert))\n",
        "AIC[2,]= extractAIC(lm(sales~TV, data = Advert))\n",
        "AIC[3,]= extractAIC(lm(sales~TV+radio, data = Advert))\n",
        "AIC[4,]= extractAIC(lm(sales~TV*radio, data = Advert))\n",
        "AIC[5,]= extractAIC(lm(sales~TV*radio+newspaper, data = Advert))\n",
        "AIC[6,]= extractAIC(lm(sales~TV*radio+TV*newspaper, data = Advert))\n",
        "AIC[7,]= extractAIC(lm(sales~(.)^2, data = Advert[,2:5]))\n",
        "AIC[8,]= extractAIC(lm(sales~(.)^3, data = Advert[,2:5]))\n",
        "\n",
        "\n",
        "BIC[1,] = extractAIC(lm(sales~1, data = Advert), k =log(n))\n",
        "BIC[2,] = extractAIC(lm(sales~TV, data = Advert), k =log(n))\n",
        "BIC[3,] = extractAIC(lm(sales~TV+radio, data = Advert), k =log(n))\n",
        "BIC[4,] = extractAIC(lm(sales~TV*radio, data = Advert), k =log(n))\n",
        "BIC[5,] = extractAIC(lm(sales~TV*radio+newspaper, data = Advert), k =log(n))\n",
        "BIC[6,] = extractAIC(lm(sales~TV*radio+TV*newspaper, data = Advert), k =log(n))\n",
        "BIC[7,] = extractAIC(lm(sales~(.)^2, data = Advert[,2:5]), k =log(n))\n",
        "BIC[8,] = extractAIC(lm(sales~(.)^3, data = Advert[,2:5]), k =log(n))\n",
        "\n",
        "# make it nicer\n",
        "\n",
        "plot(AIC[,1],AIC[,2],type = \"l\",col = \"red\")\n",
        "lines(BIC[,1],BIC[,2],col = \"blue\")\n",
        "\n",
        "head(Advert)\n",
        "leaps(x=Advert[,2:4], y=Advert[,5],\n",
        "      names=names(Advert)[2:4], method=\"Cp\")\n",
        "\n",
        "leaps<-regsubsets(sales~TV+radio+newspaper,data=Advert,nbest=10)\n",
        "summary(leaps)\n",
        "plot(leaps,scale=\"Cp\")\n",
        "\n",
        "\n",
        "# plot statistic by subset size\n",
        "subsets(leaps, statistic=\"cp\")\n",
        "\n"
      ],
      "metadata": {
        "id": "I75yGBE_lPOi"
      },
      "execution_count": null,
      "outputs": []
    },
    {
      "cell_type": "code",
      "source": [],
      "metadata": {
        "id": "lZa7C071lPRa"
      },
      "execution_count": null,
      "outputs": []
    }
  ]
}