{
  "nbformat": 4,
  "nbformat_minor": 0,
  "metadata": {
    "colab": {
      "private_outputs": true,
      "provenance": [],
      "include_colab_link": true
    },
    "kernelspec": {
      "name": "python3",
      "display_name": "Python 3"
    },
    "language_info": {
      "name": "python"
    }
  },
  "cells": [
    {
      "cell_type": "markdown",
      "metadata": {
        "id": "view-in-github",
        "colab_type": "text"
      },
      "source": [
        "<a href=\"https://colab.research.google.com/github/francji1/01RAD/blob/main/python/01RAD_ex1_HW_solution.ipynb\" target=\"_parent\"><img src=\"https://colab.research.google.com/assets/colab-badge.svg\" alt=\"Open In Colab\"/></a>"
      ]
    },
    {
      "cell_type": "markdown",
      "source": [
        "# 01RAD - Exercise 01\n"
      ],
      "metadata": {
        "id": "IJZpZoupsfsX"
      }
    },
    {
      "cell_type": "markdown",
      "metadata": {
        "id": "nEGyKc3C8teG"
      },
      "source": [
        "## Setup"
      ]
    },
    {
      "cell_type": "code",
      "execution_count": null,
      "metadata": {
        "id": "26cEQ8Nt8teK"
      },
      "outputs": [],
      "source": [
        "import numpy as np\n",
        "import pandas as pd\n",
        "import matplotlib.pyplot as plt\n",
        "import statsmodels.api as sm\n",
        "import statistics as st"
      ]
    },
    {
      "cell_type": "code",
      "execution_count": null,
      "metadata": {
        "id": "vCDVk5ts8teL"
      },
      "outputs": [],
      "source": [
        "# Load the Trees dataset from the statsmodels built-in datasets\n",
        "trees = sm.datasets.get_rdataset(\"trees\").data\n",
        "\n",
        "# Display the first few rows of the dataset\n",
        "trees.head()"
      ]
    },
    {
      "cell_type": "code",
      "source": [
        "? trees"
      ],
      "metadata": {
        "id": "X-tQykDJeaY9"
      },
      "execution_count": null,
      "outputs": []
    },
    {
      "cell_type": "code",
      "source": [
        "trees.describe()"
      ],
      "metadata": {
        "id": "AzDtqykGeacb"
      },
      "execution_count": null,
      "outputs": []
    },
    {
      "cell_type": "code",
      "source": [
        "trees"
      ],
      "metadata": {
        "id": "qGlhTTv8Tov-"
      },
      "execution_count": null,
      "outputs": []
    },
    {
      "cell_type": "markdown",
      "source": [
        "# Ukol zadan zvlast v HW:\n",
        "\n",
        "* Načtěte si data `trees` z base balicku datasets.\n",
        "* Spočtěte střední hodnotu a rozptyl výšky a objemu stromů\n",
        "* Porovnejte výsledek ze zabudovaných funkcí s \"manuálním\" výpočtem podle vzorce.\n",
        "* Podívejte se `? trees` a převeďte proměnnou Girth na $cm$, Height na $m$, a Volume na $m^3$.\n",
        "* Spočtěte BMI index stromu za předpokladu, že objemová hmotnost dřeva všech uvedených stromů je konstantní a rovna 900 kg / m$^3$, Výsledek  uložte do tabulky trees jako novou proměnnou `BMI`.\n",
        "* Koukněte na tabulku `table` vypočtených hodnot, rozdělte ji na 3 skupiny  `{thin, normal, obese}` - a každému záznamu přiřaďte proměnnou typu faktor.\n",
        "př: hodnoty break1 a break2 zvolte tak aby vám to dávalo smysl.\n",
        "\n"
      ],
      "metadata": {
        "id": "Xlx9E8j9xSNW"
      }
    },
    {
      "cell_type": "code",
      "source": [
        "def mean_of_column(df, column_name):\n",
        "    total_sum = df[column_name].sum()\n",
        "    num_observations = len(df[column_name])\n",
        "    mean = total_sum / num_observations\n",
        "    return mean\n",
        "\n",
        "def variance_of_column(df, column_name):\n",
        "    mean = mean_of_column(df, column_name)\n",
        "    num_observations = len(df[column_name])\n",
        "    total_sum = 0\n",
        "    for i in range(num_observations):\n",
        "        total_sum = total_sum + (df[column_name][i] - mean)**2\n",
        "    variance = total_sum / (num_observations-1)\n",
        "    return variance"
      ],
      "metadata": {
        "id": "IkK-DeHWTvYN"
      },
      "execution_count": null,
      "outputs": []
    },
    {
      "cell_type": "code",
      "source": [
        "print('Střední hodnota výšky dle Pythonu:', st.mean(trees['Height']))\n",
        "print('Střední hodnota výšky dle nás:', mean_of_column(trees, 'Height'))\n",
        "\n",
        "print('Střední hodnota objemu dle Pythonu:', st.mean(trees['Volume']))\n",
        "print('Střední hodnota objemu dle nás:', mean_of_column(trees, 'Volume'))\n",
        "\n",
        "print('Rozptyl výšky dle Pythonu:', st.variance(trees['Height']))\n",
        "print('Rozptyl výšky dle nás:', variance_of_column(trees, 'Height'))\n",
        "\n",
        "print('Rozptyl objemu dle Pythonu:', st.variance(trees['Volume']))\n",
        "print('Rozptyl objemu dle nás:', variance_of_column(trees, 'Volume'))"
      ],
      "metadata": {
        "id": "VRrsAr32eDQN"
      },
      "execution_count": null,
      "outputs": []
    },
    {
      "cell_type": "markdown",
      "source": [
        "Jednotlivé veličiny jsou v jednotkách:\n",
        "*   Obvod: palce\n",
        "*   Výška: stopa\n",
        "*   Objem: stopa**3\n",
        "\n"
      ],
      "metadata": {
        "id": "uImYGyJXxdeY"
      }
    },
    {
      "cell_type": "code",
      "source": [
        "def convert(df):\n",
        "    df['Girth'] = df['Girth'] * 2.54            # from inches to centimeters\n",
        "    df['Height'] = df['Height'] * 0.3048       # from feet to cmeters\n",
        "    df['Volume'] = df['Volume'] * (0.3048**3)   # from feet**3 to meters**3\n",
        "    return df"
      ],
      "metadata": {
        "id": "s2-u8bSGVQcC"
      },
      "execution_count": null,
      "outputs": []
    },
    {
      "cell_type": "code",
      "source": [
        "trees = convert(trees)\n",
        "trees.head()"
      ],
      "metadata": {
        "id": "C7b0hxkOYcJY"
      },
      "execution_count": null,
      "outputs": []
    },
    {
      "cell_type": "code",
      "source": [
        "# BMI = weight / (height)**2 = (ro * volume) / height**2\n",
        "# ro = 900 kg/m^3\n",
        "def add_BMI(df):\n",
        "    df.loc[:,'BMI'] = (900 * df['Volume']) / df['Height']**2   # inserts the column 'BMI' at the end\n",
        "    return df"
      ],
      "metadata": {
        "id": "NTd9RlCIYoSH"
      },
      "execution_count": null,
      "outputs": []
    },
    {
      "cell_type": "code",
      "source": [
        "trees = add_BMI(trees)\n",
        "trees"
      ],
      "metadata": {
        "id": "-3MWxdbIb1b_"
      },
      "execution_count": null,
      "outputs": []
    },
    {
      "cell_type": "code",
      "source": [
        "# function giving to each tree category according to BMI\n",
        "def BMI_Category(df):\n",
        "    minimum = df['BMI'].min()\n",
        "    maximum = df['BMI'].max()\n",
        "    delta = (maximum - minimum)/3\n",
        "    breaks = [0, minimum + delta, minimum + 2*delta, maximum]\n",
        "    labels = ['thin', 'normal', 'obese']\n",
        "    df.loc[:,'BMI Category'] = pd.cut(df['BMI'], bins=breaks, labels=labels)\n",
        "    return df"
      ],
      "metadata": {
        "id": "wxHundXZxnFN"
      },
      "execution_count": null,
      "outputs": []
    },
    {
      "cell_type": "code",
      "source": [
        "trees = BMI_Category(trees)\n",
        "trees"
      ],
      "metadata": {
        "id": "rYKb8icmxpbv"
      },
      "execution_count": null,
      "outputs": []
    }
  ]
}