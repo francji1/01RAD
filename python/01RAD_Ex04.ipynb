{
  "nbformat": 4,
  "nbformat_minor": 0,
  "metadata": {
    "colab": {
      "private_outputs": true,
      "provenance": [],
      "authorship_tag": "ABX9TyNWnj1qk/TtEUdJVblpEQu5",
      "include_colab_link": true
    },
    "kernelspec": {
      "name": "python3",
      "display_name": "Python 3"
    },
    "language_info": {
      "name": "python"
    }
  },
  "cells": [
    {
      "cell_type": "markdown",
      "metadata": {
        "id": "view-in-github",
        "colab_type": "text"
      },
      "source": [
        "<a href=\"https://colab.research.google.com/github/francji1/01RAD/blob/main/python/01RAD_Ex04.ipynb\" target=\"_parent\"><img src=\"https://colab.research.google.com/assets/colab-badge.svg\" alt=\"Open In Colab\"/></a>"
      ]
    },
    {
      "cell_type": "markdown",
      "source": [
        "# 01RAD Exercise 05\n",
        "\n",
        "Today's exercise\n",
        " * Numerical Linear Algebra view-\n",
        " * Residuals\n"
      ],
      "metadata": {
        "id": "1PO6_ZvdRMAQ"
      }
    },
    {
      "cell_type": "code",
      "execution_count": null,
      "metadata": {
        "id": "ZGdVNe49RGsO"
      },
      "outputs": [],
      "source": [
        "!pip install rpy2\n",
        "%load_ext rpy2.ipython"
      ]
    },
    {
      "cell_type": "code",
      "source": [
        "import rpy2.robjects as ro\n",
        "from rpy2.robjects import pandas2ri\n",
        "from rpy2.robjects.packages import importr\n",
        "\n",
        "# Activate the automatic conversion between R and pandas DataFrame\n",
        "pandas2ri.activate()\n"
      ],
      "metadata": {
        "id": "_4BHtOcaROm8"
      },
      "execution_count": null,
      "outputs": []
    },
    {
      "cell_type": "code",
      "source": [
        "import numpy as np\n",
        "import pandas as pd\n",
        "import scipy.stats as stats\n",
        "import statsmodels.api as sm\n",
        "import matplotlib.pyplot as plt\n",
        "\n",
        "from statsmodels.datasets import get_rdataset\n",
        "from scipy.stats import t,norm\n",
        "\n",
        "\n",
        "%matplotlib inline"
      ],
      "metadata": {
        "id": "BxfmO_HMSNzh"
      },
      "execution_count": null,
      "outputs": []
    },
    {
      "cell_type": "code",
      "source": [
        "# Use the %%R cell magic to run R code and retrieve the Gasoline dataset\n",
        "#%%R -o df\n",
        "#install.packages(\"RSADBE\")\n",
        "#library(RSADBE)\n",
        "#data(gasoline)\n",
        "#df <- gasoline"
      ],
      "metadata": {
        "id": "3xR3iEOySEtm"
      },
      "execution_count": null,
      "outputs": []
    },
    {
      "cell_type": "code",
      "source": [],
      "metadata": {
        "id": "9ErrbY2jSDKk"
      },
      "execution_count": null,
      "outputs": []
    },
    {
      "cell_type": "code",
      "source": [
        "# Reading the data from the URL\n",
        "data_url = \"https://dasl.datadescription.com/download/data/3096\"\n",
        "df = pd.read_csv(data_url, delimiter=\"\\t\")\n",
        "df"
      ],
      "metadata": {
        "id": "hD05U0wdROpY"
      },
      "execution_count": null,
      "outputs": []
    },
    {
      "cell_type": "code",
      "source": [
        "def get_regression(X, Y):\n",
        "    \"\"\"\n",
        "    Calculate linear regression coefficients, standard errors,\n",
        "     t-values, p-values, and 95% confidence intervals.\n",
        "\n",
        "    Parameters:\n",
        "    - X: DataFrame of independent variables.\n",
        "    - Y: DataFrame of dependent variable.\n",
        "\n",
        "    Returns:\n",
        "    - DataFrame with coefficients, standard errors, t-values, p-values,\n",
        "      and 95% confidence intervals.\n",
        "    \"\"\"\n",
        "\n",
        "    # Copy data to avoid modifying original data\n",
        "    X = pd.DataFrame(X.copy())\n",
        "    Y = pd.DataFrame(Y.copy())\n",
        "\n",
        "    # Add constant for intercept\n",
        "    X['const'] = 1\n",
        "    X = X[['const'] + [col for col in X if col != 'const']]\n",
        "\n",
        "    # QR Decomposition\n",
        "    # Q, R = np.linalg.qr(X.values)\n",
        "\n",
        "    # Calculate regression coefficients using the formula\n",
        "    beta_hat = np.linalg.inv(X.values.T @ X.values) @ X.values.T @ Y.values\n",
        "\n",
        "    # Calculate regression coefficients using corrected QR decomposition formula\n",
        "    #beta_hat = np.linalg.inv(R) @ (Q.T @ Y.values)[:R.shape[0]]\n",
        "\n",
        "    # Predicted values and residuals\n",
        "    Y_pred = X.values @ beta_hat\n",
        "    residuals = Y_pred - Y.values\n",
        "    #Residual Sum of Squares (RSS)\n",
        "    RSS = residuals.T @ residuals\n",
        "    print(RSS)\n",
        "    MSE = RSS/Y.shape[0]\n",
        "    print(MSE)\n",
        "\n",
        "    # Adjusted degrees of freedom\n",
        "    df = Y.shape[0] - X.shape[1] - 1\n",
        "    # Estimate of error variance (RSS divided by the degrees of freedom of the residuals)\n",
        "    sigma2_hat = (RSS[0][0] / df)\n",
        "    print(sigma2_hat)\n",
        "    # Standard errors of coefficients\n",
        "    se_beta_hat = np.sqrt(sigma2_hat * np.diag(np.linalg.inv(X.values.T @ X.values)))\n",
        "\n",
        "    # t-values and p-values\n",
        "    t_values = beta_hat.reshape(-1) / se_beta_hat\n",
        "\n",
        "    p_values = 2 * (1 - t.cdf(np.abs(t_values), df))\n",
        "\n",
        "    # Critical t-value for 95% CI\n",
        "    alpha = 0.05\n",
        "    t_critical = t.ppf(1 - alpha/2, df)\n",
        "\n",
        "    # 95% Confidence Intervals\n",
        "    ci_lower = beta_hat.reshape(-1) - t_critical * se_beta_hat\n",
        "    ci_upper = beta_hat.reshape(-1) + t_critical * se_beta_hat\n",
        "\n",
        "    # Return results as a DataFrame\n",
        "    return pd.DataFrame({\n",
        "        'coef': beta_hat.reshape(-1),\n",
        "        'std err': se_beta_hat,\n",
        "        't': t_values,\n",
        "        'P > |t|': p_values,\n",
        "        '95% CI Lower': ci_lower,\n",
        "        '95% CI Upper': ci_upper\n",
        "    }, index=X.columns)\n"
      ],
      "metadata": {
        "id": "LriwTYKKROrh"
      },
      "execution_count": null,
      "outputs": []
    },
    {
      "cell_type": "code",
      "source": [],
      "metadata": {
        "id": "2A_OnSW8Yh7d"
      },
      "execution_count": null,
      "outputs": []
    },
    {
      "cell_type": "code",
      "source": [
        "# Selecting MPG as Y and HP as X\n",
        "Y = df[['MPG']]\n",
        "X = df[['Horsepower']]\n",
        "\n",
        "# Using the get_regression function to get results\n",
        "results = get_regression(X, Y)\n",
        "results\n"
      ],
      "metadata": {
        "id": "sc3-KAYDSx1m"
      },
      "execution_count": null,
      "outputs": []
    },
    {
      "cell_type": "code",
      "source": [
        "# Using statsmodels\n",
        "model_sm = sm.OLS(Y, sm.add_constant(X))\n",
        "results_sm = model_sm.fit()\n",
        "print(results_sm.summary())"
      ],
      "metadata": {
        "id": "eJGeYYMTYZ_P"
      },
      "execution_count": null,
      "outputs": []
    },
    {
      "cell_type": "code",
      "source": [
        "# Compute residuals\n",
        "residuals = results_sm.resid\n",
        "\n",
        "# Compute and print statistics\n",
        "print(\"Mean of residuals:\", residuals.mean())\n",
        "print(\"Standard deviation of residuals:\", residuals.std())\n",
        "print(\"Variance of residuals:\", residuals.var())\n",
        "print(\"Scaled deviance of residuals:\", (residuals**2).sum() / (len(df) - 2))\n"
      ],
      "metadata": {
        "id": "MFz_p_w1YBnY"
      },
      "execution_count": null,
      "outputs": []
    },
    {
      "cell_type": "code",
      "source": [],
      "metadata": {
        "id": "mwyij5rkS1GS"
      },
      "execution_count": null,
      "outputs": []
    },
    {
      "cell_type": "code",
      "source": [
        "# Plotting results\n",
        "fig, ax = plt.subplots(figsize=(12, 8))\n",
        "fig = sm.graphics.plot_fit(results_sm, 1, ax=ax)\n",
        "plt.show()"
      ],
      "metadata": {
        "id": "RSem49eMVa6L"
      },
      "execution_count": null,
      "outputs": []
    },
    {
      "cell_type": "code",
      "source": [
        "# Plot residuals as a histogram\n",
        "plt.hist(residuals, bins=20, edgecolor='k', alpha=0.65)\n",
        "plt.title('Histogram of Residuals')\n",
        "plt.xlabel('Residual')\n",
        "plt.ylabel('Frequency')\n",
        "plt.show()\n",
        "\n",
        "# Q-Q plot of residuals\n",
        "stats.probplot(residuals, plot=plt)\n",
        "plt.title('Q-Q Plot of Residuals')\n",
        "plt.show()"
      ],
      "metadata": {
        "id": "gm1U2_WiW0LA"
      },
      "execution_count": null,
      "outputs": []
    },
    {
      "cell_type": "code",
      "source": [
        "results_sm"
      ],
      "metadata": {
        "id": "reLcLxoYb7Be"
      },
      "execution_count": null,
      "outputs": []
    },
    {
      "cell_type": "code",
      "source": [
        "    X['const'] = 1\n",
        "    X"
      ],
      "metadata": {
        "id": "-UOwtrSEXCZb"
      },
      "execution_count": null,
      "outputs": []
    },
    {
      "cell_type": "code",
      "source": [
        "X = X[['const'] + [col for col in X if col != 'const']]"
      ],
      "metadata": {
        "id": "HPKZEWsEdT6q"
      },
      "execution_count": null,
      "outputs": []
    },
    {
      "cell_type": "code",
      "source": [
        "X"
      ],
      "metadata": {
        "id": "rHt2-n6YdYfo"
      },
      "execution_count": null,
      "outputs": []
    },
    {
      "cell_type": "code",
      "source": [
        "# Convert X to a numpy array for matrix operations\n",
        "X_np = X.values\n",
        "\n",
        "# Compute X^T X\n",
        "XtX = X_np.T @ X_np\n",
        "\n",
        "# Calculate the hat matrix H\n",
        "H = X_np @ np.linalg.inv(XtX) @ X_np.T\n",
        "\n",
        "print(\"Dimensions of H:\", H.shape)\n",
        "print(\"Dimensions of X:\", X_np.shape)"
      ],
      "metadata": {
        "id": "8CaQTMiLdrO2"
      },
      "execution_count": null,
      "outputs": []
    },
    {
      "cell_type": "code",
      "source": [
        "H"
      ],
      "metadata": {
        "id": "qmEkAhd0dv2s"
      },
      "execution_count": null,
      "outputs": []
    },
    {
      "cell_type": "code",
      "source": [
        "# Eigenvalues of H\n",
        "eigenvalues = np.linalg.eigvals(H)\n",
        "print(\"Eigenvalues of H:\", np.round(eigenvalues, 10))\n",
        "\n",
        "# Check if H is idempotent\n",
        "idempotent_diff = np.sum(np.round(H @ H - H, 5))\n",
        "print(\"Difference between H^2 and H:\", idempotent_diff)\n",
        "\n",
        "# Check if H is symmetric\n",
        "symmetry_diff = np.round(H.T - H, 10)\n",
        "print(\"Difference between H^T and H:\", symmetry_diff)\n",
        "\n",
        "# Dimensions\n",
        "print(\"Dimensions of H:\", H.shape)\n",
        "print(\"Dimensions of X:\", X.shape)\n",
        "\n",
        "# Predicted values\n",
        "hat_Y = H @ Y\n"
      ],
      "metadata": {
        "id": "1PI0RxgGXDF4"
      },
      "execution_count": null,
      "outputs": []
    },
    {
      "cell_type": "code",
      "source": [],
      "metadata": {
        "id": "i1tG3fCbdTYZ"
      },
      "execution_count": null,
      "outputs": []
    },
    {
      "cell_type": "code",
      "source": [],
      "metadata": {
        "id": "xAf12ptkcABv"
      },
      "execution_count": null,
      "outputs": []
    },
    {
      "cell_type": "markdown",
      "metadata": {
        "id": "eSqHGns88iwp"
      },
      "source": [
        "**Task:** In the simple linear regression model, construct a Wald test for $H_0 : \\beta_1 = 17 \\beta_0$ versus $H_1 : \\beta_1 \\neq 17 \\beta_0$."
      ]
    },
    {
      "cell_type": "markdown",
      "metadata": {
        "id": "wpqrSUXx8iwp"
      },
      "source": [
        "**Solution**.  Let $\\delta = \\beta_1 - 17 \\beta_0$.  The MLE is $\\hat{\\delta} = \\hat{\\beta}_1 - 17 \\hat{\\beta}_0$, with estimated standard error $\\hat{\\text{se}}(\\hat{\\delta})$, where\n",
        "\n",
        "$$\\hat{\\text{se}}(\\hat{\\delta})^2 = \\hat{\\text{se}}(\\hat{\\beta}_1 - 17 \\hat{\\beta}_0)^2 = \\hat{\\text{se}}(\\hat{\\beta}_1)^2 + 17^2 \\hat{\\text{se}}(\\hat{\\beta}_0)^2 $$\n",
        "\n",
        "and the estimates for the parameter standard deviations are\n",
        "\n",
        "\n",
        "$$\n",
        "\\hat{\\text{se}}(\\hat{\\beta}_0) = \\frac{\\hat{\\sigma}}{s_X \\sqrt{n}} \\sqrt{\\frac{\\sum_{i=1}^n X_i^2}{n}}\n",
        "\\quad \\text{and} \\quad\n",
        "\\hat{\\text{se}}(\\hat{\\beta}_1) = \\frac{\\hat{\\sigma}}{s_X \\sqrt{n}}\n",
        "$$\n",
        "\n",
        "The Wald test then checks if $|W| < z_{\\alpha / 2}$, where\n",
        "\n",
        "$$W = \\frac{\\hat{\\delta} - 0}{\\hat{\\text{se}}(\\hat{\\delta})}\n",
        "= \\frac{\\hat{\\beta}_1 - 17 \\hat{\\beta}_0}{\\sqrt{\\hat{\\text{se}}(\\hat{\\beta}_1)^2 + 17^2 \\hat{\\text{se}}(\\hat{\\beta}_0)^2}}$$"
      ]
    },
    {
      "cell_type": "markdown",
      "source": [
        "Exercise: Test if regression coefficient for Intercept = -200 time regression coefficient for Horsepower\n",
        "\n",
        "\n"
      ],
      "metadata": {
        "id": "1Bxq83ADfBfO"
      }
    },
    {
      "cell_type": "code",
      "source": [
        "results_sm.params"
      ],
      "metadata": {
        "id": "rU_2coOte5s-"
      },
      "execution_count": null,
      "outputs": []
    },
    {
      "cell_type": "code",
      "source": [
        "results_sm.bse"
      ],
      "metadata": {
        "id": "I3PITIq5qiAw"
      },
      "execution_count": null,
      "outputs": []
    },
    {
      "cell_type": "code",
      "source": [
        "(results_sm.params[0]/results_sm.params[1])**2"
      ],
      "metadata": {
        "id": "TNjdSNpZrALm"
      },
      "execution_count": null,
      "outputs": []
    },
    {
      "cell_type": "code",
      "source": [
        "W = (results_sm.params[0]+170*results_sm.params[1])/np.sqrt(results_sm.bse[0]**2 + (170**2)*results_sm.bse[1]**2)\n",
        "W"
      ],
      "metadata": {
        "id": "iei5DOaMqm-k"
      },
      "execution_count": null,
      "outputs": []
    },
    {
      "cell_type": "code",
      "source": [
        "p_value = 2*(1-norm.cdf(abs(W)))\n",
        "p_value"
      ],
      "metadata": {
        "id": "fGYKrGdrrJfF"
      },
      "execution_count": null,
      "outputs": []
    },
    {
      "cell_type": "markdown",
      "source": [
        "**Task**\n",
        "* compute fitted values manually by the help of original data set and sm model coeff\n",
        "* compare results with output from the fitted values from sm object\n",
        "* compare with result obtained by H matrix\n"
      ],
      "metadata": {
        "id": "4Yp3i3IXfX_K"
      }
    },
    {
      "cell_type": "code",
      "source": [],
      "metadata": {
        "id": "Ef2o7QjJvIy_"
      },
      "execution_count": null,
      "outputs": []
    },
    {
      "cell_type": "code",
      "source": [
        "(X @ results_sm.params).mean()"
      ],
      "metadata": {
        "id": "F4GPi9a4fxjG"
      },
      "execution_count": null,
      "outputs": []
    },
    {
      "cell_type": "code",
      "source": [
        "results_sm.fittedvalues.mean()"
      ],
      "metadata": {
        "id": "XzIsYQmVtKju"
      },
      "execution_count": null,
      "outputs": []
    },
    {
      "cell_type": "code",
      "source": [
        "(H @ Y).mean()"
      ],
      "metadata": {
        "id": "mhu9ki_ftVV-"
      },
      "execution_count": null,
      "outputs": []
    },
    {
      "cell_type": "code",
      "source": [
        "M = np.identity(H.shape[0]) - H\n",
        "e = (M @ Y)\n",
        "e"
      ],
      "metadata": {
        "id": "Sw4rV-IUvlIG"
      },
      "execution_count": null,
      "outputs": []
    },
    {
      "cell_type": "code",
      "source": [
        "results_sm.resid"
      ],
      "metadata": {
        "id": "SaEoYLhMvTPP"
      },
      "execution_count": null,
      "outputs": []
    },
    {
      "cell_type": "markdown",
      "source": [
        "**Task**\n",
        "* Check if the eigenvalues of H  consist of r ones and n-r zeros.\n",
        "* Check if the eigenvalues of M consist  of n-r ones and r  zeros. (M = I -H)\n",
        "* Check if H and M are idempotent"
      ],
      "metadata": {
        "id": "fMQhb36Wf0fT"
      }
    },
    {
      "cell_type": "code",
      "source": [
        "eigenvalues"
      ],
      "metadata": {
        "id": "laoHmQQLf16l"
      },
      "execution_count": null,
      "outputs": []
    },
    {
      "cell_type": "code",
      "source": [
        "np.linalg.eigvals(M)"
      ],
      "metadata": {
        "id": "tGXJq9mQgOw3"
      },
      "execution_count": null,
      "outputs": []
    },
    {
      "cell_type": "code",
      "source": [],
      "metadata": {
        "id": "X_bKx4mDgOzX"
      },
      "execution_count": null,
      "outputs": []
    },
    {
      "cell_type": "code",
      "source": [],
      "metadata": {
        "id": "7NeHuus4gO2B"
      },
      "execution_count": null,
      "outputs": []
    },
    {
      "cell_type": "markdown",
      "source": [],
      "metadata": {
        "id": "3JmodUzbgPJx"
      }
    },
    {
      "cell_type": "markdown",
      "source": [
        "## Residual  Analysis (In R need to add %%R)"
      ],
      "metadata": {
        "id": "Z61mRA33Gewe"
      }
    },
    {
      "cell_type": "code",
      "source": [
        "# Set random seed for reproducibility\n",
        "np.random.seed(21)\n",
        "\n",
        "# Generate data\n",
        "n = 60\n",
        "X0 = np.ones(n)\n",
        "X1 = np.random.uniform(10, 40, n)\n",
        "X = np.column_stack((X0, X1))\n",
        "e = np.random.normal(0, 2, n)\n",
        "beta = np.array([4, 2])\n",
        "Y = X @ beta + e\n",
        "\n",
        "df_m1 = pd.DataFrame({\n",
        "    'Y': Y,\n",
        "    'X': X1\n",
        "})\n",
        "\n",
        "print(df_m1.head())"
      ],
      "metadata": {
        "id": "XT1GdX5NGeQA"
      },
      "execution_count": null,
      "outputs": []
    },
    {
      "cell_type": "code",
      "source": [
        "%%R\n",
        "# Summary and visualisation of our dataset\n",
        "# Let's generate some data\n",
        "set.seed(21)\n",
        "n    <- 50\n",
        "X0   <- rep(1,n)\n",
        "X1   <- runif(n,10,40)\n",
        "X    <- cbind(X0,X1)\n",
        "e    <- rnorm(n,0,2)\n",
        "beta <- c(4,2)\n",
        "Y    <- X%*%matrix(beta) + e\n",
        "df_m1 <- data.frame(Y = Y, X = X1)\n",
        "\n",
        "summary(df_m1)\n"
      ],
      "metadata": {
        "id": "53a6qBoa1mKS"
      },
      "execution_count": null,
      "outputs": []
    },
    {
      "cell_type": "code",
      "source": [
        "%%R\n",
        "# OLS estimation of regression coefficients\n",
        "m1 <- lm(Y ~ X, df_m1)\n",
        "summary(m1)\n"
      ],
      "metadata": {
        "id": "5zP_Y6f-1mdD"
      },
      "execution_count": null,
      "outputs": []
    },
    {
      "cell_type": "code",
      "source": [
        "print(results_sm.summary())"
      ],
      "metadata": {
        "id": "mw4u8gBFtndD"
      },
      "execution_count": null,
      "outputs": []
    },
    {
      "cell_type": "code",
      "source": [
        "%%R\n",
        "\n",
        "# Fast post-hoc analysis of residuals\n",
        "opar <- par(mfrow=c(2,2))\n",
        "plot(m1)\n",
        "par(opar)\n",
        "\n"
      ],
      "metadata": {
        "id": "fmIDlQgx1m2S"
      },
      "execution_count": null,
      "outputs": []
    },
    {
      "cell_type": "code",
      "source": [],
      "metadata": {
        "id": "v6Z8OxP9uf2I"
      },
      "execution_count": null,
      "outputs": []
    },
    {
      "cell_type": "code",
      "source": [
        "# Plotting results\n",
        "fig, ax = plt.subplots(figsize=(12, 8))\n",
        "fig = sm.graphics.plot_fit(results_sm, 1, ax=ax)\n",
        "plt.show()"
      ],
      "metadata": {
        "id": "nU8EmXS1uFMc"
      },
      "execution_count": null,
      "outputs": []
    },
    {
      "cell_type": "code",
      "source": [
        "# Create a 2x2 grid of subplots\n",
        "fig, axes = plt.subplots(2, 2, figsize=(10, 8))\n",
        "\n",
        "# Residuals vs. Fitted Values\n",
        "axes[0, 0].scatter(results_sm.fittedvalues, results_sm.resid)\n",
        "axes[0, 0].set_xlabel(\"Fitted Values\")\n",
        "axes[0, 0].set_ylabel(\"Residuals\")\n",
        "axes[0, 0].set_title(\"Residuals vs. Fitted Values\")\n",
        "\n",
        "# Quantile-Quantile Plot of Residuals\n",
        "sm.qqplot(results_sm.resid, line='s', ax=axes[0, 1])\n",
        "axes[0, 1].set_title(\"Q-Q Plot of Residuals\")\n",
        "\n",
        "# Standardized Residuals vs. Fitted Values\n",
        "axes[1, 0].scatter(results_sm.fittedvalues, results_sm.get_influence().resid_studentized_internal)\n",
        "axes[1, 0].set_xlabel(\"Fitted Values\")\n",
        "axes[1, 0].set_ylabel(\"Standardized Residuals\")\n",
        "axes[1, 0].set_title(\"Standardized Residuals vs. Fitted Values\")\n",
        "\n",
        "# Cook's Distance Plot\n",
        "sm.graphics.plot_leverage_resid2(results_sm, ax=axes[1, 1])\n",
        "axes[1, 1].set_title(\"Cook's Distance Plot\")\n",
        "\n",
        "# Adjust layout\n",
        "plt.tight_layout()\n",
        "\n",
        "# Show the plots\n",
        "plt.show()"
      ],
      "metadata": {
        "id": "nov4yKJnuA5x"
      },
      "execution_count": null,
      "outputs": []
    },
    {
      "cell_type": "code",
      "source": [
        "%%R\n",
        "\n",
        "hist(resid(m1))\n",
        "fitted(m1)\n"
      ],
      "metadata": {
        "id": "5i1yd6W-1nHi"
      },
      "execution_count": null,
      "outputs": []
    },
    {
      "cell_type": "code",
      "source": [
        "%%R\n",
        "\n",
        "#residuals vs. fitted\n",
        "plot(residuals(m1) ~ fitted(m1))\n",
        "\n"
      ],
      "metadata": {
        "id": "d4pGR3t81nXK"
      },
      "execution_count": null,
      "outputs": []
    },
    {
      "cell_type": "code",
      "source": [
        "\n",
        "#########################################\n",
        "# How R computes different residuals?\n",
        "# R provides built-in functions rstandard() and rstudent() as as part of influence.measures\n",
        "# They re-normalize the residuals to have unit variance,\n",
        "# using an overall and leave-one-out measure of the error variance respectively.\n"
      ],
      "metadata": {
        "id": "Dfi2YqgP1kLS"
      },
      "execution_count": null,
      "outputs": []
    },
    {
      "cell_type": "code",
      "source": [
        "%%R\n",
        "\n",
        "# manual computation of standartized residuals : help(rstandard)\n",
        "# R standartized residual is ordinary residual divided by an estimate of its standard deviation:\n",
        "r_standard = residuals(m1)/(sigma(m1)*sqrt(1-hatvalues(m1)))\n",
        "# comparison with built-in function\n",
        "r_standard - rstandard(m1)\n",
        "\n"
      ],
      "metadata": {
        "id": "fevleQbY1k6x"
      },
      "execution_count": null,
      "outputs": []
    },
    {
      "cell_type": "code",
      "source": [
        "%%R\n",
        "#Studentized residuals: \"externally studentized residuals\" or \"deleted residuals,\"\n",
        "#Studentized residuals for any given data point are computed from a model fit\n",
        "# to every other data point except the one in question.\n",
        "\n",
        "# compare with slide 1, lecture 5\n",
        "anova(m1)\n",
        "\n",
        "A = sqrt(1 - (1/n + (X1-mean(X1))^2/sum((X1-mean(X1))^2)))\n",
        "r_stud <- residuals(m1) / (sigma(m1)*A)\n",
        "\n",
        "round(rstudent(m1) - r_stud,4)\n",
        "round(rstandard(m1) - r_stud,4)\n",
        "\n",
        "rstandard(m1, type = \"predictive\")\n",
        "# we will come back to standardized and studentized residuals later\n",
        "# in outlier diagnostic session\n",
        "\n",
        "\n"
      ],
      "metadata": {
        "id": "1Kocb5-rzb1N"
      },
      "execution_count": null,
      "outputs": []
    },
    {
      "cell_type": "code",
      "source": [
        "%%R\n",
        "install.packages(\"tidyverse\")\n",
        "install.packages(\"ggpubr\")\n",
        "library(tidyverse)\n",
        "library(ggpubr)\n",
        "\n",
        "# Plot with ggplot, add residuals to dataset\n",
        "\n",
        "df_m1 <- df_m1  %>%\n",
        "  mutate(predicted = predict(m1),\n",
        "         residuals = residuals(m1),\n",
        "         rstandard = rstandard(m1))\n",
        "\n",
        "p1<-ggplot(data=df_m1,mapping=aes(x=predicted,y=residuals)) +\n",
        "  geom_point() +\n",
        "  geom_hline(yintercept=0,linetype=\"dashed\")\n",
        "\n",
        "p2<-ggplot(data=df_m1,mapping=aes(x=Y,y=residuals)) +\n",
        "  geom_point() +\n",
        "  geom_hline(yintercept=0,linetype=\"dashed\")\n",
        "\n",
        "p3<-ggplot(data=df_m1,mapping=aes(x=predicted,y=rstandard)) +\n",
        "  geom_point() +\n",
        "  geom_hline(yintercept=0,linetype=\"dashed\")\n",
        "\n",
        "p4<-ggplot(data=df_m1,mapping=aes(x=Y,y=rstandard)) +\n",
        "  geom_point() +\n",
        "  geom_hline(yintercept=0,linetype=\"dashed\")\n",
        "\n",
        "ggarrange(p1, p2, p3, p4, labels = c(\"A\", \"B\",\"C\",\"D\"), common.legend = TRUE, legend = \"bottom\")\n",
        "\n"
      ],
      "metadata": {
        "id": "qkgdH-ik1jP1"
      },
      "execution_count": null,
      "outputs": []
    },
    {
      "cell_type": "code",
      "source": [
        "%%R\n",
        "\n",
        "# Visualization of residuals (orthogonal distance to be minimized by OLS method)\n",
        "\n",
        "ggplot(df_m1, aes(x = X, y = Y)) +\n",
        "  geom_smooth(method = \"lm\", se = FALSE, color = \"lightgrey\") +\n",
        "  geom_segment(aes(xend = X, yend = predicted), alpha = .2) +\n",
        "  geom_point(aes(color = residuals)) +\n",
        "  scale_color_gradient2(low = \"blue\", mid = \"white\", high = \"red\") +  # Colors to use here\n",
        "  # geom_point() +\n",
        "  # guides(color = FALSE) +\n",
        "  geom_point(aes(y = predicted), shape = 1) +\n",
        "  theme_bw()\n",
        "\n"
      ],
      "metadata": {
        "id": "i94SQ5yz1i0-"
      },
      "execution_count": null,
      "outputs": []
    },
    {
      "cell_type": "markdown",
      "source": [
        "Lets play with regression model and obtain different shapes of residuals"
      ],
      "metadata": {
        "id": "kuvaqjEA1e8i"
      }
    },
    {
      "cell_type": "code",
      "source": [
        "%%R\n",
        "\n",
        "X1   <- runif(n,0,1)\n",
        "X    <-cbind(X0,sin(2*pi*X1))\n",
        "Y    <- X%*%matrix(c(1,1)) + rnorm(n,0,(0.1)^2)\n",
        "df_m1 <- data.frame(Y = Y, X = X1)\n",
        "summary(df_m1)\n",
        "ggpairs(df_m1)\n",
        "m1 <- lm(Y ~ X, df_m1)\n",
        "opar <- par(mfrow=c(2,2))\n",
        "plot(m1)\n",
        "par(opar)\n",
        "\n"
      ],
      "metadata": {
        "id": "uWqGX4CN1d1S"
      },
      "execution_count": null,
      "outputs": []
    },
    {
      "cell_type": "code",
      "source": [
        "%%R\n",
        "\n",
        "X1   <- runif(n,0,10)\n",
        "X    <- cbind(X0,log(0.4 + X1))\n",
        "Y    <- X%*%matrix(c(1,1)) + rnorm(n,0,0.1)\n",
        "df_m1<- data.frame(Y = Y, X = X1)\n",
        "ggpairs(df_m1)\n",
        "m1 <- lm(Y ~ X, df_m1)\n",
        "opar <- par(mfrow=c(2,2))\n",
        "plot(m1)\n",
        "par(opar)\n"
      ],
      "metadata": {
        "id": "XD-pNYMl1dhs"
      },
      "execution_count": null,
      "outputs": []
    },
    {
      "cell_type": "code",
      "source": [
        "%%R\n",
        "\n",
        "X0   <- rep(1,n)\n",
        "X1   <- runif(n,10,40)\n",
        "X    <- cbind(X0,X1)\n",
        "Y   <- X%*%matrix(beta) + (rnorm(n,0,(X1/10)^2)+X1/10)\n",
        "df_m1 <- data.frame(Y = Y, X = X1)\n",
        "ggpairs(df_m1)\n",
        "summary(df_m1)\n",
        "m1 <- lm(Y ~ X, df_m1)\n",
        "opar <- par(mfrow=c(2,2))\n",
        "plot(m1)\n",
        "par(opar)\n",
        "# repeat plots ;)"
      ],
      "metadata": {
        "id": "r-yrSTWG1dNC"
      },
      "execution_count": null,
      "outputs": []
    },
    {
      "cell_type": "code",
      "source": [],
      "metadata": {
        "id": "7Cp8ejGpGeTS"
      },
      "execution_count": null,
      "outputs": []
    }
  ]
}