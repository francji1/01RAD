{
  "nbformat": 4,
  "nbformat_minor": 0,
  "metadata": {
    "colab": {
      "private_outputs": true,
      "provenance": [],
      "authorship_tag": "ABX9TyOYYaqSEmBxZ5+BT+0dTZFQ",
      "include_colab_link": true
    },
    "kernelspec": {
      "name": "python3",
      "display_name": "Python 3"
    },
    "language_info": {
      "name": "python"
    }
  },
  "cells": [
    {
      "cell_type": "markdown",
      "metadata": {
        "id": "view-in-github",
        "colab_type": "text"
      },
      "source": [
        "<a href=\"https://colab.research.google.com/github/francji1/01RAD/blob/main/python/01RAD2023_assignment_HW_01_python.ipynb\" target=\"_parent\"><img src=\"https://colab.research.google.com/assets/colab-badge.svg\" alt=\"Open In Colab\"/></a>"
      ]
    },
    {
      "cell_type": "code",
      "execution_count": null,
      "metadata": {
        "id": "2MhrS4b4xbW4"
      },
      "outputs": [],
      "source": [
        "import pandas as pd\n",
        "import statsmodels.api as sm\n",
        "import statsmodels.formula.api as smf\n",
        "import matplotlib.pyplot as plt\n",
        "import numpy as np\n"
      ]
    },
    {
      "cell_type": "code",
      "source": [
        "df61 = pd.read_csv(\"https://raw.githubusercontent.com/francji1/01RAD/main/data/sarasota_houses_mod.csv\", sep=\",\")\n",
        "df61.head()"
      ],
      "metadata": {
        "id": "-4kIOmPHxjCc"
      },
      "execution_count": null,
      "outputs": []
    },
    {
      "cell_type": "code",
      "source": [],
      "metadata": {
        "id": "4HCXMmsnxm2N"
      },
      "execution_count": null,
      "outputs": []
    },
    {
      "cell_type": "markdown",
      "source": [
        "#Question 01:\n",
        "\n",
        "Find out if the data contains any missing values NA. If so, decide whether you can remove the relevant observations from the data and why. Which variables are quantitative and which are qualitative? If some can be classified into both groups, which one would you choose? Which variables can be used as ordinal factors and which as nominal factors and why? Calculate basic statistics for individual variables.\n"
      ],
      "metadata": {
        "id": "0b2xS2zUav7H"
      }
    },
    {
      "cell_type": "markdown",
      "source": [
        "\n",
        "Solution 01:"
      ],
      "metadata": {
        "id": "GuDL8t79ax3T"
      }
    },
    {
      "cell_type": "code",
      "source": [],
      "metadata": {
        "id": "ZcICqmbBfMpV"
      },
      "execution_count": null,
      "outputs": []
    },
    {
      "cell_type": "markdown",
      "source": [
        "Question 02\n",
        "\n",
        "We want to buy a property abroad and by surveying the market we have received the previous data set saratoga_houses. However, since we have more precise requirements and do not understand imperial units, we need to adjust the data:\n",
        "\n",
        "Convert the property prices from dollars to Czech crowns in thousands and the land area and living area from acres and square feet to square meters. (saratoga_houses_mod)\n",
        "Select only properties older than 10 years and younger than 50 years, whose price is less than 7,500,000 CZK, and the land area is between 500 and 5000 square meters.\n",
        "Convert the number of bathrooms and the number of rooms into three-level factorial variables.\n",
        "Continue working only with this limited dataset and with variables price, living_area, land_area, number_of_rooms, age_of_house, number_of_bathrooms, fireplace.\n",
        "###Use:\n",
        "\n",
        "1 USD is approximately 22 CZK\n",
        "\n",
        "1 acre is approximately 4046.86 square meters.\n",
        "\n",
        "1 square foot is approximately 0.092903 square meters.\n"
      ],
      "metadata": {
        "id": "vkspz-k7bDqi"
      }
    },
    {
      "cell_type": "markdown",
      "source": [
        "\n",
        "Solution 02:"
      ],
      "metadata": {
        "id": "T9rR3FsXev_m"
      }
    },
    {
      "cell_type": "code",
      "source": [],
      "metadata": {
        "id": "SAt7TOmGfPMF"
      },
      "execution_count": null,
      "outputs": []
    },
    {
      "cell_type": "markdown",
      "source": [
        "\n",
        "\n",
        "Question 03\n",
        "\n",
        "Compare the average prices of properties with a fireplace and without a fireplace and test whether at the significance level\n",
        "�\n",
        "=\n",
        "0.01\n",
        "α=0.01 the average price of properties with a fireplace is greater than the average price of properties without a fireplace.\n",
        "Solution 03:\n"
      ],
      "metadata": {
        "id": "PTCo44uTfOkc"
      }
    },
    {
      "cell_type": "code",
      "source": [],
      "metadata": {
        "id": "oARzUzdZfNLQ"
      },
      "execution_count": null,
      "outputs": []
    },
    {
      "cell_type": "markdown",
      "source": [
        "\n",
        "## Data Visualization\n",
        "\n",
        "Question 04"
      ],
      "metadata": {
        "id": "sL95CUuEe5uG"
      }
    },
    {
      "cell_type": "markdown",
      "source": [
        "\n",
        "\n",
        "Plot scatter plots for all numerical variables, with a color distinction whether it is a property with or without a fireplace.\n",
        "For variables number_of_rooms, number_of_floors and basement, plot box plots (or violin plots), where the response will be price.\n",
        "For the variable price, plot a histogram along with a kernel density estimate."
      ],
      "metadata": {
        "id": "8BUIfpdHexI8"
      }
    },
    {
      "cell_type": "code",
      "source": [],
      "metadata": {
        "id": "Te4LLhZyfFBa"
      },
      "execution_count": null,
      "outputs": []
    },
    {
      "cell_type": "markdown",
      "source": [
        "\n",
        "Question 05\n",
        "\n",
        "For combinations of factorized variables number_of_rooms, number_of_bathrooms, plot the property price so that the image shows whether the average prices of properties with more rooms or more bathrooms differ, and whether all combinations of all levels for the two mentioned factorial variables are represented."
      ],
      "metadata": {
        "id": "LkWtOBhwfElh"
      }
    },
    {
      "cell_type": "code",
      "source": [],
      "metadata": {
        "id": "WoX9UXtkfFZ2"
      },
      "execution_count": null,
      "outputs": []
    },
    {
      "cell_type": "markdown",
      "source": [
        "\n",
        "\n",
        "Question 06\n",
        "\n",
        "For properties with two bedrooms, plot the dependence of the price on the living area of the property, where individual events will be marked with a color according to whether they have a fireplace, and the size of the points in the graph will correspond to the number of bathrooms (for this task it is better to take the number of bathrooms as a numerical variable).\n",
        "\n",
        "Continue working only with properties with two bedrooms.\n"
      ],
      "metadata": {
        "id": "AKr9eX7oeymh"
      }
    },
    {
      "cell_type": "code",
      "source": [],
      "metadata": {
        "id": "BZFOwPX0fF0u"
      },
      "execution_count": null,
      "outputs": []
    },
    {
      "cell_type": "markdown",
      "source": [
        "\n",
        "## Simple Linear Model\n",
        "\n",
        "Question 07\n",
        "\n",
        "Build a simple regression model (with and without an intercept), where the explained variable will be the property price and the explanatory living area. Calculate $R^2$ and $F$ statistics for both models, what do they tell us about the models. Choose one of them and justify why you prefer it.\n",
        "\n",
        "Based on the chosen model, answer whether the property price depends on the living area and if so, by how much will the expected price change for a property with a living area increased by\n",
        "$20 m^2$?\n"
      ],
      "metadata": {
        "id": "FhzmroDze2qi"
      }
    },
    {
      "cell_type": "code",
      "source": [],
      "metadata": {
        "id": "gQfYIs1wfBMj"
      },
      "execution_count": null,
      "outputs": []
    },
    {
      "cell_type": "markdown",
      "source": [
        "\n",
        "Question 08\n",
        "\n",
        "Build a simple linear model as in the previous question for properties with and without a fireplace. Which model shows a stronger linear relationship between price and living area? By how much does the price with increasing living area for properties with a fireplace increase faster than for properties without a fireplace?\n",
        "\n",
        "Calculate 95% confidence intervals for the regression coefficients describing the slope of the regression line in both models and find out whether they intersect. What can we deduce from that?\n",
        "\n",
        "Based on these models, find out by what percentage the average property with a fireplace and a living area of\n",
        "160\n",
        "�\n",
        "2\n",
        "160m\n",
        "2\n",
        "  will have a higher expected price than the average property of the same living area, but without a fireplace."
      ],
      "metadata": {
        "id": "DxTIavwKe9HG"
      }
    },
    {
      "cell_type": "code",
      "source": [],
      "metadata": {
        "id": "_1pX8wvOfDAZ"
      },
      "execution_count": null,
      "outputs": []
    },
    {
      "cell_type": "markdown",
      "source": [
        "\n",
        "\n",
        "Question 09\n",
        "\n",
        "Plot a scatter plot of living area and property prices. In this graph, plot the regression lines of selected models for properties with and without a fireplace, mark the individual points and regression lines with a color according to which group they belong.\n",
        "\n",
        "Construct 90% confidence intervals around the expected prices for individual groups and based on them, decide whether and how the expected prices will differ for properties with a living area less than $120m^2$. Is this comparison correct? Justify."
      ],
      "metadata": {
        "id": "BtJGBu-wfCDw"
      }
    },
    {
      "cell_type": "code",
      "source": [],
      "metadata": {
        "id": "A8CO0XAnfAv1"
      },
      "execution_count": null,
      "outputs": []
    },
    {
      "cell_type": "code",
      "source": [],
      "metadata": {
        "id": "yQRrDad0fAKy"
      },
      "execution_count": null,
      "outputs": []
    },
    {
      "cell_type": "markdown",
      "source": [
        "\n",
        "\n",
        "Question 10\n",
        "\n",
        "Plot histograms for the residuals of the models from the previous question. Fit them with the density of a normal distribution with a zero mean and variance corresponding to $\\hat{\\sigma}^2$ from the individual models.\n",
        "\n",
        "What does the resulting graph say about our models and is this verification sufficient to validate the model?\n",
        "\n",
        "Suggest further modifications to the model in order to predict the property price as accurately as possible."
      ],
      "metadata": {
        "id": "sZglXy-1e_Ki"
      }
    },
    {
      "cell_type": "code",
      "source": [],
      "metadata": {
        "id": "TheXTLMTazGm"
      },
      "execution_count": null,
      "outputs": []
    }
  ]
}