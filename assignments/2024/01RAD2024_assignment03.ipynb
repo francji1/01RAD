{
  "nbformat": 4,
  "nbformat_minor": 0,
  "metadata": {
    "colab": {
      "private_outputs": true,
      "provenance": [],
      "authorship_tag": "ABX9TyNggE12ZSFDaD9hppOH3Yrv",
      "include_colab_link": true
    },
    "kernelspec": {
      "name": "ir",
      "display_name": "R"
    },
    "language_info": {
      "name": "R"
    }
  },
  "cells": [
    {
      "cell_type": "markdown",
      "metadata": {
        "id": "view-in-github",
        "colab_type": "text"
      },
      "source": [
        "<a href=\"https://colab.research.google.com/github/francji1/01RAD/blob/main/assignments/2022/01RAD2022_assignment03.ipynb\" target=\"_parent\"><img src=\"https://colab.research.google.com/assets/colab-badge.svg\" alt=\"Open In Colab\"/></a>"
      ]
    },
    {
      "cell_type": "markdown",
      "metadata": {
        "id": "ad8e29b1"
      },
      "source": [
        "# 3. zápočtová úloha z 01RAD\n",
        "\n",
        "## Popis úlohy\n",
        "\n",
        "Datový soubor vychází z datasetu \\texttt{House Sales in King County, USA}, který je k nalezení například na kaggle.com, nebo v knihovně \\texttt{library(moderndive)} data \\texttt{house\\_prices}.\n",
        "Původní dataset obsahuje prodejní ceny domů v oblasti King County, která obsahuje i město Seattle, a data byla nasbírána mezi květnem 2014 a květnem 2015. Pro naše potřeby bylo z datasetu vypuštěno jak několik proměnných, také byl dataset výrazně osekán a lehce modifikován.\n",
        "\n",
        "Dále byl dataset již dopředu rozdělen na tři části, které všechny postupně v rámci 3. zápočtové úlohy využijete.\n"
      ]
    },
    {
      "cell_type": "code",
      "execution_count": null,
      "metadata": {
        "lines_to_next_cell": 0,
        "tags": [
          "remove_input",
          "remove_cell"
        ],
        "id": "6c202f5f"
      },
      "outputs": [],
      "source": [
        "library(tidyverse)"
      ]
    },
    {
      "cell_type": "code",
      "execution_count": null,
      "metadata": {
        "tags": [
          "remove_input"
        ],
        "id": "09d4b6a7"
      },
      "outputs": [],
      "source": [
        "house_rad <- read.table(\"https://raw.githubusercontent.com/francji1/01RAD/main/data/01RAD2022_house.csv\",header=TRUE,sep=\",\")\n",
        "head(house_rad)"
      ]
    },
    {
      "cell_type": "markdown",
      "metadata": {
        "id": "59da5591"
      },
      "source": [
        "Data celkem obsahují  následujících 18 proměnných, přičemž naším cílem je prozkoumat vliv 12 z nich na cenu nemovitostí   * price}. Přičemž anglický popis jednotlivých proměnných (sloupců) je následující:\n",
        "\n",
        "Feature & Description\n",
        " \n",
        "  * id  : Our notation for a house  \n",
        " \n",
        "  * price  : Price is prediction target  \n",
        " \n",
        "  * bedrooms  : Number of Bedrooms/House  \n",
        " \n",
        "  * bathrooms  : Number of Bathrooms/Bedrooms  \n",
        " \n",
        "  * sqft\\_living  : Square footage of the home  \n",
        " \n",
        "  * sqft\\_lot  : Square footage of the lot   \n",
        " \n",
        "  * floors  :  Total floors (levels) in house \n",
        " \n",
        "  * waterfront  : House which has a view to a waterfront   \n",
        " \n",
        "  * view  : Has been viewed  \n",
        " \n",
        "  * condition  : How good the condition is Overall  \n",
        " \n",
        "  * grade  : Overall grade given to the housing unit \n",
        " \n",
        "  * sqft\\_above  : Square footage of house apart from basement   \n",
        " \n",
        "  * sqft\\_basement  : Square footage of the basement   \n",
        " \n",
        "  * yr\\_built  : Built Year   \n",
        " \n",
        "  * yr\\_renovated  : Year when house was renovated  \n",
        " \n",
        "  * sqft\\_living15  : Living room area in 2015 (implies– some renovations) \n",
        " \n",
        "  * sqft\\_lot15  : lotSize area in 2015 (implies– some renovations)  \n",
        " \n",
        "  * split  : Splitting variable with train, test and validation sample  \n"
      ]
    },
    {
      "cell_type": "markdown",
      "metadata": {
        "id": "0fec6286"
      },
      "source": [
        "## Podmínky a body\n",
        "\n",
        "Úkol i protokol vypracujte samostatně. Pokud na řešení nějaké úlohy budete přesto s někým spolupracovat, radit se, nezapomeňte to u odpovědi na danou otázku uvést. Tato zápočtová úloha obsahuje 10 otázek po 1 bodu. Celkem za 3 zápočtové úlohy bude možné získat 30 bodů, přičemž pro získání zápočtu je potřeba 20. Další dodatečné body mohu případně individuálně udělit za řešení mini domácích úkolů z jednotlivých hodin.\n",
        "\n",
        "## Odevzdání\n",
        "\n",
        "Protokol ve formátu pdf (včetně příslušného Rmd souboru) odevzdejte prostřednictvím MS Teams, nejpozději do 12:00 dne 5. 1. 2023.\n"
      ]
    },
    {
      "cell_type": "markdown",
      "metadata": {
        "id": "346e75c7"
      },
      "source": [
        "## Průzkumová a grafická část:\n",
        "\n",
        "* Otázka 01\n",
        "\n",
        "  Ověřte rozměry datového souboru, typy jednotlivých proměnných,  a shrňte základní popisné charakteristiky všech proměnných. Vykreslete histogram a odhad hustoty pro odezvu   * price}, dá se z toho již něco odvozovat pro budoucí analýzu?\n",
        "  \n",
        "  \\"
      ]
    },
    {
      "cell_type": "code",
      "execution_count": null,
      "metadata": {
        "tags": [
          "remove_input"
        ],
        "id": "b74945be"
      },
      "outputs": [],
      "source": [
        "\n"
      ]
    },
    {
      "cell_type": "markdown",
      "metadata": {
        "id": "6c6ae020"
      },
      "source": [
        "* Otázka 02\n",
        "\n",
        "  Jsou všechny proměnné použitelné pro analýzu a predikci ceny nemovitostí? Pokud data obsahují chybějící hodnoty, (případně nesmyslné hodnoty), lze je nějak nahradit (upravit), nebo musíme data odstranit?\n",
        "  \n",
        "  \\"
      ]
    },
    {
      "cell_type": "code",
      "execution_count": null,
      "metadata": {
        "lines_to_next_cell": 2,
        "tags": [
          "remove_input"
        ],
        "id": "73cbb840"
      },
      "outputs": [],
      "source": [
        "\n"
      ]
    },
    {
      "cell_type": "markdown",
      "metadata": {
        "id": "badc2ac6"
      },
      "source": [
        "* Otázka 03\n",
        " \n",
        "  Zkontrolujte pro 4 vybranné proměnné (price, sqft_living, grade, yr_built) bylo-li rozdělení datasetu pomocí proměnné split náhodné. Tj mají zmíněné proměnné ve skupinách train, test a validation přibližně stejné rozdělení?\n",
        "\n",
        "\\"
      ]
    },
    {
      "cell_type": "code",
      "execution_count": null,
      "metadata": {
        "tags": [
          "remove_input"
        ],
        "id": "6291ee6c"
      },
      "outputs": [],
      "source": [
        "\n"
      ]
    },
    {
      "cell_type": "markdown",
      "metadata": {
        "id": "6f7aa0f2"
      },
      "source": [
        "## Lineární model (použijte pouze trénovací data, tj. split == \"train\"):\n",
        "\n",
        "* Otázka 04\n",
        "\n",
        "  Spočtěte korelace mezi jednotlivými regressory a graficky je znázorněte. Dále spočtěte číso podmmíněnosti matice regresorů Kappa a VIF. Pokud se v datech vyskytuje znatelná multicollinearita, rozhodněte jaké proměnné a proč použijete v následném linárním modelu.\n"
      ]
    },
    {
      "cell_type": "code",
      "execution_count": null,
      "metadata": {
        "tags": [
          "remove_input"
        ],
        "id": "dab0f5d8"
      },
      "outputs": [],
      "source": [
        "\n"
      ]
    },
    {
      "cell_type": "markdown",
      "metadata": {
        "id": "4eb00e63"
      },
      "source": [
        "* Otázka 05\n",
        "    \n",
        "  Pouze pomocí trénovacích dat (tj., split == \"train\") a všech vybranných proměnných najděte vhodný lineární regresní model, který má za úkol predikovat co nejlépe cenu, tj. minimalizovat střední kvadratickou chybu (MSE). U výsledného modelu porovnejte VIF a Kappa s původní celkovou maticí regresorů.\n",
        "  \n",
        "\n"
      ]
    },
    {
      "cell_type": "code",
      "execution_count": null,
      "metadata": {
        "tags": [
          "remove_input"
        ],
        "id": "aafd1be4"
      },
      "outputs": [],
      "source": [
        "\n"
      ]
    },
    {
      "cell_type": "markdown",
      "metadata": {
        "id": "17831933"
      },
      "source": [
        "* Otázka 06\n",
        "\n",
        "   Pro Vámi vybraný model z předešlé otázky spočtěte příslušné infulenční míry. Uveďtě id pro 20 pozorování s největší hodnotou DIFF, největší hodnotou leverage (hatvalues) a největší hodnotou Cookovy vzdálenosti. (tj, 3 krát 20 hodnot). Jaká pozorování považujete za vlivná a odlehlá pozorování.\n"
      ]
    },
    {
      "cell_type": "code",
      "execution_count": null,
      "metadata": {
        "tags": [
          "remove_input"
        ],
        "id": "f51b0636"
      },
      "outputs": [],
      "source": [
        "\n"
      ]
    },
    {
      "cell_type": "markdown",
      "metadata": {
        "id": "d147919d"
      },
      "source": [
        "* Otázka 07\n",
        "\n",
        "  Validujte model pomocí grafického znázornění reziduí (Residual vs Fitted, QQ-plot, Cookova vzdálenost, Leverages, ...).\n",
        "  Identifikovali jste na základě této a předchozí otázky v datech nějaká podezřelá pozorování, která mohla vzniknout při úpravě (přepisu) datasetu? Doporučili byste tato pozorování z dat odstranit?"
      ]
    },
    {
      "cell_type": "code",
      "execution_count": null,
      "metadata": {
        "tags": [
          "remove_input"
        ],
        "id": "92d9b0c7"
      },
      "outputs": [],
      "source": [
        "\n"
      ]
    },
    {
      "cell_type": "markdown",
      "metadata": {
        "id": "2fe8b372"
      },
      "source": [
        "## Train, test, validation ...:  (možno vynechat pokud si jste jisti počtem bodů na zápočet)"
      ]
    },
    {
      "cell_type": "markdown",
      "metadata": {
        "id": "d54e707f"
      },
      "source": [
        "* Otázka 08\n",
        "\n",
        "  Pokud jste se rozhodli z dat odstranit nějaká pozorování, tak dále pracujtes s vyfiltrovaným datasetem a přetrénujte model z otázky 5. A spočtěte pro tento model $R^2$ statistiku a MSE jak na trénovacích tak testovacích datech (split == \"test\"). "
      ]
    },
    {
      "cell_type": "code",
      "execution_count": null,
      "metadata": {
        "tags": [
          "remove_input"
        ],
        "id": "c0f0d6a9"
      },
      "outputs": [],
      "source": [
        "\n"
      ]
    },
    {
      "cell_type": "markdown",
      "metadata": {
        "id": "73eb7dbf"
      },
      "source": [
        "* Otázka 09\n",
        "\n",
        "  Pomocí hřebenové regrese (případně pomocí LASSO a Elastic Net) zkuste najít nejlepší hyperparametr(y) tak, aby výsledný model měl co nejmenší MSE na testovacích datech.  "
      ]
    },
    {
      "cell_type": "code",
      "execution_count": null,
      "metadata": {
        "tags": [
          "remove_input"
        ],
        "id": "de25371b"
      },
      "outputs": [],
      "source": [
        "\n"
      ]
    },
    {
      "cell_type": "markdown",
      "metadata": {
        "id": "8c6a9b6f"
      },
      "source": [
        "* Otázka 10\n",
        "\n",
        "  Vyberte výsledný model a porovnejte MSE a $R^2$ na trénovacích, testovacích a validačních datech. Co z těchto hodnot usuzujete o kvalitě modelu a případném přetrénování? Je váš model vhodný pro predikci cen nemovitostí v okolí King County? Pokud ano, má tato predikce nějaká omezeni?"
      ]
    },
    {
      "cell_type": "code",
      "execution_count": null,
      "metadata": {
        "tags": [
          "remove_input"
        ],
        "id": "a1303b56"
      },
      "outputs": [],
      "source": [
        "\n"
      ]
    }
  ]
}