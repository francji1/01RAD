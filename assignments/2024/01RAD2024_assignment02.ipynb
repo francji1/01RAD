{
  "nbformat": 4,
  "nbformat_minor": 0,
  "metadata": {
    "colab": {
      "private_outputs": true,
      "provenance": [],
      "authorship_tag": "ABX9TyOjLJqtKAXPVl0SVBg6Wxyp",
      "include_colab_link": true
    },
    "kernelspec": {
      "name": "ir",
      "display_name": "R"
    },
    "language_info": {
      "name": "R"
    }
  },
  "cells": [
    {
      "cell_type": "markdown",
      "metadata": {
        "id": "view-in-github",
        "colab_type": "text"
      },
      "source": [
        "<a href=\"https://colab.research.google.com/github/francji1/01RAD/blob/main/assignments/2022/01RAD2022_assignement02.ipynb\" target=\"_parent\"><img src=\"https://colab.research.google.com/assets/colab-badge.svg\" alt=\"Open In Colab\"/></a>"
      ]
    },
    {
      "cell_type": "markdown",
      "metadata": {
        "id": "43ae2059"
      },
      "source": [
        "# 2. zápočtová úloha z 01RAD\n",
        "\n",
        "## Popis úlohy\n",
        "\n",
        "Datový soubor `Boston` je obsažen v balíku `MASS` a lze použít rovnou po načtení příslušné knihovny."
      ]
    },
    {
      "cell_type": "code",
      "execution_count": null,
      "metadata": {
        "tags": [
          "remove_input",
          "remove_cell"
        ],
        "id": "94300c8a"
      },
      "outputs": [],
      "source": [
        "knitr::opts_chunk$set(echo = FALSE)\n",
        "library(tidyverse)\n",
        "#library(GGally)\n",
        "#library(knitr)\n",
        "library(MASS)"
      ]
    },
    {
      "cell_type": "code",
      "execution_count": null,
      "metadata": {
        "lines_to_next_cell": 2,
        "tags": [
          "remove_input"
        ],
        "id": "3e8b08ff"
      },
      "outputs": [],
      "source": [
        "head(Boston)"
      ]
    },
    {
      "cell_type": "markdown",
      "metadata": {
        "id": "3d92a43e"
      },
      "source": [
        "Obsahuje celkem 506 záznamů z obcí v předměstí města Boston, MA, USA a data pocházejí ze studie v roce 1978.Viz Harrison, D. and Rubinfeld, D.L. (1978) Hedonic prices and the demand for clean air. J. Environ. Economics and Management 5, 81–102."
      ]
    },
    {
      "cell_type": "markdown",
      "metadata": {
        "id": "926f103e"
      },
      "source": [
        "Základní charakteristiky ohledně jednotlivých proměnných získáte pomocí funkcí `str(Boston)} a `summary(Boston)}."
      ]
    },
    {
      "cell_type": "markdown",
      "metadata": {
        "id": "15b1d82c"
      },
      "source": [
        "Data celkem obsahují 14 proměnných, přičemž naším cílem je prozkoumat vliv 13 z nich na cenu nemovitostí `medv`. Přičemž anglický popis jednotlivých proměnných (sloupců) je následující:\n",
        "\n",
        "Feature & Description \n",
        "\n",
        "`crim` per capita crime rate by town  \\\\\n",
        "\n",
        "`zn`: proportion of residential land zoned for lots over 25,000 sq.ft  \\\\\n",
        "\n",
        "`indus`: proportion of non-retail business acres per town  \\\\\n",
        "\n",
        "`chas`: Charles River dummy variable (= 1 if tract bounds river; 0 otherwise)  \n",
        "\n",
        "`nox`: nitrogen oxides concentration (parts per 10 million)  \\\\\n",
        "\n",
        "`rm`: average number of rooms per dwelling  \\\\\n",
        "\n",
        "`age`: proportion of owner-occupied units built prior to 1940  \\\\\n",
        "\n",
        "`dis`: weighted mean of distances to five Boston employment centres  \\\\\n",
        "\n",
        "`rad`: index of accessibility to radial highways  \\\\\n",
        "\n",
        "`tax`: full-value property-tax rate per \\$10,000  \\\\\n",
        "\n",
        "`ptratio`: pupil-teacher ratio by town  \\\\\n",
        "\n",
        "`black`:  $1000(B_k - 0.63)^2$ where $B_k$ is the proportion of blacks by town  \\\\\n",
        "\n",
        "`lstat`: lower status of the population (percent)  \\\\\n",
        "\n",
        "`medv`: median value of owner-occupied homes in \\$1000s  \\\\\n"
      ]
    },
    {
      "cell_type": "markdown",
      "source": [
        "\n",
        "## Podmínky a body\n",
        "\n",
        "Úkol i protokol vypracujte samostatně. Pokud na řešení nějaké úlohy budete přesto s někým spolupracovat, radit se, nezapomeňte to u odpovědi na danou otázku uvést. Tato zápočtová úloha obsahuje 10 otázek po 1 bodu. Celkem za 3 zápočtové úlohy bude možné získat 30 bodů, přičemž pro získání zápočtu je potřeba více jak 20. Další dodatečné body mohu případně individuálně udělit za extra práci na mini domácích úkolech nebo za aktivitu v hodině.\n",
        "\n",
        "## Odevzdání\n",
        "\n",
        "Protokol ve formátu pdf (včetně příslušného Rmd souboru), nebo jak jupyter NB (ideálně s odkazem na Colab) odevzdejte prostřednictvím MS Teams, nejpozději do půlnoci  14. 12. 2022 (tj. za 3 týdny).\n",
        "\n",
        "## Příprava dat:\n",
        "\n",
        "* Otázka 01\n",
        "\n",
        "  Z dat vyfilitrujte jen pozorování, kde proměnná `chas` je rovna 0, proměnná rad je menší než 20 a odezva `medv` neobsahuje opakující se maximální hodnoty vzniklé nejspíše zaokrouhlením. Zkontrolujte, že výsledný datset neobsahuje chybějící hodnoty a vykreslete scatterplot pro proměnné `indus` a `medv`."
      ],
      "metadata": {
        "id": "IPATdrtOaess"
      }
    },
    {
      "cell_type": "code",
      "execution_count": null,
      "metadata": {
        "tags": [
          "remove_input"
        ],
        "id": "c08ddf8e"
      },
      "outputs": [],
      "source": [
        "\n",
        "\n"
      ]
    },
    {
      "cell_type": "markdown",
      "metadata": {
        "id": "369c7e2a"
      },
      "source": [
        "## Regresní model závislosti mediánu ceny nemovitosti na zastoupení ne-maloobchodního podnikání v daném místě: \n"
      ]
    },
    {
      "cell_type": "markdown",
      "metadata": {
        "id": "79f64afe"
      },
      "source": [
        "* Otázka 2\n",
        "\n",
        "  Sestavte jednoduchý regresní model a na jeho základech zjistěte zdali proměnná `indus`  ovlivňuje median ceny nemovitostí určených k bydlení `medv`. Pokud ano, o kolik je průměr mediánů cen nemovitostí nižší/vyšší při vzrůstu zastoupení nemaloobchodního podnikání o 5 jednotek? "
      ]
    },
    {
      "cell_type": "markdown",
      "source": [
        "\n",
        "\n",
        "* Otázka 3\n",
        "\n",
        "  Vyzkoušejte model s mocninou a logaritmickou transformací odezvy. Pro výběr mocniné transformace vykreslete optimální  log-věrohodnostní profil u Box-Coxovy transformace a porovnejte navrženou transformaci s provedenou logaritmickou."
      ],
      "metadata": {
        "id": "nGDfoc3zcv7L"
      }
    },
    {
      "cell_type": "markdown",
      "metadata": {
        "id": "1e4d14a1"
      },
      "source": [
        "* Otázka 4\n",
        "\n",
        "  Z log transformovaného modelu vyčtěte procentuální navýšení/pokles ceny nemovitostí při změně zastoupení nemaloobchodního podnikání o 5 jednotek  (odpověď typu: \n",
        "Střední cena nemovitosti v lokalitách okolo Bostonu,  liších se podílem nemaloobchodních zón, klesá/roste zhruba o XX% na každou 1 jednotku nárůstu/poklesu podílu nemaloobchodních zón."
      ]
    },
    {
      "cell_type": "markdown",
      "source": [
        "\n",
        "\n",
        "* Otázka 5\n",
        "\n",
        "  Vyberte jeden z předešlých modelů (s/bez transformované odezvy) a zkuste transformovat i nezávislou proměnnou `indus`. Vyzkoušejte například po částech konstantní transformaci (odpovídající faktorizaci nezávislé proměnné), splines a polynomiální transformace (kvadratickou a kubickou). Zkuste využít informací získaných například z `crPlots(model)`. Lze některé z těchto modelů testovat mezi sebou F-testem? Pokud ano, proveďte a diskutujte.  "
      ],
      "metadata": {
        "id": "vRlFB79Cctdl"
      }
    },
    {
      "cell_type": "markdown",
      "source": [
        "\n",
        "\n",
        "* Otázka 6\n",
        "\n",
        "  Vyberte jeden z předešlých modelů, zdůvodněte jeho výběr a validujte ho pomocí příslušných testů hypotéz na rezidua (normalita, homoscedasticita, ...) a pomocí příslušných obrázků (QQplot, residua vs. fitted, atd.)"
      ],
      "metadata": {
        "id": "WlKIZN8xcugM"
      }
    },
    {
      "cell_type": "code",
      "source": [],
      "metadata": {
        "id": "K9TRCdLscrFC"
      },
      "execution_count": null,
      "outputs": []
    },
    {
      "cell_type": "markdown",
      "metadata": {
        "id": "9a06e37e"
      },
      "source": [
        "## Vícerozměrný regresní model\n",
        "\n",
        "* Otázka 7\n",
        "\n",
        "  Zkonstruujte lineární model s logaritmicky transformovanou odezvou `medv` a zkuste najít vztah mezi cenou a dalšími nezávislými proměnnými, které máte k dispozici (stačí aditivní model bez interakcí). Na základě kritérií jako jsou `AIC, BIC, $R^2$, F,` atd. vyberte podle vás nejvhodnější model. Lze vztah mezi `indus` a `medv`, pokud existuje, vysvětlit pomocí jiných proměnných? Tj, že například v oblastech s větším zastoupením velkoobchodu a průmyslu bydlí chudší lidé, je tam větší znečištění, nebo větší kriminalita atd.?"
      ]
    },
    {
      "cell_type": "markdown",
      "metadata": {
        "id": "703e7965"
      },
      "source": [
        "* Otázka 8\n",
        "\n",
        "  Použijte ve výsledném modelu proměnnou `indus` a porovnejte jak se změnil její vliv na medián ceny nemovitostí oproti jednoduchému regresnímu modelu s log transformovanou odezvou (viz otázka 4). Jaké je snížení průměrné ceny nemovitostí při vzrůstu proměnné indus o jednu jednotku? Pokud  proměnnou `indus` v modelu nemáte tak ji pro tuto otázku do modelu přiřaďte na úkor jiné proměnné s kterou je nejvíce korelovaná."
      ]
    },
    {
      "cell_type": "markdown",
      "metadata": {
        "id": "49d1540b"
      },
      "source": [
        "* Otázka 9\n",
        "\n",
        "\tPrezentujte váš výsledný model pro predikci `medv`, diskutujte výsledné parametry $R^2$, $\\sigma$, $F$ a porovnejte je s jednoduchým lin. modelem z otázky 6. Jak se změnily a dala se tato změna očekávat? Validujte model (jak graficky, tak pomocí příslušných testů hypotéz). Pomocí Partial regression plots a Partial residual plots diskutujte linearitu použitých proměnných."
      ]
    },
    {
      "cell_type": "markdown",
      "metadata": {
        "lines_to_next_cell": 0,
        "id": "0a307bea"
      },
      "source": [
        "* Otázka 10\n",
        "\n",
        "  Na základě vašeho modelu odpovězte, zdali si myslíte, že pokud bychom dokázali snížit/zvýšit podíl maloobchodu v dané lokalitě, vedlo by to ke zvýšení cen nemovitostí určených k bydlení v dané lokalitě? "
      ]
    },
    {
      "cell_type": "code",
      "execution_count": null,
      "metadata": {
        "tags": [
          "remove_input"
        ],
        "id": "fb1571d0"
      },
      "outputs": [],
      "source": []
    }
  ]
}