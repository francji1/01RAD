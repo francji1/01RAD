{
  "nbformat": 4,
  "nbformat_minor": 0,
  "metadata": {
    "colab": {
      "private_outputs": true,
      "provenance": [],
      "collapsed_sections": [],
      "authorship_tag": "ABX9TyNcEdnncQYhZTVpY484+Ltn",
      "include_colab_link": true
    },
    "kernelspec": {
      "name": "ir",
      "display_name": "R"
    },
    "language_info": {
      "name": "R"
    }
  },
  "cells": [
    {
      "cell_type": "markdown",
      "metadata": {
        "id": "view-in-github",
        "colab_type": "text"
      },
      "source": [
        "<a href=\"https://colab.research.google.com/github/francji1/01RAD/blob/main/HW/01RAD_Ex02_HW.ipynb\" target=\"_parent\"><img src=\"https://colab.research.google.com/assets/colab-badge.svg\" alt=\"Open In Colab\"/></a>"
      ]
    },
    {
      "cell_type": "markdown",
      "metadata": {
        "id": "x2ANRhx73HWm"
      },
      "source": [
        "# 01RAD Exercise *02*"
      ]
    },
    {
      "cell_type": "markdown",
      "source": [
        "Načtěte a případně si upravte data o ústřicích:\n",
        "\n",
        "Originalni zdroj dat: http://ww2.amstat.org/publications/jse/jse_data_archive.htm\n",
        "\n"
      ],
      "metadata": {
        "id": "eogC5gFhl-pt"
      }
    },
    {
      "cell_type": "code",
      "source": [
        "oysters <- read.table(\"https://raw.githubusercontent.com/francji1/01RAD/main/data/30oysters.csv\",header=TRUE,sep=\";\")\n",
        "head(oysters)"
      ],
      "metadata": {
        "id": "UQzWaxVgmAqp"
      },
      "execution_count": null,
      "outputs": []
    },
    {
      "cell_type": "code",
      "source": [
        "summary(oysters)"
      ],
      "metadata": {
        "id": "-KFrXnhylqTe"
      },
      "execution_count": null,
      "outputs": []
    },
    {
      "cell_type": "code",
      "source": [
        "plot(oysters$Oyster_Weight_g,oysters$Oyster_Volume_cc,\n",
        "     xlab=\"Vaha ustrice\",\n",
        "     ylab=\"Objem ustrice\")"
      ],
      "metadata": {
        "id": "oChUmdRzn5wP"
      },
      "execution_count": null,
      "outputs": []
    },
    {
      "cell_type": "markdown",
      "source": [
        "### Zadání:\n",
        "\n",
        "* Vykreslete histogramy, krabicove diagramy, scatterploty, kolacove diagramy,  pairs atd pro data ustrice.\n",
        "* Rozdelete ustrice do 3 skupin podle vahy 0-9, 9-12, 12-20 a vykreslete boxploty objemu pro tyto skupiny spolu s prumerem.\n",
        "* Rozdelte ustrice do 4 skupin podle hmotnosti - kvantilove a opakujte predchozi vykresleni obrazku.\n",
        "* Prolozte histogramy hmotnosti i objemu odhadem hustoty prislusneho normalniho rozdeleni (nepouzivejte jadrovy odhad s gaussovskym jadrem, ale husotu normalniho rozdeleni, kde si parametry $\\mu$ a $sd$ odhadnete sami zvlast).\n",
        "\n"
      ],
      "metadata": {
        "id": "UuJeEo2Bmu-C"
      }
    },
    {
      "cell_type": "code",
      "source": [],
      "metadata": {
        "id": "qpf67AHknP-j"
      },
      "execution_count": null,
      "outputs": []
    }
  ]
}