{
  "nbformat": 4,
  "nbformat_minor": 0,
  "metadata": {
    "colab": {
      "name": "01RAD_Ex01_HW.ipynb",
      "private_outputs": true,
      "provenance": [],
      "collapsed_sections": [],
      "authorship_tag": "ABX9TyPpZMrgt+6SMOPyIACH2ASP",
      "include_colab_link": true
    },
    "kernelspec": {
      "name": "ir",
      "display_name": "R"
    },
    "language_info": {
      "name": "R"
    }
  },
  "cells": [
    {
      "cell_type": "markdown",
      "metadata": {
        "id": "view-in-github",
        "colab_type": "text"
      },
      "source": [
        "<a href=\"https://colab.research.google.com/github/francji1/01RAD/blob/main/HW/01RAD_Ex01_HW.ipynb\" target=\"_parent\"><img src=\"https://colab.research.google.com/assets/colab-badge.svg\" alt=\"Open In Colab\"/></a>"
      ]
    },
    {
      "cell_type": "markdown",
      "metadata": {
        "id": "x2ANRhx73HWm"
      },
      "source": [
        "# Zadání úkolu 01"
      ]
    },
    {
      "cell_type": "markdown",
      "metadata": {
        "id": "OstVgL8Y3Bmd"
      },
      "source": [
        "\n",
        "* Načtěte si data `trees` z base balicku datasets.\n",
        "* Spočtěte střední hodnotu a rozptyl výšky a objemu stromů\n",
        "* Porovnejte výsledek ze zabudovaných funkcí s \"manuálním\" výpočtem podle vzorce.\n",
        "* Podívejte se `? trees` a převeďte proměnnou Girth na $cm$, Height na $m$, a Volume na $m^3$.\n",
        "* Spočtěte BMI index stromu za předpokladu, že objemová hmotnost dřeva všech uvedených stromů je konstantní a rovna 900 kg / m$^3$, Výsledek  uložte do tabulky trees jako novou proměnnou `BMI`.\t\n",
        "* Koukněte na tabulku `table` vypočtených hodnot, rozdělte ji na 3 skupiny  `{thin, normal, obese}` - a každému záznamu přiřaďte proměnnou typu faktor.\\\\\n",
        "\tpř: hodnoty break1 a break2 zvolte tak aby vám to dávalo smysl.\n",
        "``` \n",
        "\ttrees$obese = ...\n",
        "\t  cut(trees$BMI, c(0,break1,break2,1000),\n",
        "\t  labels = c(thin, normal, obese)) \n",
        "    ```"
      ]
    },
    {
      "cell_type": "code",
      "metadata": {
        "id": "UjvZsvm-24FV"
      },
      "source": [
        "2*2"
      ],
      "execution_count": null,
      "outputs": []
    }
  ]
}