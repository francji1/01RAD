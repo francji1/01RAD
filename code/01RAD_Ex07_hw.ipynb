{
  "nbformat": 4,
  "nbformat_minor": 0,
  "metadata": {
    "colab": {
      "private_outputs": true,
      "provenance": [],
      "authorship_tag": "ABX9TyOphdddUjQ3SgsNMpKsAxxT",
      "include_colab_link": true
    },
    "kernelspec": {
      "name": "python3",
      "display_name": "Python 3"
    },
    "language_info": {
      "name": "python"
    }
  },
  "cells": [
    {
      "cell_type": "markdown",
      "metadata": {
        "id": "view-in-github",
        "colab_type": "text"
      },
      "source": [
        "<a href=\"https://colab.research.google.com/github/francji1/01RAD/blob/main/code/01RAD_Ex07_hw.ipynb\" target=\"_parent\"><img src=\"https://colab.research.google.com/assets/colab-badge.svg\" alt=\"Open In Colab\"/></a>"
      ]
    },
    {
      "cell_type": "markdown",
      "source": [
        "# 01RAD Exercise 7 - team work\n",
        "\n",
        "Authors: name1, name 2, name3"
      ],
      "metadata": {
        "id": "zabFwaT_y0Tz"
      }
    },
    {
      "cell_type": "markdown",
      "source": [
        "\n",
        "## Description of the Assignment\n",
        "\n",
        "The dataset `Boston` contains a total of 506 records from towns in the suburbs of Boston, MA, USA. The data originates from the study by Harrison, D., and Rubinfeld, D.L. (1978), *Hedonic prices and the demand for clean air*, J. Environ. Economics and Management, 5, 81–102.\n",
        "\n",
        "The dataset includes 14 variables. The goal is to explore the influence of 13 of them on the median value of owner-occupied homes (`medv`). Below is a description of the variables:\n",
        "\n",
        "| Feature   | Description                                                                 |\n",
        "|-----------|-----------------------------------------------------------------------------|\n",
        "| `crim`    | Per capita crime rate by town                                              |\n",
        "| `zn`      | Proportion of residential land zoned for lots over 25,000 sq.ft            |\n",
        "| `indus`   | Proportion of non-retail business acres per town                           |\n",
        "| `chas`    | Charles River dummy variable (= 1 if tract bounds river; 0 otherwise)      |\n",
        "| `nox`     | Nitrogen oxides concentration (parts per 10 million)                       |\n",
        "| `rm`      | Average number of rooms per dwelling                                       |\n",
        "| `age`     | Proportion of owner-occupied units built prior to 1940                     |\n",
        "| `dis`     | Weighted mean of distances to five Boston employment centres               |\n",
        "| `rad`     | Index of accessibility to radial highways                                  |\n",
        "| `tax`     | Full-value property-tax rate per $10,000$                                   |\n",
        "| `ptratio` | Pupil-teacher ratio by  town    |                                            |\n",
        "| `black_tra`   | $1000\\left(\\text{black_pop} - 0.63\\right)^2$ where `black_pop` is the proportion of blacks by town       |\n",
        "| `lstat`   | Lower status of the population (percent)                                   |\n",
        "| `medv`    | Median value of owner-occupied homes in $1000s                             |\n",
        "\n",
        "---\n",
        "\n",
        "## Conditions and Scoring\n",
        "\n",
        "- Collaboration in the team is allowed and recommended.\n",
        "- This homework includes 14 questions.\n",
        "- Submit the homework in the corresponding `.ipynb` file, via MS Teams by the next week.\n",
        "---\n"
      ],
      "metadata": {
        "id": "rgsUsP_2QkIO"
      }
    },
    {
      "cell_type": "code",
      "execution_count": null,
      "metadata": {
        "id": "MmgCFRDJyhcl"
      },
      "outputs": [],
      "source": [
        "# Import libraries\n",
        "import pandas as pd\n",
        "import numpy as np\n"
      ]
    },
    {
      "cell_type": "code",
      "source": [],
      "metadata": {
        "id": "RRGg62JQ3kmp"
      },
      "execution_count": null,
      "outputs": []
    },
    {
      "cell_type": "code",
      "source": [
        "import pandas as pd\n",
        "import numpy as np\n",
        "\n",
        "# URL for the Boston housing dataset\n",
        "data_url = \"http://lib.stat.cmu.edu/datasets/boston\"\n",
        "\n",
        "# Reading the dataset\n",
        "raw_df = pd.read_csv(data_url, sep=\"\\s+\", skiprows=22, header=None)\n",
        "\n",
        "# Processing the dataset into features and target\n",
        "data = np.hstack([raw_df.values[::2, :], raw_df.values[1::2, :2]])\n",
        "target = raw_df.values[1::2, 2]\n",
        "\n",
        "# Column names\n",
        "columns = [\n",
        "    \"crim\", \"zn\", \"indus\", \"chas\", \"nox\", \"rm\", \"age\",\n",
        "    \"dis\", \"rad\", \"tax\", \"ptratio\", \"black_tra\", \"lstat\"\n",
        "]\n",
        "boston_df = pd.DataFrame(data, columns=columns)\n",
        "boston_df[\"medv\"] = target\n",
        "\n",
        "\n",
        "boston_df\n"
      ],
      "metadata": {
        "id": "u9bLMFl13B-2"
      },
      "execution_count": null,
      "outputs": []
    },
    {
      "cell_type": "markdown",
      "source": [
        "\n",
        "## Exploratory and Graphical Analysis\n",
        "\n",
        "### Question 01\n",
        "\n",
        "- Check for missing values and verify the dimensions of the dataset.\n",
        "- Summarize the descriptive statistics of all variables.\n",
        "- Plot a histogram and density estimate for the response variable `medv`.\n",
        "- Examine the frequency table of `medv` values and discuss whether rounding, truncation, or other issues are present.\n",
        "- Remove measurements deemed unreliable and discuss what this implies for the response model.\n",
        "\n",
        "```python\n",
        "\n",
        "\n",
        "\n"
      ],
      "metadata": {
        "id": "UuW64uar6L5M"
      }
    },
    {
      "cell_type": "markdown",
      "source": [
        "## Simple Regression Model: Median Price and Crime\n",
        "\n",
        "### Question 2\n",
        "\n",
        "- Build a simple linear regression model to examine if the crime rate (`crim`) affects the median value of homes (`medv`).\n",
        "- If there is an effect, determine how much the housing price decreases as the crime rate increases.\n",
        "\n",
        "---\n",
        "\n",
        "### Question 3\n",
        "\n",
        "- Experiment with power and logarithmic transformations of the response variable (`medv`).\n",
        "- To find the optimal power transformation, plot the log-likelihood profile for the Box-Cox transformation and compare it with a logarithmic transformation.\n",
        "\n",
        "---\n",
        "\n",
        "### Question 4\n",
        "\n",
        "- Based on the simple linear model and on the model with logarithmic transformations of the response variable, estimate the increase or decrease in housing prices for a one-unit change in the crime rate (`crim`).\n",
        "- Provide the correct interpretation from both models.\n",
        "\n",
        "---\n",
        "\n",
        "### Question 5\n",
        "\n",
        "- Keep the logarithmic transformation of the response (`medv`) and try transforming the independent variable (`crim`).\n",
        "- Use techniques such as piecewise constant transformations, or polynomial transformations (quadratic and cubic).\n",
        "- Use information from plots such as Component-Residual Plots (Partial Residual Plots) and Partial Regression Plots to guide your transformations.\n",
        "- Discuss whether these models can be compared using an F-test. If applicable, perform the test and interpret the results.\n",
        "\n",
        "---\n",
        "\n",
        "### Question 6\n",
        "\n",
        "- Select one of the previous models, justify your choice, and validate it using the appropriate hypothesis tests for residuals (normality, homoscedasticity, etc.).\n",
        "- Use diagnostic plots such as Q-Q plots, residuals vs. fitted values, and others to evaluate the model's assumptions.\n",
        "\n",
        "---\n"
      ],
      "metadata": {
        "id": "_EyeT_pK7LkB"
      }
    },
    {
      "cell_type": "markdown",
      "source": [
        "\n",
        "## Multivariate Regression Model\n",
        "\n",
        "### Question 7\n",
        "\n",
        "- Build a multivariate linear regression model with a logarithmic transformation of the response (`medv`).\n",
        "- Explore relationships between housing prices and other independent variables in an additive model (no interactions).\n",
        "- Use criteria such as AIC, BIC, $ R^2 $, and F-statistics to select the best model.\n",
        "- Investigate whether the relationship between `crim` and `medv` can be explained by other variables, such as proximity to highways or pollution levels.\n",
        "\n",
        "---\n",
        "\n",
        "### Question 8\n",
        "\n",
        "- Incorporate `crim` (crime rate) into the final model and compare how its influence on the median housing price differs from the simple regression model with a logarithmic transformation of the response (from Question 4).\n",
        "- Estimate the reduction in median housing price for a one-unit increase in the crime rate per 1,000 residents.\n",
        "\n",
        "---\n",
        "\n",
        "### Question 9\n",
        "\n",
        "- Present your final predictive model for `medv` and discuss the key parameters such as $ R^2 $, $ \\sigma $, and F-statistics.\n",
        "- Compare the final model with the simple linear model from Question 6. Discuss how these parameters have changed and whether this change was expected.\n",
        "- Validate the model both graphically and using hypothesis tests.\n",
        "\n",
        "---\n",
        "\n",
        "### Question 10\n",
        "\n",
        "- Based on your final model, answer whether reducing the crime rate in an area would lead to an increase in housing prices in that area.\n",
        "- Provide an explanation based on your findings.\n"
      ],
      "metadata": {
        "id": "INE7xTEg7NCV"
      }
    },
    {
      "cell_type": "markdown",
      "source": [
        "## Investigating the Transformation of the `black_tra` Variable\n",
        "\n",
        "<!--\n",
        "# Add a new variable `black_pop` representing the proportion of Black population\n",
        "boston_df[\"black_pop\"] = 0.63 - np.sqrt(boston_df[\"black_tra\"] / 1000)\n",
        " -->"
      ],
      "metadata": {
        "id": "Nn3vN2LYJAV1"
      }
    },
    {
      "cell_type": "code",
      "source": [
        "# Motivation of this section\n",
        "from sklearn.datasets import load_boston\n",
        "\n",
        "# Load dataset\n",
        "boston_data = load_boston()"
      ],
      "metadata": {
        "id": "Ve9Kp3kTJG0K"
      },
      "execution_count": null,
      "outputs": []
    },
    {
      "cell_type": "markdown",
      "source": [
        "\n",
        "### Question 11: Compare Coefficients in Simple Models\n",
        "\n",
        "Investigate, if the transformation of `black_pop` into `black_tra` was  misleading and suggestive. Add new variable `black_pop` into the data frame by inverse of orginal transformation.\n",
        "\n",
        "- Build two separate simple linear regression models:\n",
        "  1. Predicting `medv` using `black_tra`.\n",
        "  2. Predicting `medv` using `black_pop`.\n",
        "- Compare the coefficients from both models and interpret the differences.\n",
        "- Discuss whether the transformation of `black_tra` appears to exaggerate or diminish its relationship with `medv`.\n",
        "\n",
        "---\n",
        "\n",
        "### Question 12: Stepwise Regression with `black_tra`\n",
        "\n",
        "- Perform stepwise regression starting with all independent variables, including `black_tra`, as predictors of `medv`.\n",
        "- Evaluate whether `black_tra` remains significant in the final model after stepwise variable selection.\n",
        "- Discuss whether its significance changes when considered alongside other predictors.\n",
        "\n",
        "---\n",
        "\n",
        "### Question 13: Stepwise Regression with `black_pop`\n",
        "\n",
        "- Repeat the stepwise regression from Question 12, but this time replace `black_tra` with `black_pop`.\n",
        "- Evaluate whether `black_pop` remains significant in the final model.\n",
        "- Compare its significance to that of `black_tra` from Question 12.\n",
        "\n",
        "---\n",
        "\n",
        "### Question 14: Impact on Predictions\n",
        "\n",
        "- For both the models from Questions 12 and 13 (stepwise regression with `black_tra` and `black_pop`), compare their predictions for `medv`.\n",
        "- Specifically:\n",
        "  1. Calculate predictions for a range of values of `black_tra` and `black_pop`.\n",
        "  2. Plot the predictions and interpret whether the two variables result in substantially different predicted values.\n",
        "- Discuss whether the transformed variable (`black_tra`) or its proportion counterpart (`black_pop`) leads to any noticeable bias or distortion in predictions.\n"
      ],
      "metadata": {
        "id": "u5dQeJXeJF-z"
      }
    },
    {
      "cell_type": "code",
      "source": [],
      "metadata": {
        "id": "d2cweQYtziLu"
      },
      "execution_count": null,
      "outputs": []
    },
    {
      "cell_type": "code",
      "source": [],
      "metadata": {
        "id": "z17yMfNC7JA9"
      },
      "execution_count": null,
      "outputs": []
    }
  ]
}