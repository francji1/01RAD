{
  "cells": [
    {
      "cell_type": "markdown",
      "metadata": {
        "id": "view-in-github",
        "colab_type": "text"
      },
      "source": [
        "<a href=\"https://colab.research.google.com/github/francji1/01RAD/blob/main/code/01RAD_Ex04_HW_python.ipynb\" target=\"_parent\"><img src=\"https://colab.research.google.com/assets/colab-badge.svg\" alt=\"Open In Colab\"/></a>"
      ]
    },
    {
      "cell_type": "markdown",
      "metadata": {
        "id": "1e437db5"
      },
      "source": [
        "\n",
        "# 01RAD – Homework Assignment 01 (After Exercise 04)\n",
        "\n",
        "This homework guides you through data preparation, exploratory analysis, and simple linear regression using a housing market dataset.\n",
        "\n"
      ]
    },
    {
      "cell_type": "markdown",
      "metadata": {
        "id": "f65bd53f"
      },
      "source": [
        "\n",
        "## Conditions and grading\n",
        "\n",
        "- Work on the assignment individually or in Team. If you discuss specific questions with classmates, mention it in the corresponding answer.\n",
        "\n",
        "\n"
      ]
    },
    {
      "cell_type": "markdown",
      "metadata": {
        "id": "2ej6l7-Z9MvJ"
      },
      "source": [
        "\n",
        "## Submission\n",
        "\n",
        "Submit your work as a Jupyter notebook (`.ipynb`) runnable in Google Colab. Include your name at the top of the notebook. Deadline: **November 2nd  2025**.\n",
        "\n"
      ]
    },
    {
      "cell_type": "markdown",
      "metadata": {
        "id": "T9O0WiqW9H6_"
      },
      "source": [
        "\n",
        "## Dataset\n",
        "\n",
        "Use the CSV file hosted at:\n",
        "\n",
        "```\n",
        "https://raw.githubusercontent.com/francji1/01RAD/main/data/sarasota_houses_mod.csv\n",
        "```\n",
        "\n",
        "Load the data with `pandas.read_csv`. The table contains 1 057 houses from the Sarasota (FL) area. Columns:\n",
        "\n",
        "| column | description |\n",
        "| --- | --- |\n",
        "| `price` | sale price in USD |\n",
        "| `living_area` | interior living area in square feet |\n",
        "| `bathrooms` | number of bathrooms (can be fractional) |\n",
        "| `bedrooms` | number of bedrooms |\n",
        "| `fireplaces` | count of fireplaces |\n",
        "| `lot_size` | lot size in acres |\n",
        "| `age` | age of the house (years) |\n",
        "| `fireplace` | boolean indicator whether the house has at least one fireplace |\n",
        "\n",
        "You will convert the imperial units during the tasks below.\n",
        "\n"
      ]
    },
    {
      "cell_type": "markdown",
      "metadata": {
        "id": "UgpskaXd9Q8m"
      },
      "source": [
        "\n",
        "## Data preview\n",
        "\n"
      ]
    },
    {
      "cell_type": "code",
      "execution_count": null,
      "metadata": {
        "id": "k8XD6U_R9YUE"
      },
      "outputs": [],
      "source": [
        "# preview the dataset\n",
        "import pandas as pd\n",
        "\n",
        "url = \"https://raw.githubusercontent.com/francji1/01RAD/main/data/sarasota_houses_mod.csv\"\n",
        "houses = pd.read_csv(url)\n",
        "houses.head()\n"
      ]
    },
    {
      "cell_type": "code",
      "execution_count": null,
      "metadata": {
        "id": "SYPVgqkciy17"
      },
      "outputs": [],
      "source": [
        "# TODO: import required libraries and load the dataset into a pandas DataFrame named `houses`\n"
      ]
    },
    {
      "cell_type": "markdown",
      "metadata": {
        "id": "W3OFt9Wq9BWo"
      },
      "source": [
        "\n",
        "## Task 01 – Data audit\n",
        "\n",
        "Check whether the dataset contains missing values. If it does, discuss whether you can safely remove the affected observations. Identify which variables are quantitative and which are qualitative (categorical). If a variable could be treated either way, state your choice and rationale. Compute basic descriptive statistics for each variable.\n",
        "\n"
      ]
    },
    {
      "cell_type": "code",
      "execution_count": null,
      "metadata": {
        "id": "5LW54_7viy17"
      },
      "outputs": [],
      "source": [
        "\n",
        "### Suggested exchange rates and unit conversions\n",
        "\n",
        "# with an exchange rate of **1 USD = 23 CZK** and express the price in thousands of CZK.\n",
        "\n",
        "# Convert areas to square metres:\n",
        "#  - `living_area` (square feet) → multiply by **0.092903**.\n",
        "#  - `lot_size` (acres) → multiply by **4046.86**.\n",
        "\n",
        "\n"
      ]
    },
    {
      "cell_type": "code",
      "execution_count": null,
      "metadata": {
        "id": "rfglU873Xr44"
      },
      "outputs": [],
      "source": [
        "# TODO: Task 01\n"
      ]
    },
    {
      "cell_type": "markdown",
      "metadata": {
        "id": "07a085bd"
      },
      "source": [
        "\n",
        "## Task 02 – Unit conversion and filtering\n",
        "\n",
        "Create a cleaned subset of the data that satisfies all of the following:\n",
        "\n",
        "1. Convert `price` to thousands of CZK using the exchange rate given above.\n",
        "2. Convert `living_area` and `lot_size` to square metres.\n",
        "3. Keep only houses that are older than 10 years but not older than 50 years.\n",
        "4. Keep only houses with price below 7 500 CZK (in thousands), and lot size between 500 m² and 5 000 m².\n",
        "5. Convert `bathrooms` and `bedrooms` to categorical variables with three levels of your choice (justify the cut points in your report).\n",
        "\n",
        "Use this filtered dataset for the remaining tasks unless explicitly noted otherwise, and focus on these variables: `price_czk`, `living_area_m2`, `lot_size_m2`, `bedrooms_cat`, `bathrooms_cat`, `age`, `fireplace`.\n",
        "\n"
      ]
    },
    {
      "cell_type": "code",
      "execution_count": null,
      "metadata": {
        "id": "ff8d4e91",
        "tags": [
          "remove_input"
        ]
      },
      "outputs": [],
      "source": [
        "# TODO: Task 02\n"
      ]
    },
    {
      "cell_type": "markdown",
      "metadata": {
        "id": "VbFGPpNDMqe_"
      },
      "source": [
        "\n",
        "## Task 03 – Price comparison (fireplace vs no fireplace)\n",
        "\n",
        "Compare the mean price of houses with a fireplace to those without one. Test the hypothesis that houses with a fireplace have a higher mean price at the 1% significance level. Clearly state the hypotheses, the test statistic you use, its value, and your conclusion.\n",
        "\n"
      ]
    },
    {
      "cell_type": "code",
      "execution_count": null,
      "metadata": {
        "id": "wa11wNb6OoXI"
      },
      "outputs": [],
      "source": [
        "# TODO: Task 03\n"
      ]
    },
    {
      "cell_type": "markdown",
      "metadata": {
        "id": "b1cdb7fa"
      },
      "source": [
        "\n",
        "# Data visualisation\n",
        "\n",
        "## Task 04 – Exploratory plots\n",
        "\n",
        "- Draw scatter plots for each pair of numerical variables, using colour to indicate the presence of a fireplace (`fireplace`).\n",
        "- Plot boxplots (or violin plots) of `price_czk` against the categorical versions of `bedrooms`, `bathrooms`, and the boolean `fireplace` indicator.\n",
        "- Display a histogram of `price_czk` and overlay a kernel density estimate.\n",
        "\n"
      ]
    },
    {
      "cell_type": "code",
      "execution_count": null,
      "metadata": {
        "id": "9c6a9986",
        "lines_to_next_cell": 2,
        "tags": [
          "remove_input"
        ]
      },
      "outputs": [],
      "source": [
        "# TODO: Task 04\n"
      ]
    },
    {
      "cell_type": "markdown",
      "metadata": {
        "id": "cdbffc50",
        "lines_to_next_cell": 0
      },
      "source": [
        "\n",
        "## Task 05 – Combined categories\n",
        "\n",
        "For the combinations of `bedrooms_cat` and `bathrooms_cat`, visualise the distribution of `price_czk`. Ensure that the plot clearly shows which combinations exist in the filtered dataset and whether price levels differ across them.\n",
        "\n"
      ]
    },
    {
      "cell_type": "code",
      "execution_count": null,
      "metadata": {
        "id": "d5208964",
        "tags": [
          "remove_input"
        ]
      },
      "outputs": [],
      "source": [
        "# TODO: Task 05\n"
      ]
    },
    {
      "cell_type": "markdown",
      "metadata": {
        "id": "37583820",
        "lines_to_next_cell": 0
      },
      "source": [
        "\n",
        "## Task 06 – Focus on two-bedroom houses\n",
        "\n",
        "Restrict the data to houses with exactly two bedrooms (before categorisation). Plot `price_czk` against `living_area_m2`, colour the points by `fireplace`, and scale the point size according to the number of bathrooms (treat `bathrooms` as numeric for this plot).\n",
        "\n"
      ]
    },
    {
      "cell_type": "markdown",
      "metadata": {
        "id": "ebaQtBBORiig"
      },
      "source": [
        "\n",
        "**From this point on, continue working with the subset of two-bedroom houses unless a task specifies otherwise.**\n",
        "\n"
      ]
    },
    {
      "cell_type": "code",
      "execution_count": null,
      "metadata": {
        "id": "c4ba5f59",
        "tags": [
          "remove_input"
        ]
      },
      "outputs": [],
      "source": [
        "# TODO: Task 06\n"
      ]
    },
    {
      "cell_type": "markdown",
      "metadata": {
        "id": "51fc7cc4"
      },
      "source": [
        "\n",
        "# Simple linear regression\n",
        "\n"
      ]
    },
    {
      "cell_type": "markdown",
      "metadata": {
        "id": "354a8344",
        "lines_to_next_cell": 0
      },
      "source": [
        "\n",
        "## Task 07 – Simple regression (with and without intercept)\n",
        "\n",
        "Fit two linear models explaining `price_czk` by `living_area_m2`: one with an intercept and one without. Report $R^2$ and the $F$-statistic for both models. Choose the model you prefer and justify your choice. Using the selected model, answer whether price depends on living area and by how much the expected price changes if the living area increases by 20 m².\n",
        "\n"
      ]
    },
    {
      "cell_type": "code",
      "execution_count": null,
      "metadata": {
        "id": "vl0CuD4tDI8z"
      },
      "outputs": [],
      "source": [
        "# TODO: Task 07\n"
      ]
    },
    {
      "cell_type": "markdown",
      "metadata": {
        "id": "5ac2ca23"
      },
      "source": [
        "\n",
        "## Task 08 – Separate models by fireplace\n",
        "\n",
        "Fit the same simple regression separately for houses with a fireplace and without a fireplace. Which group exhibits a stronger linear relationship between price and living area? By how much does the slope differ between the two models? Compute 95% confidence intervals for the slopes and discuss whether they overlap. Estimate the percentage difference in expected price for a 160 m² house with a fireplace versus one without a fireplace.\n",
        "\n"
      ]
    },
    {
      "cell_type": "code",
      "execution_count": null,
      "metadata": {
        "id": "07ba8268",
        "tags": [
          "remove_input"
        ]
      },
      "outputs": [],
      "source": [
        "# TODO: Task 08\n"
      ]
    },
    {
      "cell_type": "markdown",
      "metadata": {
        "id": "11ed78d7",
        "lines_to_next_cell": 0
      },
      "source": [
        "\n",
        "## Task 09 – Visual comparison of models\n",
        "\n",
        "Create a scatter plot of `living_area_m2` versus `price_czk` showing the two fitted regression lines (with and without a fireplace). Add 90% confidence bands for the mean predictions. Use the plot to comment on whether expected prices differ for houses with living area below 120 m². Explain whether this comparison is appropriate.\n",
        "\n"
      ]
    },
    {
      "cell_type": "code",
      "execution_count": null,
      "metadata": {
        "id": "9ae5864a",
        "lines_to_next_cell": 2,
        "tags": [
          "remove_input"
        ]
      },
      "outputs": [],
      "source": [
        "# TODO: Task 09\n"
      ]
    },
    {
      "cell_type": "markdown",
      "metadata": {
        "id": "bfeecac9",
        "lines_to_next_cell": 0
      },
      "source": [
        "\n",
        "## Task 10 – Residual diagnostics\n",
        "\n",
        "Plot histograms of the residuals from the models in Task 09. Overlay the density of a normal distribution with mean zero and variance equal to the estimated $\\hat{\\sigma}^2$ of each model. Comment on the findings and suggest further model improvements. Plot corresponding QQ plots and  discuss them.\n",
        "\n"
      ]
    },
    {
      "cell_type": "code",
      "execution_count": null,
      "metadata": {
        "id": "c91c49d3",
        "lines_to_next_cell": 0,
        "tags": [
          "remove_input"
        ]
      },
      "outputs": [],
      "source": [
        "# TODO: Task 10\n"
      ]
    }
  ],
  "metadata": {
    "colab": {
      "private_outputs": true,
      "provenance": [],
      "include_colab_link": true
    },
    "kernelspec": {
      "display_name": "Python 3",
      "name": "python3"
    },
    "language_info": {
      "codemirror_mode": {
        "name": "ipython",
        "version": 3
      },
      "file_extension": ".py",
      "mimetype": "text/x-python",
      "name": "python",
      "nbconvert_exporter": "python",
      "pygments_lexer": "ipython3",
      "version": "3.12.7"
    }
  },
  "nbformat": 4,
  "nbformat_minor": 0
}