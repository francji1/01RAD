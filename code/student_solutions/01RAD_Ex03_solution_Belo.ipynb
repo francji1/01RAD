{
  "nbformat": 4,
  "nbformat_minor": 0,
  "metadata": {
    "colab": {
      "private_outputs": true,
      "provenance": [],
      "include_colab_link": true
    },
    "kernelspec": {
      "name": "python3",
      "display_name": "Python 3"
    },
    "language_info": {
      "name": "python"
    }
  },
  "cells": [
    {
      "cell_type": "markdown",
      "metadata": {
        "id": "view-in-github",
        "colab_type": "text"
      },
      "source": [
        "<a href=\"https://colab.research.google.com/github/francji1/01RAD/blob/main/code/01RAD_Ex03_solution_Belo.ipynb\" target=\"_parent\"><img src=\"https://colab.research.google.com/assets/colab-badge.svg\" alt=\"Open In Colab\"/></a>"
      ]
    },
    {
      "cell_type": "markdown",
      "source": [
        "# 01RAD Exercise 03"
      ],
      "metadata": {
        "id": "5SL2gaKMqH9M"
      }
    },
    {
      "cell_type": "markdown",
      "source": [
        "Last exercise: simple linear regression + different approaches how to add categorical varaible"
      ],
      "metadata": {
        "id": "vmhNKTe8qJPh"
      }
    },
    {
      "cell_type": "code",
      "source": [
        "import pandas as pd\n",
        "import seaborn as sns\n",
        "import matplotlib.pyplot as plt\n",
        "import numpy as np\n",
        "import scipy.stats as stats\n",
        "\n",
        "import statsmodels.api as sm\n",
        "import statsmodels.formula.api as smf\n",
        "\n",
        "from statsmodels.stats.multicomp import pairwise_tukeyhsd\n",
        "from statsmodels.datasets import get_rdataset\n",
        "from scipy.stats import t,norm\n",
        "\n",
        "from sklearn.linear_model import LinearRegression"
      ],
      "metadata": {
        "id": "FNwFWm9ArpLo"
      },
      "execution_count": null,
      "outputs": []
    },
    {
      "cell_type": "code",
      "source": [],
      "metadata": {
        "id": "B_hBFQVYNN40"
      },
      "execution_count": null,
      "outputs": []
    },
    {
      "cell_type": "markdown",
      "source": [
        "# Individual student work\n",
        "\n",
        "# **Exercise: Developing a Marketing Plan Based on Advertising Data**\n",
        "\n",
        "Imagine that you are statistical consultants tasked with building a marketing plan for the next year to maximize product sales. You have access to a dataset that contains information on the advertising budget allocated to three different media channels—**TV**, **Radio**, and **Newspaper**—and the corresponding **Sales** figures.\n",
        "\n",
        "## **Dataset Description**\n",
        "\n",
        "- **Variables:**\n",
        "  - **TV**: Advertising budget allocated to TV (in thousands of dollars)\n",
        "  - **Radio**: Advertising budget allocated to Radio (in thousands of dollars)\n",
        "  - **Newspaper**: Advertising budget allocated to Newspaper (in thousands of dollars)\n",
        "  - **Sales**: Product sales (in thousands of units)\n",
        "\n",
        "## **Tasks**\n",
        "\n",
        "Based on this data and your final regression model, answer the following questions:\n",
        "\n",
        "1. **Relationship Between Advertising Budget and Sales**\n",
        "   - Is there a statistically significant relationship between the advertising budget and sales?\n",
        "\n",
        "2. **Contribution of Each Media**\n",
        "   - Do all three media channels—TV, Radio, and Newspaper—contribute to sales?\n",
        "   - Which media have significant effects on sales?\n",
        "\n",
        "3. **Media Generating the Biggest Boost in Sales**\n",
        "   - Which advertising medium generates the largest increase in sales per unit increase in budget?\n",
        "\n",
        "4. **Strength of the Relationship**\n",
        "   - How strong is the relationship between the advertising budget and sales?\n",
        "   - What is the coefficient of determination (R-squared) of your model?\n",
        "\n",
        "5. **Effect of TV Advertising**\n",
        "   - How much increase in sales is associated with a given increase in TV advertising budget?\n",
        "\n",
        "6. **Effect of Radio Advertising**\n",
        "   - How much increase in sales is associated with a given increase in Radio advertising budget?\n",
        "\n",
        "7. **Accuracy of Estimated Effects**\n",
        "   - How accurately can we estimate the effect of each medium on sales?\n",
        "   - Provide the confidence intervals for the coefficients of each medium.\n",
        "\n",
        "8. **Predicting Future Sales**\n",
        "   - How accurately can we predict future sales based on the advertising budgets?\n",
        "   - What is the standard error of the estimate?\n",
        "\n",
        "9. **Optimal Allocation of Advertising Budget**\n",
        "    - Imagine you have a budget of $100,000. What is the best strategy to allocate this budget among TV, Radio, and Newspaper advertising to maximize sales?\n",
        "\n",
        "10. **Predicting Sales for Specific Budget Allocation**\n",
        "    - If you spend $10,000 on TV advertising and $20,000 on Radio advertising, how much increase in sales can you expect?\n",
        "\n",
        "11. **Confidence Interval for Predicted Sales**\n",
        "    - What is the 95% confidence interval for the predicted sales in the previous question?\n",
        "\n",
        "12. **Checking Correlation Between Independent Variables**\n",
        "    - Are there significant correlations between the advertising budgets for different media?\n",
        "    - How might multicollinearity affect your regression model?\n",
        "\n",
        "\n"
      ],
      "metadata": {
        "id": "6aBkIp1uNSfq"
      }
    },
    {
      "cell_type": "code",
      "source": [
        "# Load the data\n",
        "data = pd.read_csv(\"https://raw.githubusercontent.com/francji1/01RAD/main/data/Advert.csv\", sep=\",\")\n",
        "data.head()"
      ],
      "metadata": {
        "id": "7ROONrvbNUur"
      },
      "execution_count": null,
      "outputs": []
    },
    {
      "cell_type": "code",
      "source": [
        "from pandas.plotting import scatter_matrix\n",
        "\n",
        "# Drop the index column if necessary\n",
        "data = data.drop(columns=['Unnamed: 0'], errors='ignore')\n",
        "\n",
        "# Generate scatter matrix\n",
        "scatter_matrix(data, figsize=(10, 10), diagonal='kde', alpha=0.7, marker='o')\n",
        "plt.suptitle(\"Scatter Matrix of Advertising Data\")\n",
        "plt.show()"
      ],
      "metadata": {
        "id": "2pK00NCpad6S"
      },
      "execution_count": null,
      "outputs": []
    },
    {
      "cell_type": "markdown",
      "source": [
        "## Task 1\n",
        "**Is there a statistically significant relationship between the advertising budget and sales?**"
      ],
      "metadata": {
        "id": "wvyETBXxmnCp"
      }
    },
    {
      "cell_type": "code",
      "source": [
        "# Define the predictors and response variable\n",
        "X = data[['TV', 'radio', 'newspaper']]\n",
        "y = data['sales']\n",
        "\n",
        "# Add a constant term for the intercept\n",
        "X = sm.add_constant(X)\n",
        "\n",
        "# Fit the model\n",
        "model = sm.OLS(y, X).fit()\n",
        "\n",
        "# Print the summary\n",
        "print(model.summary())"
      ],
      "metadata": {
        "id": "raA0HpeBP86k"
      },
      "execution_count": null,
      "outputs": []
    },
    {
      "cell_type": "markdown",
      "source": [
        "## Task 1\n",
        "There is a statistical significant relationship as the F-statistic is 570 with pvalue of 1.59e-96.\n"
      ],
      "metadata": {
        "id": "LYP22jOmbCBm"
      }
    },
    {
      "cell_type": "markdown",
      "source": [
        "\n",
        "## Task 2\n",
        "- **Do all three media channels—TV, Radio, and Newspaper—contribute to sales?**\n",
        "- **Which media have significant effects on sales?**\n",
        "\n",
        "\n",
        "Additionally, from the output we can see that not all media contributes equally to sales. TV and radio have significat relationship with pvalues < 0.05, while newspaper has a pvalue of 0.860 and may not contribute that much.\n"
      ],
      "metadata": {
        "id": "szbmViG9bFV9"
      }
    },
    {
      "cell_type": "code",
      "source": [
        "# Simple linear regression models\n",
        "model_tv = smf.ols('sales ~ TV', data=data).fit()\n",
        "print(model_tv.summary())\n",
        "\n",
        "model_ra = smf.ols('sales ~ radio', data=data).fit()\n",
        "print(model_ra.summary())\n",
        "\n",
        "model_np = smf.ols('sales ~ newspaper', data=data).fit()\n",
        "print(model_np.summary())"
      ],
      "metadata": {
        "id": "-_3vv6ZBa2vt"
      },
      "execution_count": null,
      "outputs": []
    },
    {
      "cell_type": "code",
      "source": [
        "# Predictions for simple models\n",
        "new_data = pd.DataFrame({\n",
        "    'TV': np.arange(0, 301, 5),\n",
        "    'radio': np.arange(0, 301, 5),\n",
        "    'newspaper': np.arange(0, 301, 5)\n",
        "})\n",
        "\n",
        "predictions_tv = model_tv.get_prediction(new_data).summary_frame()\n",
        "predictions_ra = model_ra.get_prediction(new_data).summary_frame()\n",
        "predictions_np = model_np.get_prediction(new_data).summary_frame()\n",
        "\n",
        "# Plotting\n",
        "sns.scatterplot(x='TV', y='sales', data=data)\n",
        "sns.lineplot(x=new_data['TV'], y=predictions_tv['mean'], color=\"red\")\n",
        "plt.fill_between(new_data['TV'], predictions_tv['obs_ci_lower'], predictions_tv['obs_ci_upper'], color='blue', alpha=0.3)\n",
        "plt.show()"
      ],
      "metadata": {
        "id": "X0ZzqFQzbe_I"
      },
      "execution_count": null,
      "outputs": []
    },
    {
      "cell_type": "code",
      "source": [
        "# Create a figure with subplots\n",
        "fig, axs = plt.subplots(1, 3, figsize=(15, 5))\n",
        "\n",
        "# TV vs Sales\n",
        "sns.scatterplot(x='TV', y='sales', data=data, ax=axs[0])\n",
        "model_tv = smf.ols('sales ~ TV', data=data).fit()\n",
        "sns.lineplot(x='TV', y=model_tv.predict(data['TV']), data=data, ax=axs[0], color='blue')\n",
        "\n",
        "# Radio vs Sales\n",
        "sns.scatterplot(x='radio', y='sales', data=data, ax=axs[1])\n",
        "model_ra = smf.ols('sales ~ radio', data=data).fit()\n",
        "sns.lineplot(x='radio', y=model_ra.predict(data['radio']), data=data, ax=axs[1], color='blue')\n",
        "\n",
        "# Newspaper vs Sales\n",
        "sns.scatterplot(x='newspaper', y='sales', data=data, ax=axs[2])\n",
        "model_np = smf.ols('sales ~ newspaper', data=data).fit()\n",
        "sns.lineplot(x='newspaper', y=model_np.predict(data['newspaper']), data=data, ax=axs[2], color='blue')\n",
        "\n",
        "# Set the title for each subplot\n",
        "axs[0].set_title('TV Advertisements vs Sales')\n",
        "axs[1].set_title('Radio Advertisements vs Sales')\n",
        "axs[2].set_title('Newspaper Advertisements vs Sales')\n",
        "\n",
        "plt.tight_layout()\n",
        "plt.show()"
      ],
      "metadata": {
        "id": "md-iFIeVbmIU"
      },
      "execution_count": null,
      "outputs": []
    },
    {
      "cell_type": "markdown",
      "source": [
        "\n",
        "## Task 3\n",
        "**Which advertising medium generates the largest increase in sales per unit increase in budget?**\n",
        "\n",
        "Radio generates the largest increase in sales with a coefficient of 0.1885. TV has a coefficient of 0.0458.\n",
        "\n",
        "## Task 4\n",
        "- **How strong is the relationship between the advertising budget and sales?**\n",
        "- **What is the coefficient of determination (R-squared) of your model?**\n",
        "\n",
        "It is suggested that the relationship is strong with an R squared of 0.897.\n",
        "\n"
      ],
      "metadata": {
        "id": "aLU2Fykil0Pg"
      }
    },
    {
      "cell_type": "code",
      "source": [
        "# Models with and without interactions\n",
        "model0 = smf.ols('sales ~ TV * radio * newspaper', data=data).fit()\n",
        "print(model0.summary())\n",
        "print(model0.conf_int())\n",
        "\n",
        "model1 = smf.ols('sales ~ TV + radio + newspaper', data=data).fit()\n",
        "print(model1.summary())\n",
        "print(model1.conf_int())\n",
        "\n",
        "model2 = smf.ols('sales ~ TV * radio', data=data).fit()\n",
        "print(model2.summary())\n",
        "print(model2.conf_int())"
      ],
      "metadata": {
        "id": "BaPwxMSLb5Qk"
      },
      "execution_count": null,
      "outputs": []
    },
    {
      "cell_type": "markdown",
      "source": [
        "## Task 5\n",
        "**How much increase in sales is associated with a given increase in TV advertising budget?**\n",
        "\n",
        "\n",
        "For every additional thousand dollars spent on TV advertising, sales increase by circa 45.8 units.\n",
        "\n",
        "## Task 6\n",
        "**How much increase in sales is associated with a given increase in Radio advertising budget?**\n",
        "\n",
        "189 units."
      ],
      "metadata": {
        "id": "KhO5-DPeb8B2"
      }
    },
    {
      "cell_type": "markdown",
      "source": [
        "## Task 7\n",
        "- **How accurately can we estimate the effect of each medium on sales?**\n",
        "- **Provide the confidence intervals for the coefficients of each medium.**\n",
        "\n",
        "\n",
        "If we do not want to change the confidence level, these intervals can be read from the summary of the model on the right side below: [0.025,0.975]"
      ],
      "metadata": {
        "id": "z4RBedIBmoek"
      }
    },
    {
      "cell_type": "code",
      "source": [
        "conf_int = model.conf_int(alpha=0.05) # Can adjust the confidence with alpha\n",
        "conf_int.columns = ['Lower Bound', 'Upper Bound']\n",
        "print(conf_int)"
      ],
      "metadata": {
        "id": "7lnG0TFBmphe"
      },
      "execution_count": null,
      "outputs": []
    },
    {
      "cell_type": "markdown",
      "source": [
        "## Task 8\n",
        "- **How accurately can we predict future sales based on the advertising budgets?**\n",
        "- **What is the standard error of the estimate?**\n",
        "\n",
        "We can look at the Root Mean Squared Error or Standard Error of Estimate.These values are not directly in the model summary, we have to calculate them:"
      ],
      "metadata": {
        "id": "nxPWLhBEmqBI"
      }
    },
    {
      "cell_type": "code",
      "source": [
        "# Calculate the Residual Sum of Squares (RSS)\n",
        "RSS = np.sum(model.resid ** 2)\n",
        "\n",
        "# Degrees of Freedom Residual\n",
        "df_resid = model.df_resid\n",
        "\n",
        "# Calculate the Standard Error of the Estimate\n",
        "std_err_estimate = np.sqrt(RSS / df_resid)\n",
        "print(f\"Standard Error of the Estimate: {std_err_estimate}\")"
      ],
      "metadata": {
        "id": "ogzgLrpUmriZ"
      },
      "execution_count": null,
      "outputs": []
    },
    {
      "cell_type": "markdown",
      "source": [
        "This low SEE coupeled with the high R-squared value suggests that the model predicts future values with reasonable accuracy."
      ],
      "metadata": {
        "id": "gloKjYrMsYPB"
      }
    },
    {
      "cell_type": "markdown",
      "source": [
        "## Task 9\n",
        "**Imagine you have a budget of $100,000. What is the best strategy to allocate this budget among TV, Radio, and Newspaper advertising to maximize sales?**\n",
        "\n",
        "We should allocate more budget into media with higher coefficients as they have a greater impact on sales. Consequently, we would focus more on TV and Radio as we have shown that newspaper is not statistically significant.\n",
        "#### Suggestion\n",
        "As the coefficients are 0.1885 and 0.0458, their ratio is 4:1 so we could allocate 80k to radio and 20k to TV?"
      ],
      "metadata": {
        "id": "6_G0balJmr5H"
      }
    },
    {
      "cell_type": "markdown",
      "source": [
        "## Task 10\n",
        "**If you spend \\$10,000 on TV advertising and \\$20,000 on Radio advertising, how much increase in sales can you expect?**\n",
        "\n",
        "\n",
        "For prediction we use the regression eq."
      ],
      "metadata": {
        "id": "UNvTotg6wJ7e"
      }
    },
    {
      "cell_type": "code",
      "source": [
        "# Coefficients from the model\n",
        "intercept = model.params['const']\n",
        "tv_coef = model.params['TV']\n",
        "radio_coef = model.params['radio']\n",
        "\n",
        "# Budgets in thousands of dollars\n",
        "tv_budget = 10  # \\$10,000\n",
        "radio_budget = 20  # \\$20,000\n",
        "\n",
        "# Predicted sales\n",
        "predicted_sales = intercept + tv_coef * tv_budget + radio_coef * radio_budget\n",
        "print(f\"Predicted Sales: {predicted_sales * 1000} units\")"
      ],
      "metadata": {
        "id": "kbl78X1Oms6X"
      },
      "execution_count": null,
      "outputs": []
    },
    {
      "cell_type": "markdown",
      "source": [
        "## Task 11\n",
        "**What is the 95% confidence interval for the predicted sales in the previous question?**\n",
        "\n",
        "\n",
        "Below, a new dataframe is created, why? Easily fed into our model."
      ],
      "metadata": {
        "id": "z7n3uiQWmtSB"
      }
    },
    {
      "cell_type": "code",
      "source": [
        "# Create a new DataFrame with the input values, this is done solely for the purpose\n",
        "new_data = pd.DataFrame({'const': 1, 'TV': [10], 'radio': [20], 'newspaper': [0]})\n",
        "\n",
        "# Get the prediction and confidence intervals\n",
        "predictions = model.get_prediction(new_data)\n",
        "prediction_summary = predictions.summary_frame(alpha=0.05) # + confidence specifier\n",
        "\n",
        "print(prediction_summary[['mean', 'mean_ci_lower', 'mean_ci_upper']])\n"
      ],
      "metadata": {
        "id": "O0BOSjPdmuAn"
      },
      "execution_count": null,
      "outputs": []
    },
    {
      "cell_type": "markdown",
      "source": [
        "We have a 95% confidence interval [6.619784,7.714489] for sales. The output here is in thousands of units.\n"
      ],
      "metadata": {
        "id": "QxhtO84qxsY0"
      }
    },
    {
      "cell_type": "markdown",
      "source": [
        "## Task 12\n",
        "- **Are there significant correlations between the advertising budgets for different media?**\n",
        "- **How might multicollinearity affect your regression model?**"
      ],
      "metadata": {
        "id": "maP3dMa-x62H"
      }
    },
    {
      "cell_type": "code",
      "source": [
        "# Correlation matrix\n",
        "corr_matrix = data[['TV', 'radio', 'newspaper']].corr()\n",
        "print(corr_matrix)"
      ],
      "metadata": {
        "id": "vIbNIhPkx6eP"
      },
      "execution_count": null,
      "outputs": []
    },
    {
      "cell_type": "markdown",
      "source": [
        "From the above correlation matrix we can infer the following:\n",
        "- there is a very weak correlation between Tv and newspaper and between Tv and radio\n",
        "- there is a moderate correlation between radio and newspaper\n",
        "\n",
        "We could test the significance of the correlations:"
      ],
      "metadata": {
        "id": "MV1sK9BBy0Yg"
      }
    },
    {
      "cell_type": "code",
      "source": [
        "# Function to calculate p-values for correlations\n",
        "def correlation_test(x, y):\n",
        "    corr_coef, p_value = stats.pearsonr(x, y)\n",
        "    return corr_coef, p_value\n",
        "\n",
        "# TV and Radio sig.\n",
        "corr_tv_radio, p_tv_radio = correlation_test(data['TV'], data['radio'])\n",
        "print(f\"TV and Radio Correlation: {corr_tv_radio}, p-value: {p_tv_radio}\")\n",
        "\n",
        "# TV and Newspaper sig.\n",
        "corr_tv_news, p_tv_news = correlation_test(data['TV'], data['newspaper'])\n",
        "print(f\"TV and Newspaper Correlation: {corr_tv_news}, p-value: {p_tv_news}\")\n",
        "\n",
        "# Radio and Newspaper sig.\n",
        "corr_radio_news, p_radio_news = correlation_test(data['radio'], data['newspaper'])\n",
        "print(f\"Radio and Newspaper Correlation: {corr_radio_news}, p-value: {p_radio_news}\")"
      ],
      "metadata": {
        "id": "dYaKRpZFy39z"
      },
      "execution_count": null,
      "outputs": []
    },
    {
      "cell_type": "markdown",
      "source": [
        "- Correlation between Tv and radio is not statistically significant.\n",
        "- Correlation between Tv and newspaper is not statistically significant.\n",
        "- Correlation between radio and newspaper **is** statistically significant with pvalue of 2.32e-07, which is way below 0.05.\n",
        "\n",
        "Because of this, we could now test for multicollinearity issues in our model.\n",
        "\n",
        "Here I follow AI - usage of **VIF** = quantifying how much the variance of a regression coefficient is inflated due to multicollinearity."
      ],
      "metadata": {
        "id": "4S-hAk82zcig"
      }
    },
    {
      "cell_type": "code",
      "source": [
        "from statsmodels.stats.outliers_influence import variance_inflation_factor\n",
        "\n",
        "# Define the independent variables (exclude the dependent variable 'sales')\n",
        "X_variables = data[['TV', 'radio', 'newspaper']]\n",
        "\n",
        "# Add a constant term for intercept\n",
        "X_with_constant = sm.add_constant(X_variables)\n",
        "\n",
        "# Calculate VIF for each variable\n",
        "vif_data = pd.DataFrame()\n",
        "vif_data[\"feature\"] = X_with_constant.columns\n",
        "vif_data[\"VIF\"] = [variance_inflation_factor(X_with_constant.values, i) for i in range(X_with_constant.shape[1])]\n",
        "\n",
        "print(vif_data)"
      ],
      "metadata": {
        "id": "ugAP6caX0WRk"
      },
      "execution_count": null,
      "outputs": []
    },
    {
      "cell_type": "code",
      "source": [
        "data.columns[0:-1]"
      ],
      "metadata": {
        "id": "ViB0O-8sdeSZ"
      },
      "execution_count": null,
      "outputs": []
    },
    {
      "cell_type": "code",
      "source": [
        "variables = data.columns[0:-1]\n",
        "vif_dict = {}\n",
        "df_x = data.iloc[:, 0:-1]\n",
        "print(variables)\n",
        "for variable in variables:\n",
        "    # The independent variables set.\n",
        "    x_vars = df_x.drop([variable], axis=1)\n",
        "    # The dependent variable.\n",
        "    y_var = df_x[variable]\n",
        "\n",
        "    # Add constant for OLS model\n",
        "    x_vars_const = sm.add_constant(x_vars)\n",
        "    # Fit the model\n",
        "    model = sm.OLS(y_var, x_vars_const).fit()\n",
        "\n",
        "    # Calculate R-squared value\n",
        "    rsq = model.rsquared\n",
        "    #print(model.summary())\n",
        "    # Calculate VIF\n",
        "    vif = 1 / (1 - rsq)\n",
        "\n",
        "    vif_dict[variable] = vif\n",
        "\n",
        "# Display the VIF values\n",
        "vif_dict\n"
      ],
      "metadata": {
        "id": "DS7kD0xJdQtC"
      },
      "execution_count": null,
      "outputs": []
    },
    {
      "cell_type": "markdown",
      "source": [
        "We can see that the VIF values for the predictors are very low(we do not really care about VIF for the constant term). Therefore, we can conclude that multicollinearity is not a concern among our independent variables."
      ],
      "metadata": {
        "id": "Az9HzWxL1SHw"
      }
    },
    {
      "cell_type": "code",
      "source": [
        "import seaborn as sns\n",
        "import matplotlib.pyplot as plt\n",
        "\n",
        "# Scatter plot\n",
        "sns.pairplot(data[['TV', 'radio', 'newspaper']])\n",
        "plt.show()"
      ],
      "metadata": {
        "id": "AmO5dtk51ucf"
      },
      "execution_count": null,
      "outputs": []
    },
    {
      "cell_type": "markdown",
      "source": [
        "# Without newspaper"
      ],
      "metadata": {
        "id": "MNDfw4nb14TK"
      }
    },
    {
      "cell_type": "code",
      "source": [
        "# Define predictors excluding 'newspaper'\n",
        "X_no_newspaper = data[['TV', 'radio']]\n",
        "X_no_newspaper = sm.add_constant(X_no_newspaper)\n",
        "\n",
        "# Fit the model without 'newspaper'\n",
        "model_no_newspaper = sm.OLS(y, X_no_newspaper).fit()\n",
        "\n",
        "# Print the summary\n",
        "print(model_no_newspaper.summary())\n"
      ],
      "metadata": {
        "id": "lYHJxTJ0123t"
      },
      "execution_count": null,
      "outputs": []
    },
    {
      "cell_type": "markdown",
      "source": [
        "- We can see that the R-squared is the same as before - the explanatory power of the model is not reduced, suggesting that newspaper category does not contribute significantly\n",
        "\n",
        "- The coefficients for TV and Radio remain unchagned, which further proves their significant relationship with sales.\n",
        "- There is a sligh decrease in standard errors -> showing improved precision after removing newspaper\n",
        "- The F-statistic increased to 859 from 570 -> improvement\n",
        "\n"
      ],
      "metadata": {
        "id": "39T3FWvS2G9o"
      }
    }
  ]
}