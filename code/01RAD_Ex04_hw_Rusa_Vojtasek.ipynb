{
  "nbformat": 4,
  "nbformat_minor": 0,
  "metadata": {
    "colab": {
      "private_outputs": true,
      "provenance": [],
      "include_colab_link": true
    },
    "kernelspec": {
      "name": "python3",
      "display_name": "Python 3"
    },
    "language_info": {
      "name": "python"
    }
  },
  "cells": [
    {
      "cell_type": "markdown",
      "metadata": {
        "id": "view-in-github",
        "colab_type": "text"
      },
      "source": [
        "<a href=\"https://colab.research.google.com/github/francji1/01RAD/blob/main/code/01RAD_Ex04_hw_Rusa_Vojtasek.ipynb\" target=\"_parent\"><img src=\"https://colab.research.google.com/assets/colab-badge.svg\" alt=\"Open In Colab\"/></a>"
      ]
    },
    {
      "cell_type": "markdown",
      "metadata": {
        "id": "1e437db5"
      },
      "source": [
        "#  Team HW 04\n",
        "\n",
        "## Popis úlohy\n",
        "\n",
        "V tomto úkolu je cílem provést předzpracování datového souboru, jeho vizualizaci a jednoduchou lineární regresní úlohu, kde se budeme zajímat o ceny nemovitostí. Za tímto účelem využijeme datový set *saratosa_hoouses* z knihovny *moderndive* obsahující výběr 1057 domů.\n",
        "\n"
      ]
    },
    {
      "cell_type": "markdown",
      "source": [
        "\n",
        "### Předzpracování dat:\n",
        "\n",
        "\n"
      ],
      "metadata": {
        "id": "T9O0WiqW9H6_"
      }
    },
    {
      "cell_type": "markdown",
      "source": [
        "**Data**"
      ],
      "metadata": {
        "id": "UgpskaXd9Q8m"
      }
    },
    {
      "cell_type": "code",
      "source": [
        "import pandas as pd\n",
        "import seaborn as sns\n",
        "import matplotlib.pyplot as plt\n",
        "import numpy as np\n",
        "import scipy.stats as stats\n",
        "\n",
        "import statsmodels.api as sm\n",
        "import statsmodels.formula.api as smf\n",
        "\n",
        "from statsmodels.stats.multicomp import pairwise_tukeyhsd\n",
        "from statsmodels.datasets import get_rdataset\n",
        "from scipy.stats import t,norm"
      ],
      "metadata": {
        "id": "QEUAlPRlf_rT"
      },
      "execution_count": null,
      "outputs": []
    },
    {
      "cell_type": "code",
      "source": [
        "!pip install rpy2\n",
        "%load_ext rpy2.ipython\n",
        "from rpy2.robjects import pandas2ri\n"
      ],
      "metadata": {
        "id": "k8XD6U_R9YUE"
      },
      "execution_count": null,
      "outputs": []
    },
    {
      "cell_type": "code",
      "source": [
        "%%R -o saratoga_houses\n",
        "list_of_packages <- c(\"tidyverse\", \"MASS\",\"moderndive\")\n",
        "missing_packages <- list_of_packages[!(list_of_packages %in% installed.packages()[,\"Package\"])]\n",
        "missing_packages\n",
        "if(length(missing_packages)) install.packages(missing_packages)\n",
        "lapply(list_of_packages, library, character.only = TRUE)\n",
        "? saratoga_houses"
      ],
      "metadata": {
        "id": "IVH4kjw6faUj"
      },
      "execution_count": null,
      "outputs": []
    },
    {
      "cell_type": "code",
      "source": [
        "saratoga_houses.head()"
      ],
      "metadata": {
        "id": "vRWdnzeHfaXE"
      },
      "execution_count": null,
      "outputs": []
    },
    {
      "cell_type": "code",
      "source": [
        "import seaborn as sns\n",
        "import matplotlib.pyplot as plt\n",
        "sns.pairplot(saratoga_houses)\n",
        "plt.suptitle('Pair Plot for Saratoga Houses Dataset', y=1.02)\n",
        "plt.show()"
      ],
      "metadata": {
        "id": "gT58uEuSsr3z"
      },
      "execution_count": null,
      "outputs": []
    },
    {
      "cell_type": "markdown",
      "source": [
        "## Otázka 01\n",
        "\n",
        "Zjistěte, zdali data neobsahují chybějící hodnoty *NA*. Pokud ano, tak rozhodněte zdali můžete příslušná pozorování z dat odstranit a proč. Které proměnné jsou kvantitativní a které kvalitativní? Jeli možno některé zařadit do obou skupin, pro kterou byste se rozhodli? Které proměnné je možné použít jako faktorové ordinální a jaké jako faktorové nominální a proč? Spočtěte základní statistiky pro jednotlivé proměnné.\n"
      ],
      "metadata": {
        "id": "W3OFt9Wq9BWo"
      }
    },
    {
      "cell_type": "markdown",
      "source": [
        "Odpovědi:\n",
        " - Chybí hodnota lot size u **9 pozorování**. Což k celkovému počtu pozorování (1057) je málo a jejich odstranení by nemělo ovlivnit výsledek regrese.\n",
        " -\n",
        "    - **Kvantitativní**: price, living area, bathrooms, bedrooms, fireplaces, lot size, age\n",
        "    - **kvalitativní**: fireplace. Faktorová nominální proměnná.)\n",
        "    - **do obou kategorií lze zařadit**: bathrooms, bedrooms, fireplaces. Všechny lze chápat jako faktorové ordinální proměnné."
      ],
      "metadata": {
        "id": "iHvFq_hHuv5m"
      }
    },
    {
      "cell_type": "markdown",
      "metadata": {
        "id": "b8e8f2b2"
      },
      "source": [
        "### Řešení 01:"
      ]
    },
    {
      "cell_type": "code",
      "source": [
        "missing_values = saratoga_houses.isnull().sum()\n",
        "\n",
        "rows_with_missing_values = saratoga_houses[saratoga_houses.isnull().any(axis=1)]\n",
        "print(rows_with_missing_values.shape)\n",
        "rows_with_missing_values"
      ],
      "metadata": {
        "id": "j8NIGH5Dw3m-"
      },
      "execution_count": null,
      "outputs": []
    },
    {
      "cell_type": "code",
      "source": [
        "saratoga_houses"
      ],
      "metadata": {
        "id": "5o12CIObWbQn"
      },
      "execution_count": null,
      "outputs": []
    },
    {
      "cell_type": "code",
      "source": [
        "saratoga_houses = saratoga_houses.dropna()"
      ],
      "metadata": {
        "id": "VLjCYWBPxBev"
      },
      "execution_count": null,
      "outputs": []
    },
    {
      "cell_type": "code",
      "source": [
        "print(\"Základní statistiky:\")\n",
        "saratoga_houses.describe().round(3)"
      ],
      "metadata": {
        "id": "rfglU873Xr44"
      },
      "execution_count": null,
      "outputs": []
    },
    {
      "cell_type": "markdown",
      "metadata": {
        "id": "07a085bd"
      },
      "source": [
        "## Otázka 02\n",
        "\n",
        "Chceme koupit nemovitost v zahraničí a průzkumem trhu jsme obdřeli předchozí data set *saratoga_houses*. Jelikož ale máme přesnější požadavky a nerozumíme imperiálním jednotkám, potřebujeme data upravit:\n",
        "\n",
        "* Převeďte cenu nemovitostí z dolarů na koruny v tisících a plochu pozemku a obytnou plochu z akrů a čtverečích stop na $m^2$. (chceck describtion by *? saratoga_houses*)\n",
        "* Vyberte jen nemovitosti starší 10 let a mladší 50 let, jejichž cena je menší než 7500000 Kč, a plocha pozemku je mezi 500 a 5000 $m^2$.\n",
        "* Počet koupelen a počet pokojů převeďte na faktorové proměnné o 3 úrovních."
      ]
    },
    {
      "cell_type": "markdown",
      "source": [
        "**Dále pracujte jen s takto omezeným datasetem a s proměnnýma *cena*, *plocha_obytna*, *plocha_pozemku* *pocet_pokoju*,*stari_domu*, *pocet_koupelen*, *krb*.**"
      ],
      "metadata": {
        "id": "T7p28uQXwxxR"
      }
    },
    {
      "cell_type": "markdown",
      "source": [
        "### Řešení 02:"
      ],
      "metadata": {
        "id": "WCtNNkZwXwu-"
      }
    },
    {
      "cell_type": "code",
      "execution_count": null,
      "metadata": {
        "tags": [
          "remove_input"
        ],
        "id": "ff8d4e91"
      },
      "outputs": [],
      "source": [
        "saratoga_houses[\"price\"] = ((saratoga_houses[\"price\"] * 23.39) / 1000).round(0)\n",
        "saratoga_houses[\"lot_size\"] = (saratoga_houses[\"lot_size\"] * 4046.86)\n",
        "saratoga_houses[\"living_area\"] = (saratoga_houses[\"living_area\"] * 0.0929)"
      ]
    },
    {
      "cell_type": "code",
      "source": [
        "\n",
        "saratoga_houses = saratoga_houses[(saratoga_houses[\"age\"] >= 10) & (saratoga_houses[\"age\"] <= 50)]\n",
        "\n",
        "\n",
        "saratoga_houses = saratoga_houses[saratoga_houses[\"price\"] < 7500]\n",
        "\n",
        "\n",
        "saratoga_houses = saratoga_houses[(saratoga_houses[\"lot_size\"] >= 500) & (saratoga_houses[\"lot_size\"] <= 5000)]\n"
      ],
      "metadata": {
        "id": "wEmQLbNUrOpX"
      },
      "execution_count": null,
      "outputs": []
    },
    {
      "cell_type": "code",
      "source": [
        "\n",
        "sns.histplot(saratoga_houses[\"bedrooms\"], discrete=True)\n",
        "plt.title(\"bedrooms hist\")\n",
        "plt.show()\n",
        "sns.histplot(saratoga_houses[\"bathrooms\"])\n",
        "plt.title(\"bathrooms hist\")\n",
        "plt.show()"
      ],
      "metadata": {
        "id": "d64Wls9M_ySg"
      },
      "execution_count": null,
      "outputs": []
    },
    {
      "cell_type": "code",
      "source": [
        "import pandas as pd\n",
        "\n",
        "# Recode 'bedrooms' into three categories\n",
        "bedrooms_bins = [0, 2, 3, 5]\n",
        "\n",
        "\n",
        "saratoga_houses['bedrooms_cat'] = pd.cut(\n",
        "    saratoga_houses['bedrooms'].astype(int),\n",
        "    bins=bedrooms_bins,\n",
        "    labels=[\"1-2\", \"3\", \"4-5\"],\n",
        "    right=True\n",
        ")\n",
        "bathroom_bins = [0, 1, 2.5, 4]\n",
        "\n",
        "\n",
        "saratoga_houses['bathrooms_cat'] = pd.cut(\n",
        "    saratoga_houses['bathrooms'],\n",
        "    bins=[-0.1, 1, 2, 4],  # Adjusting the bins for the specified categories\n",
        "    labels=['1', '1.5-2', '2.5-3.5'],\n",
        "    include_lowest=True\n",
        ")"
      ],
      "metadata": {
        "id": "WW-Y-6Oa2rEX"
      },
      "execution_count": null,
      "outputs": []
    },
    {
      "cell_type": "code",
      "source": [
        "sns.histplot(saratoga_houses[\"bedrooms_cat\"], discrete=True)\n",
        "plt.title(\"bedrooms hist\")\n",
        "plt.show()\n",
        "sns.histplot(saratoga_houses[\"bathrooms_cat\"], discrete=True)\n",
        "plt.title(\"bathrooms hist\")\n",
        "plt.show()"
      ],
      "metadata": {
        "id": "QZ13u-1c_rPa"
      },
      "execution_count": null,
      "outputs": []
    },
    {
      "cell_type": "markdown",
      "source": [
        "\n",
        "## Otázka 03\n",
        "\n",
        "* Porovnejte průměry cen nemovitostí s krbem a bez krbu a otestujte, zdali na hladině významnosti $\\alpha = 0.01$ je průměrná cena nemovitostí s krbem větší než průměrná cena nemovitostí bez krbu."
      ],
      "metadata": {
        "id": "VbFGPpNDMqe_"
      }
    },
    {
      "cell_type": "markdown",
      "source": [
        "### Řešení 03:\n"
      ],
      "metadata": {
        "id": "9e0MooPUX0GJ"
      }
    },
    {
      "cell_type": "code",
      "source": [
        "import statsmodels.stats.weightstats as smw\n",
        "price_with_fireplace = saratoga_houses[saratoga_houses[\"fireplace\"] == 1][\"price\"]\n",
        "price_without_fireplace = saratoga_houses[saratoga_houses[\"fireplace\"] == 0][\"price\"]\n",
        "\n",
        "t_test = smw.ttest_ind(price_with_fireplace, price_without_fireplace, alternative=\"larger\")\n",
        "t_stat, p_value, df = t_test\n",
        "\n",
        "print(f\"t-statistic: {t_stat}, p-value: {p_value}\")\n",
        "print(p_value > 0.001)"
      ],
      "metadata": {
        "id": "wa11wNb6OoXI"
      },
      "execution_count": null,
      "outputs": []
    },
    {
      "cell_type": "markdown",
      "metadata": {
        "id": "b1cdb7fa"
      },
      "source": [
        "# Vizualizace dat\n",
        "\n",
        "## Otázka 04\n",
        "\n",
        "* Vykreslete scatterploty pro všechny numerické proměnné, kde bude barevně rozlišeno, zdali se jedná o nemovitost s krbem, nebo bez krbu.\n",
        "*  Pro proměnné *pocet_pokoju* a *pocet_pater* a *sklep* vykreslete krabicové diagramy (nebo violin ploty), kde odezvou bude *cena*.\n",
        "* Pro proměnnou *cena* vykreslete histogram spolu s jádrovým odhadem hustoty.\n"
      ]
    },
    {
      "cell_type": "code",
      "source": [
        "numeric_columns = ['price', 'living_area', 'fireplace', 'lot_size', 'age']\n",
        "plt.figure(figsize=(10, 10))\n",
        "\n",
        "# Create the pairplot\n",
        "pairplot = sns.pairplot(data=saratoga_houses[numeric_columns],\n",
        "                         hue='fireplace',\n",
        "                         palette='Set1',\n",
        "                         height=4,\n",
        "                         diag_kind=\"hist\",\n",
        "                         plot_kws={'s': 30})\n",
        "\n",
        "# Add a title\n",
        "pairplot.fig.suptitle(\"Pairplot of Numerical Variables (Colored by Fireplace)\", y=1.02)\n",
        "\n",
        "plt.tight_layout()\n",
        "plt.show()"
      ],
      "metadata": {
        "id": "Rp30_H8XYukx"
      },
      "execution_count": null,
      "outputs": []
    },
    {
      "cell_type": "code",
      "source": [
        "fig, axes = plt.subplots(2, 3, figsize=(18, 12))\n",
        "\n",
        "# Krabicové diagramy\n",
        "sns.boxplot(data=saratoga_houses, x='bedrooms_cat', y='price', ax=axes[0, 0])\n",
        "axes[0, 0].set_title('bedrooms vs price')\n",
        "\n",
        "sns.boxplot(data=saratoga_houses, x='bathrooms_cat', y='price', ax=axes[0, 1])\n",
        "axes[0, 1].set_title('bathrooms vs price')\n",
        "\n",
        "sns.boxplot(data=saratoga_houses, x='fireplace', y='price', ax=axes[0, 2])\n",
        "axes[0, 2].set_title('fireplace vs price')\n",
        "\n",
        "# Violin ploty\n",
        "sns.violinplot(data=saratoga_houses, x='bedrooms_cat', y='price', ax=axes[1, 0])\n",
        "axes[1, 0].set_title('bedrooms vs price')\n",
        "\n",
        "sns.violinplot(data=saratoga_houses, x='bathrooms_cat', y='price', ax=axes[1, 1])\n",
        "axes[1, 1].set_title('bathrooms vs price')\n",
        "\n",
        "sns.violinplot(data=saratoga_houses, x='fireplace', y='price', ax=axes[1, 2])\n",
        "axes[1, 2].set_title('fireplace vs price')\n",
        "\n",
        "plt.tight_layout()\n",
        "plt.show()"
      ],
      "metadata": {
        "id": "HXxhwn90bhHl"
      },
      "execution_count": null,
      "outputs": []
    },
    {
      "cell_type": "code",
      "source": [
        "plt.figure(figsize=(15, 10))\n",
        "sns.histplot(data=saratoga_houses, x='price', kde=True, color=\"tab:blue\")\n",
        "plt.title('Histogram Cena')\n",
        "plt.show()"
      ],
      "metadata": {
        "id": "Lt4UtwpLgOx0"
      },
      "execution_count": null,
      "outputs": []
    },
    {
      "cell_type": "code",
      "source": [],
      "metadata": {
        "id": "UHFWhVougE_N"
      },
      "execution_count": null,
      "outputs": []
    },
    {
      "cell_type": "markdown",
      "metadata": {
        "lines_to_next_cell": 0,
        "id": "cdbffc50"
      },
      "source": [
        "## Otázka 05\n",
        "\n",
        "Pro kombinace faktorizovaných proměnných *pocet_pokoju*, *pocet_koupelen*  vykreslete cenu nemovitosti, aby bylo na obrázku vidět, jestli se v průměru liší ceny nemovitostí majících více pokojů, nebo více koupelen a zdali jsou zastoupeny všechny kombiance všech úrovních pro dvě zmíněné faktorové proměnné."
      ]
    },
    {
      "cell_type": "code",
      "execution_count": null,
      "metadata": {
        "tags": [
          "remove_input"
        ],
        "id": "d5208964"
      },
      "outputs": [],
      "source": [
        "saratoga_houses[[\"bedrooms_cat\", \"bathrooms_cat\", \"price\"]].value_counts(ascending=True).reset_index(name='count')"
      ]
    },
    {
      "cell_type": "code",
      "source": [
        "# Replace 'cena_nemovitosti' with the actual column name for property price\n",
        "mean_prices = saratoga_houses.groupby(['bedrooms_cat', 'bathrooms_cat'])['price'].mean().reset_index()\n",
        "mean_prices"
      ],
      "metadata": {
        "id": "V2IhhYh1taZl"
      },
      "execution_count": null,
      "outputs": []
    },
    {
      "cell_type": "code",
      "source": [
        "comb_table = saratoga_houses.pivot_table(index='bedrooms_cat', columns='bathrooms_cat', values='price', aggfunc='size', fill_value=0)\n",
        "sns.heatmap(comb_table, annot=True, cmap='viridis', fmt=\".0f\")\n",
        "plt.title('Combination Table')\n",
        "plt.show()"
      ],
      "metadata": {
        "id": "FFuiskJGtYkY"
      },
      "execution_count": null,
      "outputs": []
    },
    {
      "cell_type": "code",
      "source": [
        "plt.figure(figsize=(12, 8))\n",
        "sns.pointplot(data=saratoga_houses, x='bedrooms_cat', y='price', hue='bathrooms_cat', dodge=True, markers='o', linestyles='-', palette='viridis')\n",
        "plt.title('Avg price of houses with respect to the number of bedrooms and bathrooms')\n",
        "plt.xlabel('bedrooms')\n",
        "plt.ylabel('Price')\n",
        "plt.legend(title='bathrooms')\n",
        "plt.tight_layout()\n",
        "plt.show()\n",
        "\n",
        "plt.figure(figsize=(12, 8))\n",
        "sns.pointplot(data=saratoga_houses, x='bathrooms_cat', y='price', hue='bedrooms_cat', dodge=True, markers='o', linestyles='-', palette='viridis')\n",
        "plt.xlabel('bathrooms')\n",
        "plt.ylabel('price')\n",
        "plt.legend(title='bedrooms')\n",
        "plt.tight_layout()\n",
        "plt.show()\n"
      ],
      "metadata": {
        "id": "qUKHxlogauHx"
      },
      "execution_count": null,
      "outputs": []
    },
    {
      "cell_type": "code",
      "source": [
        "plt.figure(figsize=(12, 6))\n",
        "\n",
        "# Create a grouped bar chart\n",
        "sns.barplot(\n",
        "    data=mean_prices,\n",
        "    x='bedrooms_cat',\n",
        "    y='price',\n",
        "    hue='bathrooms_cat',\n",
        "    palette='viridis'\n",
        ")\n",
        "\n",
        "# Set plot labels and title\n",
        "plt.title('Average Property Price by Number of Bedrooms and Bathrooms')\n",
        "plt.xlabel('Number of Bedrooms')\n",
        "plt.ylabel('Average Property Price')\n",
        "plt.legend(title='Number of Bathrooms', bbox_to_anchor=(1.05, 1), loc='upper left')\n",
        "\n",
        "# Show the plot\n",
        "plt.tight_layout()\n",
        "plt.show()\n"
      ],
      "metadata": {
        "id": "Veh1XSqyjSiy"
      },
      "execution_count": null,
      "outputs": []
    },
    {
      "cell_type": "markdown",
      "metadata": {
        "lines_to_next_cell": 0,
        "id": "37583820"
      },
      "source": [
        "## Otázka 06\n",
        "\n",
        "Pro nemovitosti s dvěma ložnicema vykreslete závislost ceny na obytné ploše nemovitosti, kde jednotlivé události označíte barvou podle toho zdali mají krb a velikost bodů v grafu bude odpovídat počtu koupelen (pro tuto úlohu je lepší vzít počet koupelen jako numerickou proměnnou)."
      ]
    },
    {
      "cell_type": "markdown",
      "source": [
        "**Dále pracujte jen s nemovitostmi se dvěma ložnicemi.**"
      ],
      "metadata": {
        "id": "ebaQtBBORiig"
      }
    },
    {
      "cell_type": "code",
      "execution_count": null,
      "metadata": {
        "tags": [
          "remove_input"
        ],
        "id": "c4ba5f59"
      },
      "outputs": [],
      "source": [
        "\n",
        "saratoga_houses_with_2_bedrooms = saratoga_houses[saratoga_houses[\"bedrooms\"] == 2]\n",
        "plt.figure(figsize=(10, 6))\n",
        "sns.scatterplot(data=saratoga_houses_with_2_bedrooms, x=\"living_area\", y=\"price\", hue=\"fireplace\", size=\"bathrooms\", sizes=(150, 20), palette=\"Set1\")\n",
        "plt.title(\"Scatterplot of Price vs. Living Area for Houses with Two Bedrooms\")\n",
        "plt.xlabel(\"Living Area\")\n",
        "plt.ylabel(\"Price\")\n"
      ]
    },
    {
      "cell_type": "code",
      "source": [
        "saratoga_houses_with_2_bedrooms.describe()"
      ],
      "metadata": {
        "id": "aiQ2kpgUXw0w"
      },
      "execution_count": null,
      "outputs": []
    },
    {
      "cell_type": "markdown",
      "metadata": {
        "id": "51fc7cc4"
      },
      "source": [
        "# Jednoduchý lineární model"
      ]
    },
    {
      "cell_type": "markdown",
      "metadata": {
        "lines_to_next_cell": 0,
        "id": "354a8344"
      },
      "source": [
        "## Otázka 07\n",
        "\n",
        "Sestavte jednoduchý regresní model (s i bez interceptu), kde vysvětlovaná proměnná\n",
        "bude cena nemovitosti a vysvětlující obytná plocha.   Spočtěte pro oba modely $R^2$ a $F$ statistiky, co nám o modelech říkají. Vyberte jeden z nich a zdůvodněte proč ho preferujete.\n",
        "\n",
        "Na základě zvoleného modelu odpovězte, zdali cena nemovitosti závisí na obytné ploše  a pokud ano, o kolik se změní očekávaná cena pro nemovitost s obytnou plochou zvětšenou o $20 m^2$?"
      ]
    },
    {
      "cell_type": "code",
      "source": [
        "Y = saratoga_houses_with_2_bedrooms['price']\n",
        "X = saratoga_houses_with_2_bedrooms['living_area']\n",
        "\n",
        "# Add a constant term to include the intercept\n",
        "X_with_intercept = sm.add_constant(X)\n",
        "\n",
        "# Fit the model with intercept\n",
        "model_with_intercept = sm.OLS(Y, X_with_intercept)\n",
        "results_with_intercept = model_with_intercept.fit()\n",
        "\n",
        "# Print the summary\n",
        "print(results_with_intercept.summary())\n",
        "\n",
        "\n",
        "\n",
        "\n",
        "model_without_intercept = sm.OLS(Y, X)\n",
        "results_without_intercept = model_without_intercept.fit()\n",
        "\n",
        "# Print the summary\n",
        "print(results_without_intercept.summary())\n",
        "\n",
        "plt.figure(figsize=(10, 6))\n",
        "plt.scatter(X, Y, alpha=0.5)\n",
        "\n",
        "\n",
        "plt.plot(\n",
        "    X,\n",
        "    results_with_intercept.predict(X_with_intercept),\n",
        "    color='red',\n",
        "    label='model with intercept'\n",
        ")\n",
        "\n",
        "# Plot the regression line using the fitted model\n",
        "plt.plot(\n",
        "    X,\n",
        "    results_without_intercept.predict(X),\n",
        "    color='purple',\n",
        "    label='model without intercept'\n",
        ")\n",
        "\n",
        "plt.title('Model without Intercept')\n",
        "plt.xlabel('Living Area')\n",
        "plt.ylabel('Price')\n",
        "plt.legend()\n",
        "plt.show()\n"
      ],
      "metadata": {
        "id": "vl0CuD4tDI8z"
      },
      "execution_count": null,
      "outputs": []
    },
    {
      "cell_type": "markdown",
      "source": [
        "Statistiky $R^2$  a  $F$ pro model s interceptem nám ukazují, že značná část variability v cenách domů je lépe vysvětlena tímto modelem oproti pouhému průměru cen domů.\n",
        "$R^2$ pro model bez inerceptu nemůžeme porovnávat, jelikož je ovlivěno rozdělením dat. $F$ z definice nemá smysl ji uvažovat pro model bez interceptu.\n",
        "\n",
        "Vybereme tedy model s interceptem, jelikož nepředpokládáme, že budeme předpovídat cenu pro domy s obytnou plochou blízkou nule."
      ],
      "metadata": {
        "id": "zYsHlcEg-1nC"
      }
    },
    {
      "cell_type": "code",
      "source": [
        "slope = results_with_intercept.params['living_area']\n",
        "\n",
        "price_difference = slope * 20\n",
        "\n",
        "print(f\"Expected change in price for a 20 m^2 increase: {price_difference*1000:.2f} Kč\")\n"
      ],
      "metadata": {
        "id": "MtukJuFrkKAs"
      },
      "execution_count": null,
      "outputs": []
    },
    {
      "cell_type": "markdown",
      "metadata": {
        "id": "5ac2ca23"
      },
      "source": [
        "## Otázka 08\n",
        "Sestavte jednoduchý linární model jako v předchozí otázce pro nemovitosti s krbem a bez krbu. Jaký model vykazuje silnější linearní vztah mezi cenou a obytnou plochou? O kolik cena s rostoucí obytnou plochou pro nemovitosti s krbem roste rychleji než pro nemovitosti bez krbu?\n",
        "\n",
        "Spočtěte 95% konfidenční intervaly pro regresní koeficienty popisující sklon regresní přímky v obou modelech a zjistěte, zdali se protínají. Co z toho můžeme vyvozovat?\n",
        "\n",
        "Na základě těchto modelů zjistěte o kolik procent bude mít průměrná nemovitost s krbem a obytnou plochou $160m^2$ vyšší očekávanou cenu než průměrná nemovitost o stejné obytné ploše, ale bez krbu."
      ]
    },
    {
      "cell_type": "code",
      "execution_count": null,
      "metadata": {
        "tags": [
          "remove_input"
        ],
        "id": "07ba8268"
      },
      "outputs": [],
      "source": [
        "houses_with_fireplace = saratoga_houses_with_2_bedrooms[saratoga_houses_with_2_bedrooms[\"fireplace\"]==1]\n",
        "houses_without_fireplace = saratoga_houses_with_2_bedrooms[saratoga_houses_with_2_bedrooms[\"fireplace\"]==0]\n",
        "\n",
        "Y_fireplace = houses_with_fireplace['price']\n",
        "X_fireplace = houses_with_fireplace['living_area']\n",
        "X_fireplace_with_const= sm.add_constant(X_fireplace)\n",
        "\n",
        "model_fireplace = sm.OLS(Y_fireplace, X_fireplace_with_const)\n",
        "results_fireplace = model_fireplace.fit()\n",
        "\n",
        "print(\"Model Summary for Properties with a Fireplace:\")\n",
        "print(results_fireplace.summary())\n",
        "\n",
        "# Model for properties without a fireplace\n",
        "Y_no_fireplace = houses_without_fireplace['price']\n",
        "X_no_fireplace = houses_without_fireplace['living_area']\n",
        "X_no_fireplace_with_const = sm.add_constant(X_no_fireplace)\n",
        "\n",
        "model_no_fireplace = sm.OLS(Y_no_fireplace, X_no_fireplace_with_const)\n",
        "results_no_fireplace = model_no_fireplace.fit()\n",
        "print(\"\\n______________________________________________________________________________\\n\")\n",
        "print(\"Model summary for houses without a fireplace:\")\n",
        "print(results_no_fireplace.summary())\n",
        "\n",
        "\n"
      ]
    },
    {
      "cell_type": "markdown",
      "source": [
        "Dle $R^2$ statistiky se zdá, že model pro domy s krbem vykazuje slinější lineární vztah.\n"
      ],
      "metadata": {
        "id": "36I4q4BxA28R"
      }
    },
    {
      "cell_type": "code",
      "source": [
        "slope_fireplace = results_fireplace.params['living_area']\n",
        "slope_no_fireplace = results_no_fireplace.params['living_area']\n",
        "print(f\"\\nRozdíl zvýšení ceny nemovitostí s krbem  oproti nemovitosti bez krbu je {(results_fireplace.params['living_area']- results_no_fireplace.params['living_area'])*1000:.0f} Kč, pokud se obytná plocha zvýší o jeden m2\")\n",
        "\n",
        "\n",
        "conf_int_fireplace = results_fireplace.conf_int(alpha=0.05) # Can adjust the confidence with alpha\n",
        "conf_int_fireplace.columns = ['Lower Bound', 'Upper Bound']\n",
        "print(\"\\nConfidence intervals for parameters model with fireplace\")\n",
        "print(conf_int_fireplace)\n",
        "\n",
        "conf_int_no_fireplace = results_no_fireplace.conf_int(alpha=0.05) # Can adjust the confidence with alpha\n",
        "conf_int_no_fireplace.columns = ['Lower Bound', 'Upper Bound']\n",
        "print(\"\\nConfidence intervals for parameters model without fireplace\")\n",
        "print(conf_int_no_fireplace)\n",
        "\n",
        "print()\n",
        "living_area = 160\n",
        "price_fireplace = results_fireplace.params['const'] + slope_fireplace * living_area\n",
        "price_no_fireplace = results_no_fireplace.params['const'] + slope_no_fireplace * living_area\n",
        "\n",
        "price_difference_percentage = ((price_fireplace - price_no_fireplace) / price_no_fireplace) * 100\n",
        "print(f\"Očekávaný rozdíl ceny pro 160 m^2: {price_difference_percentage:.2f}%\")\n"
      ],
      "metadata": {
        "id": "5neFyRZ5w-JY"
      },
      "execution_count": null,
      "outputs": []
    },
    {
      "cell_type": "markdown",
      "source": [
        "Ano, konfideční intervaly pro sklon regresní přímky se protínají.  Protnutí konfidenčních intervalů naznačuje, že není možné s dostatečnou mírou jistoty tvrdit, že se sklon regresní přímky v obou modelech statisticky významně liší."
      ],
      "metadata": {
        "id": "aqivogx0A7oB"
      }
    },
    {
      "cell_type": "markdown",
      "metadata": {
        "lines_to_next_cell": 0,
        "id": "11ed78d7"
      },
      "source": [
        "## Otázka 9\n",
        "\n",
        "Vykreslete scatterplot obytné plochy a ceny nemovitostí. Do tohoto grafu vykreslete regresní přímky vybraných modelů pro nemovitosti s krbem a bez něho, jednoltivé body i regresní přímky označte barvou podle toho k jaké skupině přísluší.\n",
        "\n",
        "Sestrojte 90% konfidenční intervaly okolo očekávaných cen pro jednoltivé skupiny a na jejich základě rozhodněte, zdali a jak se očekávané ceny budou lišit pro nemovitosti s obytnou plochou menší než $120m^2$. Je to porovnávání správné? Zdůvoněte."
      ]
    },
    {
      "cell_type": "code",
      "execution_count": null,
      "metadata": {
        "lines_to_next_cell": 2,
        "tags": [
          "remove_input"
        ],
        "id": "9ae5864a"
      },
      "outputs": [],
      "source": [
        "import numpy as np\n",
        "import matplotlib.pyplot as plt\n",
        "\n",
        "# Scatter plot for properties with fireplace\n",
        "plt.figure(figsize=(12, 8))\n",
        "plt.scatter(X_fireplace, Y_fireplace, color='blue', alpha=0.5, label='With Fireplace')\n",
        "plt.scatter(X_no_fireplace, Y_no_fireplace, color='green', alpha=0.5, label='Without Fireplace')\n",
        "\n",
        "# Generate regression lines\n",
        "X_range = np.linspace(60, 260, 100)  # Adjust range as per your data\n",
        "X_range_with_const = sm.add_constant(X_range)\n",
        "\n",
        "# Predicted values and confidence intervals for properties with fireplace\n",
        "pred_fireplace = results_fireplace.get_prediction(X_range_with_const)\n",
        "mean_pred_fireplace = pred_fireplace.predicted_mean\n",
        "conf_int_fireplace_90 = pred_fireplace.conf_int(alpha=0.1)\n",
        "\n",
        "# Predicted values and confidence intervals for properties without fireplace\n",
        "pred_no_fireplace = results_no_fireplace.get_prediction(X_range_with_const)\n",
        "mean_pred_no_fireplace = pred_no_fireplace.predicted_mean\n",
        "conf_int_no_fireplace_90 = pred_no_fireplace.conf_int(alpha=0.1)\n",
        "\n",
        "# Plot regression line and confidence interval for properties with fireplace\n",
        "plt.plot(X_range, mean_pred_fireplace, color='blue', label='Regression Line (With Fireplace)')\n",
        "plt.fill_between(X_range, conf_int_fireplace_90[:, 0], conf_int_fireplace_90[:, 1], color='blue', alpha=0.2)\n",
        "\n",
        "# Plot regression line and confidence interval for properties without fireplace\n",
        "plt.plot(X_range, mean_pred_no_fireplace, color='green', label='Regression Line (Without Fireplace)')\n",
        "plt.fill_between(X_range, conf_int_no_fireplace_90[:, 0], conf_int_no_fireplace_90[:, 1], color='green', alpha=0.2)\n",
        "\n",
        "plt.axvline(120, color='k', linestyle='-')\n",
        "plt.text(x=120, y=-1600, s=\"120\", color='k', size=\"large\", ha='center', va='center')\n",
        "# Labels and legend\n",
        "plt.title(\"Living Area vs. Price with Regression Lines and 90% Confidence Intervals\")\n",
        "plt.xlabel(\"Living Area\")\n",
        "plt.ylabel(\"Price\")\n",
        "plt.legend()\n",
        "plt.show()\n"
      ]
    },
    {
      "cell_type": "markdown",
      "metadata": {
        "lines_to_next_cell": 0,
        "id": "bfeecac9"
      },
      "source": [
        "## Otázka 10\n",
        "\n",
        "Vykreslete histogramy pro rezidua modelů z předchozí otázky. Proložte je hustotou normálního rozdělení s nulovou střední hodnotou a rozptylem odpovídajícím $\\hat{\\sigma}^2$ z jednotlivých modelů.\n",
        "\n",
        "Co výsledný graf říka o n našich modelech a je toto ověření dostatečné pro validaci model?\n",
        "\n",
        "Navrněte další úpravy modelu za cílem co nejlépe predikvoat cenu nemovitosti."
      ]
    },
    {
      "cell_type": "code",
      "execution_count": null,
      "metadata": {
        "lines_to_next_cell": 0,
        "tags": [
          "remove_input"
        ],
        "id": "c91c49d3"
      },
      "outputs": [],
      "source": [
        "import numpy as np\n",
        "import matplotlib.pyplot as plt\n",
        "import scipy.stats as stats\n",
        "\n",
        "# Residuals for each model\n",
        "residuals_fireplace = results_fireplace.resid\n",
        "residuals_no_fireplace = results_no_fireplace.resid\n",
        "\n",
        "# Plot histograms for residuals with normal density overlay\n",
        "plt.figure(figsize=(14, 6))\n",
        "\n",
        "# Histogram and density for properties with a fireplace\n",
        "plt.subplot(1, 2, 1)\n",
        "plt.hist(residuals_fireplace, bins=20, edgecolor='k', alpha=0.65, density=True)\n",
        "plt.title('Histogram of Residuals (With Fireplace)')\n",
        "plt.xlabel('Residual')\n",
        "plt.ylabel('Density')\n",
        "\n",
        "# Overlay normal density with expectation 0\n",
        "std_fireplace = residuals_fireplace.std()\n",
        "x_vals = np.linspace(residuals_fireplace.min(), residuals_fireplace.max(), 100)\n",
        "plt.plot(x_vals, stats.norm.pdf(x_vals, 0, std_fireplace), color='red', label='Normal Density')\n",
        "plt.legend()\n",
        "\n",
        "# Histogram and density for properties without a fireplace\n",
        "plt.subplot(1, 2, 2)\n",
        "plt.hist(residuals_no_fireplace, bins=20, edgecolor='k', alpha=0.65, density=True)\n",
        "plt.title('Histogram of Residuals (Without Fireplace)')\n",
        "plt.xlabel('Residual')\n",
        "plt.ylabel('Density')\n",
        "\n",
        "# Overlay normal density with expectation 0\n",
        "std_no_fireplace = residuals_no_fireplace.std()\n",
        "x_vals = np.linspace(residuals_no_fireplace.min(), residuals_no_fireplace.max(), 100)\n",
        "plt.plot(x_vals, stats.norm.pdf(x_vals, 0, std_no_fireplace), color='red', label='Normal Density')\n",
        "plt.legend()\n",
        "\n",
        "plt.tight_layout()\n",
        "plt.show()\n",
        "\n",
        "# Q-Q plot for each model's residuals\n",
        "plt.figure(figsize=(14, 6))\n",
        "\n",
        "# Q-Q plot for properties with fireplace\n",
        "plt.subplot(1, 2, 1)\n",
        "stats.probplot(residuals_fireplace, dist=\"norm\", plot=plt)\n",
        "plt.title('Q-Q Plot of Residuals (With Fireplace)')\n",
        "\n",
        "# Q-Q plot for properties without fireplace\n",
        "plt.subplot(1, 2, 2)\n",
        "stats.probplot(residuals_no_fireplace, dist=\"norm\", plot=plt)\n",
        "plt.title('Q-Q Plot of Residuals (Without Fireplace)')\n",
        "\n",
        "plt.tight_layout()\n",
        "plt.show()\n",
        "\n"
      ]
    },
    {
      "cell_type": "code",
      "source": [],
      "metadata": {
        "id": "ZqoYweDYlHTg"
      },
      "execution_count": null,
      "outputs": []
    }
  ]
}