{
  "nbformat": 4,
  "nbformat_minor": 0,
  "metadata": {
    "colab": {
      "private_outputs": true,
      "provenance": [],
      "authorship_tag": "ABX9TyOvNmdMzoCpx3wEZwPkj0Sw",
      "include_colab_link": true
    },
    "kernelspec": {
      "name": "python3",
      "display_name": "Python 3"
    },
    "language_info": {
      "name": "python"
    }
  },
  "cells": [
    {
      "cell_type": "markdown",
      "metadata": {
        "id": "view-in-github",
        "colab_type": "text"
      },
      "source": [
        "<a href=\"https://colab.research.google.com/github/francji1/01RAD/blob/main/code/01RAD_Ex11__hands_on_empty.ipynb\" target=\"_parent\"><img src=\"https://colab.research.google.com/assets/colab-badge.svg\" alt=\"Open In Colab\"/></a>"
      ]
    },
    {
      "cell_type": "markdown",
      "source": [
        "# Kaggle house data set\n",
        "\n",
        "https://www.kaggle.com/datasets/iamsouravbanerjee/house-rent-prediction-dataset/data"
      ],
      "metadata": {
        "id": "sXrQyd0oWEmt"
      }
    },
    {
      "cell_type": "markdown",
      "source": [
        "Auto NB - let's beat it\n",
        "\n",
        "https://www.kaggle.com/code/sahityasetu/boosting-algorithms-for-machine-learning"
      ],
      "metadata": {
        "id": "PcdJsYKBWLyo"
      }
    },
    {
      "cell_type": "code",
      "execution_count": null,
      "metadata": {
        "id": "ARyiIgPpV7cC"
      },
      "outputs": [],
      "source": []
    },
    {
      "cell_type": "code",
      "source": [],
      "metadata": {
        "id": "ztaVvcBEWNH8"
      },
      "execution_count": null,
      "outputs": []
    },
    {
      "cell_type": "code",
      "source": [],
      "metadata": {
        "id": "tzp64AaEWNK-"
      },
      "execution_count": null,
      "outputs": []
    }
  ]
}