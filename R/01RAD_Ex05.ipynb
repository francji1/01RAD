{
  "nbformat": 4,
  "nbformat_minor": 0,
  "metadata": {
    "colab": {
      "private_outputs": true,
      "provenance": [],
      "collapsed_sections": [],
      "authorship_tag": "ABX9TyPdfOt0GBf7a8WPVIbkqezd",
      "include_colab_link": true
    },
    "kernelspec": {
      "name": "ir",
      "display_name": "R"
    },
    "language_info": {
      "name": "R"
    }
  },
  "cells": [
    {
      "cell_type": "markdown",
      "metadata": {
        "id": "view-in-github",
        "colab_type": "text"
      },
      "source": [
        "<a href=\"https://colab.research.google.com/github/francji1/01RAD/blob/main/R/01RAD_Ex05.ipynb\" target=\"_parent\"><img src=\"https://colab.research.google.com/assets/colab-badge.svg\" alt=\"Open In Colab\"/></a>"
      ]
    },
    {
      "cell_type": "markdown",
      "source": [
        "# 01RAD Exercise 05\n",
        "\n",
        "\n",
        "Today's exercise\n",
        " * Numerical Linear Algebra view-\n",
        " * Residuals"
      ],
      "metadata": {
        "id": "abYvcKai_sv1"
      }
    },
    {
      "cell_type": "code",
      "source": [
        "# get requirements for this exercise\n",
        "list_of_packages <- c(\"tidyverse\", \"lattice\", \"pwr\", \"MASS\",\n",
        "                      \"GGally\",\"scatterplot3d\",\"gridExtra\",\n",
        "                      \"nortest\",\"lmtest\") # \"car\",\"colorspace\",\"RColorBrewer\",\"pracma\"\n",
        "missing_packages <- list_of_packages[!(list_of_packages %in% installed.packages()[,\"Package\"])]\n",
        "if(length(missing_packages)) install.packages(missing_packages)\n",
        "lapply(list_of_packages, library, character.only = TRUE)\n"
      ],
      "metadata": {
        "id": "cDuxlOI3_sW6"
      },
      "execution_count": null,
      "outputs": []
    },
    {
      "cell_type": "code",
      "source": [
        "######################\n",
        "# check our settings\n",
        "# getwd()\n",
        "# print(.libPaths())\n",
        "# print(sessionInfo())\n",
        "print(version)\n",
        "\n",
        "tibble::tibble(\n",
        "  Package = names(installed.packages()[,3]),\n",
        "  Version = unname(installed.packages()[,3])\n",
        ")\n"
      ],
      "metadata": {
        "id": "U6zsOd8qFKa8"
      },
      "execution_count": null,
      "outputs": []
    },
    {
      "cell_type": "markdown",
      "source": [
        "## Numerical algebra view"
      ],
      "metadata": {
        "id": "0ugXcwHlFczi"
      }
    },
    {
      "cell_type": "code",
      "source": [
        "# Let's take the same model from the previous lectures\n",
        "head(cars)\n",
        "cars_lm2 <- lm(dist ~  speed , data = cars)\n",
        "summary(cars_lm2)\n"
      ],
      "metadata": {
        "id": "Uxw3S0jqFaYg"
      },
      "execution_count": null,
      "outputs": []
    },
    {
      "cell_type": "markdown",
      "source": [
        "Compute residuals of the model: $r = Y - \\hat{Y} = Y - X \\hat{\\beta}$"
      ],
      "metadata": {
        "id": "CyyxZ_XKG-rO"
      }
    },
    {
      "cell_type": "code",
      "source": [
        "# computed residuals\n",
        "r <- residuals(cars_lm2) \n",
        "# alternatives\n",
        "# r <- resid(cars_lm2),\n",
        "# r <- cars_lm2$residuals\n",
        "# r <- cars$dist - fitted(cars_lm2)  \n",
        "#  cars_lm2$fitted.values  # Fitted values of response varaible (here cars$dist)\n",
        "\n",
        "hist(r)\n",
        "qqnorm(r)\n",
        "qqline(r)\n",
        "\n"
      ],
      "metadata": {
        "id": "b7SHqR_0Flvf"
      },
      "execution_count": null,
      "outputs": []
    },
    {
      "cell_type": "code",
      "source": [
        "mean(cars_lm2$residuals)\n",
        "sqrt(var(cars_lm2$residuals))\n",
        "sd(cars_lm2$residuals)\n",
        "deviance(cars_lm2)/cars_lm2$df.residua\n",
        "summary(cars_lm2)\n",
        "\n"
      ],
      "metadata": {
        "id": "xwVoTjT9GBpH"
      },
      "execution_count": null,
      "outputs": []
    },
    {
      "cell_type": "code",
      "source": [
        "#coefficients(cars_lm2)    # Regression coefficens\n",
        "# cars_lm2$df.residual    # Residuals degrees of freedom "
      ],
      "metadata": {
        "id": "sMkmFSLHGBTw"
      },
      "execution_count": null,
      "outputs": []
    },
    {
      "cell_type": "code",
      "source": [
        "X <- cbind(rep(1,times=length(cars$speed)), cars$speed)\n",
        "Y <- cars$dist\n",
        "(XtX  <- t(X) %*% X) \n",
        "(XtY  <- t(X) %*% Y)\n",
        "b_ols <- solve(XtX, XtY)  \n",
        "cbind(b_ols,coefficients(cars_lm2))\n"
      ],
      "metadata": {
        "id": "7bf28SCQGBGn"
      },
      "execution_count": null,
      "outputs": []
    },
    {
      "cell_type": "code",
      "source": [
        "## QR decomposition   \n",
        "qr(X)             # object of class qr\n",
        "R = qr.R(qr(X))\n",
        "Qt = t((qr.Q(qr(X))))\n",
        "Q = (qr.Q(qr(X)))\n",
        "#(Q%*%R == X)\n"
      ],
      "metadata": {
        "id": "lpThv_27GAxI"
      },
      "execution_count": null,
      "outputs": []
    },
    {
      "cell_type": "code",
      "source": [
        "qr.solve(X,Y)    \n",
        "R%*%qr.solve(X,Y) ==  Qt%*%Y\n",
        "round(qr.R(qr(X))%*%qr.solve(X,Y),5) ==  round(t((qr.Q(qr(X))))%*%Y,5)\n"
      ],
      "metadata": {
        "id": "AVBU4f98GAko"
      },
      "execution_count": null,
      "outputs": []
    },
    {
      "cell_type": "code",
      "source": [
        "# Q*Q^T = I => Q^T = Q^-1\n",
        "b_ols = solve(R)%*%Qt%*%Y\n",
        "b_ols"
      ],
      "metadata": {
        "id": "KryBdQ8ZGARh"
      },
      "execution_count": null,
      "outputs": []
    },
    {
      "cell_type": "code",
      "source": [
        "## as MATLAB / bslash function ;)\n",
        "bslash <- function(X, Y) {\n",
        "    qr.coef(qr(X), Y)\n",
        "}\n",
        "b_ols2 <- bslash(X, Y)\n",
        "b_ols2\n"
      ],
      "metadata": {
        "id": "7gZw4E97GAF4"
      },
      "execution_count": null,
      "outputs": []
    },
    {
      "cell_type": "code",
      "source": [
        "## QR decomposition from lm object:\n",
        "#  Q matrix  is orthogonal, i.e. columns are orthogonal vectors\n",
        "Q <- qr.Q(cars_lm2$qr)  \n",
        "H <- qr.Q(cars_lm2$qr) %*% t(qr.Q(cars_lm2$qr)) # H = QtQ\n",
        "dim(H)\n",
        "\n"
      ],
      "metadata": {
        "id": "wT-bPzNDF_kW"
      },
      "execution_count": null,
      "outputs": []
    },
    {
      "cell_type": "code",
      "source": [
        "# Hat matrix H = projection matrix\n",
        "# orthogonal projection onto the column space of the matrix X \n",
        "H <- X %*% solve(XtX) %*% t(X)    \n",
        "dim(H)\n",
        "H[1:5,1:5]\n",
        "\n"
      ],
      "metadata": {
        "id": "RkeV9ekIF_UP"
      },
      "execution_count": null,
      "outputs": []
    },
    {
      "cell_type": "code",
      "source": [
        "#############\n",
        "# TASK\n",
        "# How looks H eigenvalues? \n",
        "round(eigen(H)$values,10)\n",
        "# What is H%*%H ? How do we call matrix with this property?\n",
        "sum(round(H%*%H - H,5))\n",
        "round(t(H) - H,10)\n"
      ],
      "metadata": {
        "id": "kRcGkDOTF-8I"
      },
      "execution_count": null,
      "outputs": []
    },
    {
      "cell_type": "code",
      "source": [
        "dim(H)\n",
        "dim(X)\n",
        "############\n",
        "## prediction:  hat_Y = H%*%Y"
      ],
      "metadata": {
        "id": "qXIyBHnwF-mA"
      },
      "execution_count": null,
      "outputs": []
    },
    {
      "cell_type": "code",
      "source": [
        "#Question + Task\n",
        "## Complement of the projection matrix H\n",
        "M <- diag(nrow(H)) - H            \n",
        "# Why is matrix M called  residual maker matrix ?\n",
        "# Compute residuals by the help of M\n"
      ],
      "metadata": {
        "id": "cXrAnZTKF9-i"
      },
      "execution_count": null,
      "outputs": []
    },
    {
      "cell_type": "code",
      "source": [
        "cars_lm2$fitted.values  # Fitted values of response variable (here cars$dist)"
      ],
      "metadata": {
        "id": "_n9IzMHBF9lU"
      },
      "execution_count": null,
      "outputs": []
    },
    {
      "cell_type": "code",
      "source": [
        "\n",
        "# TASK\n",
        "# compute fitted values manually by the help of original data set and cars_lm2$coef\n",
        "# compare results with output from the function lm_object$fitted.values or fitted(lm_object)\n",
        "# compare with result obtained by H matrix\n",
        "fittedY1  = cars_lm2$fitted.values\n",
        "fittedY1b = fitted(cars_lm2)\n",
        "fittedY2  = X%*%coef(cars_lm2)\n",
        "fittedY3  = H%*%Y\n",
        "\n"
      ],
      "metadata": {
        "id": "XYnkJMDtF9Rw"
      },
      "execution_count": null,
      "outputs": []
    },
    {
      "cell_type": "code",
      "source": [
        "#The eigenvalues of H  consist of r ones and n-r zeros.\n",
        "#The eigenvalues of M consist  of n-r ones and r  zeros.\n",
        "round(eigen(H)$values,10)\n",
        "round(eigen(M)$values,10)\n",
        "\n"
      ],
      "metadata": {
        "id": "420MxH-AF864"
      },
      "execution_count": null,
      "outputs": []
    },
    {
      "cell_type": "code",
      "source": [
        "# H and M are idempotent: \n",
        "sum(round(H%*%H,5) ==round(H,5))\n",
        "sum(round(M%*%M,5) ==round(M,5))\n",
        "\n",
        "cbind(fittedY1, fittedY1b, fittedY2,fittedY3)[1:10,]  "
      ],
      "metadata": {
        "id": "Oki5_UVlF8n4"
      },
      "execution_count": null,
      "outputs": []
    },
    {
      "cell_type": "code",
      "source": [
        "# Similar for residuals\n",
        "residuals(cars_lm2)\n",
        "resid_2a = cars[,\"dist\"] - fittedY3   # manually from the definition\n",
        "resid_2b = residuals(cars_lm2)          # by R function\n",
        "resid_2c = M%*%Y\n",
        "cbind(resid_2a, resid_2b, resid_2c)[1:10,]  \n"
      ],
      "metadata": {
        "id": "8OUtV5PqF8bg"
      },
      "execution_count": null,
      "outputs": []
    },
    {
      "cell_type": "markdown",
      "source": [
        "## Residual  Analysis"
      ],
      "metadata": {
        "id": "Z61mRA33Gewe"
      }
    },
    {
      "cell_type": "code",
      "source": [
        "# Let's generate some data\n",
        "set.seed(21)\n",
        "n    <- 60\n",
        "X0   <- rep(1,n)\n",
        "X1   <- runif(n,10,40)\n",
        "X    <- cbind(X0,X1)\n",
        "e    <- rnorm(n,0,2)\n",
        "beta <- c(4,2)\n",
        "Y    <- X%*%matrix(beta) + e\n",
        "df_m1 <- data.frame(Y = Y, X = X1)\n"
      ],
      "metadata": {
        "id": "XT1GdX5NGeQA"
      },
      "execution_count": null,
      "outputs": []
    },
    {
      "cell_type": "code",
      "source": [
        "\n",
        "# Summary and visualisation of our dataset\n",
        "ggpairs(df_m1)\n",
        "summary(df_m1)\n"
      ],
      "metadata": {
        "id": "53a6qBoa1mKS"
      },
      "execution_count": null,
      "outputs": []
    },
    {
      "cell_type": "code",
      "source": [
        "\n",
        "# OLS estimation of regression coefficients\n",
        "m1 <- lm(Y ~ X, df_m1)\n",
        "summary(m1)\n"
      ],
      "metadata": {
        "id": "5zP_Y6f-1mdD"
      },
      "execution_count": null,
      "outputs": []
    },
    {
      "cell_type": "code",
      "source": [
        "\n",
        "# Fast post-hoc analysis of residuals\n",
        "opar <- par(mfrow=c(2,2))\n",
        "plot(m1)\n",
        "par(opar)\n",
        "\n"
      ],
      "metadata": {
        "id": "fmIDlQgx1m2S"
      },
      "execution_count": null,
      "outputs": []
    },
    {
      "cell_type": "code",
      "source": [
        "\n",
        "hist(resid(m1))\n",
        "fitted(m1)\n"
      ],
      "metadata": {
        "id": "5i1yd6W-1nHi"
      },
      "execution_count": null,
      "outputs": []
    },
    {
      "cell_type": "code",
      "source": [
        "\n",
        "#residuals vs. fitted\n",
        "plot(residuals(m1) ~ fitted(m1))\n",
        "\n"
      ],
      "metadata": {
        "id": "d4pGR3t81nXK"
      },
      "execution_count": null,
      "outputs": []
    },
    {
      "cell_type": "code",
      "source": [
        "\n",
        "#########################################\n",
        "# How R computes different residuals? \n",
        "# R provides built-in functions rstandard() and rstudent() as as part of influence.measures \n",
        "# They re-normalize the residuals to have unit variance,\n",
        "# using an overall and leave-one-out measure of the error variance respectively.\n"
      ],
      "metadata": {
        "id": "Dfi2YqgP1kLS"
      },
      "execution_count": null,
      "outputs": []
    },
    {
      "cell_type": "code",
      "source": [
        "\n",
        "# manual computation of standartized residuals : help(rstandard)\n",
        "# R standartized residual is ordinary residual divided by an estimate of its standard deviation:\n",
        "r_standard = residuals(m1)/(sigma(m1)*sqrt(1-hatvalues(m1)))\n",
        "# comparison with built-in function\n",
        "r_standard - rstandard(m1)\n",
        "\n",
        "\n",
        "#Studentized residuals: \"externally studentized residuals\" or \"deleted residuals,\" \n",
        "#Studentized residuals for any given data point are computed from a model fit \n",
        "# to every other data point except the one in question. \n",
        "\n",
        "# compare with slide 1, lecture 5\n",
        "anova(m1)\n",
        "\n",
        "A = sqrt(1 - (1/n + (X1-mean(X1))^2/sum((X1-mean(X1))^2)))\n",
        "r_stud <- residuals(m1) / (sigma(m1)*A)\n",
        "\n",
        "round(rstudent(m1) - r_stud,4)\n",
        "round(rstandard(m1) - r_stud,4)\n",
        "\n",
        "rstandard(m1, type = \"predictive\")\n",
        "# we will come back to standardized and studentized residuals later \n",
        "# in outlier diagnostic session\n",
        "\n",
        "\n"
      ],
      "metadata": {
        "id": "fevleQbY1k6x"
      },
      "execution_count": null,
      "outputs": []
    },
    {
      "cell_type": "code",
      "source": [
        "\n",
        "# Plot with ggplot, add residuals to dataset\n",
        "\n",
        "df_m1 <- df_m1  %>% \n",
        "  mutate(predicted = predict(m1),\n",
        "         residuals = residuals(m1),\n",
        "         rstandard = rstandard(m1))\n",
        "\n",
        "p1<-ggplot(data=df_m1,mapping=aes(x=predicted,y=residuals)) +\n",
        "  geom_point() +\n",
        "  geom_hline(yintercept=0,linetype=\"dashed\")\n",
        "\n",
        "p2<-ggplot(data=df_m1,mapping=aes(x=Y,y=residuals)) +\n",
        "  geom_point() +\n",
        "  geom_hline(yintercept=0,linetype=\"dashed\")\n",
        "\n",
        "p3<-ggplot(data=df_m1,mapping=aes(x=predicted,y=rstandard)) +\n",
        "  geom_point() +\n",
        "  geom_hline(yintercept=0,linetype=\"dashed\")\n",
        "\n",
        "p4<-ggplot(data=df_m1,mapping=aes(x=Y,y=rstandard)) +\n",
        "  geom_point() +\n",
        "  geom_hline(yintercept=0,linetype=\"dashed\")\n",
        "\n",
        "ggarrange(p1, p2, p3, p4, labels = c(\"A\", \"B\",\"C\",\"D\"), common.legend = TRUE, legend = \"bottom\")\n",
        "\n"
      ],
      "metadata": {
        "id": "qkgdH-ik1jP1"
      },
      "execution_count": null,
      "outputs": []
    },
    {
      "cell_type": "code",
      "source": [
        "\n",
        "# Visualization of residuals (orthogonal distance to be minimized by OLS method)\n",
        "\n",
        "ggplot(df_m1, aes(x = X, y = Y)) +\n",
        "  geom_smooth(method = \"lm\", se = FALSE, color = \"lightgrey\") +\n",
        "  geom_segment(aes(xend = X, yend = predicted), alpha = .2) +\n",
        "  geom_point(aes(color = residuals)) +  \n",
        "  scale_color_gradient2(low = \"blue\", mid = \"white\", high = \"red\") +  # Colors to use here\n",
        "  # geom_point() + \n",
        "  # guides(color = FALSE) +\n",
        "  geom_point(aes(y = predicted), shape = 1) +\n",
        "  theme_bw()\n",
        "\n"
      ],
      "metadata": {
        "id": "i94SQ5yz1i0-"
      },
      "execution_count": null,
      "outputs": []
    },
    {
      "cell_type": "markdown",
      "source": [
        "Lets play with regression model and obtain different shapes of residuals"
      ],
      "metadata": {
        "id": "kuvaqjEA1e8i"
      }
    },
    {
      "cell_type": "code",
      "source": [
        "\n",
        "X1   <- runif(n,0,1)\n",
        "X    <-cbind(X0,sin(2*pi*X1))\n",
        "Y    <- X%*%matrix(c(1,1)) + rnorm(n,0,(0.1)^2)\n",
        "df_m1 <- data.frame(Y = Y, X = X1)\n",
        "summary(df_m1)\n",
        "ggpairs(df_m1)\n",
        "m1 <- lm(Y ~ X, df_m1)\n",
        "opar <- par(mfrow=c(2,2))\n",
        "plot(m1)\n",
        "par(opar)\n",
        "\n"
      ],
      "metadata": {
        "id": "uWqGX4CN1d1S"
      },
      "execution_count": null,
      "outputs": []
    },
    {
      "cell_type": "code",
      "source": [
        "\n",
        "X1   <- runif(n,0,10)\n",
        "X    <- cbind(X0,log(0.4 + X1))\n",
        "Y    <- X%*%matrix(c(1,1)) + rnorm(n,0,0.1)\n",
        "df_m1<- data.frame(Y = Y, X = X1)\n",
        "ggpairs(df_m1)\n",
        "m1 <- lm(Y ~ X, df_m1)\n",
        "opar <- par(mfrow=c(2,2))\n",
        "plot(m1)\n",
        "par(opar)\n"
      ],
      "metadata": {
        "id": "XD-pNYMl1dhs"
      },
      "execution_count": null,
      "outputs": []
    },
    {
      "cell_type": "code",
      "source": [
        "\n",
        "X0   <- rep(1,n)\n",
        "X1   <- runif(n,10,40)\n",
        "X    <- cbind(X0,X1)\n",
        "Y   <- X%*%matrix(beta) + (rnorm(n,0,(X1/10)^2)+X1/10)\n",
        "df_m1 <- data.frame(Y = Y, X = X1)\n",
        "ggpairs(df_m1)\n",
        "summary(df_m1)\n",
        "m1 <- lm(Y ~ X, df_m1)\n",
        "opar <- par(mfrow=c(2,2))\n",
        "plot(m1)\n",
        "par(opar)\n",
        "# repeat plots ;)"
      ],
      "metadata": {
        "id": "r-yrSTWG1dNC"
      },
      "execution_count": null,
      "outputs": []
    },
    {
      "cell_type": "code",
      "source": [],
      "metadata": {
        "id": "7Cp8ejGpGeTS"
      },
      "execution_count": null,
      "outputs": []
    }
  ]
}