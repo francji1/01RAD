{
  "nbformat": 4,
  "nbformat_minor": 0,
  "metadata": {
    "colab": {
      "private_outputs": true,
      "provenance": [],
      "authorship_tag": "ABX9TyOv8+dRPDX2DXMcMzG/o5kZ",
      "include_colab_link": true
    },
    "kernelspec": {
      "name": "ir",
      "display_name": "R"
    },
    "language_info": {
      "name": "R"
    }
  },
  "cells": [
    {
      "cell_type": "markdown",
      "metadata": {
        "id": "view-in-github",
        "colab_type": "text"
      },
      "source": [
        "<a href=\"https://colab.research.google.com/github/francji1/01RAD/blob/main/R/01RAD_Ex01.ipynb\" target=\"_parent\"><img src=\"https://colab.research.google.com/assets/colab-badge.svg\" alt=\"Open In Colab\"/></a>"
      ]
    },
    {
      "cell_type": "code",
      "execution_count": null,
      "metadata": {
        "id": "AjZXLiIBoM8f"
      },
      "outputs": [],
      "source": [
        "################################## \n",
        "##### 01RAD Exercise 01 ##########\n",
        "#################################\n",
        "#\n",
        "# Poznamka na uvod: Text je psan bez hacku a cerek kvuli ruznym kodovanim\n",
        "#                   Doporucuji veskery kod ukladat v UTF-8, \n",
        "#                   nastavite v tool -> global options -> code -> saving\n",
        "#\n",
        "# Jak nastavit Rstudio, k cemu editor slouzi atd ukazi online behem cviceni.\n",
        "#\n",
        "# Spustte program RStudio.\n",
        "# Je to editor pro praci s R a veskere potrebne veci jsou tam jiz nastaveny.\n",
        "# V jednom z oken je spustena konzole, kam muzete primo psat prikazy, ktere ma R vykonat.\n",
        "# Konzoli poznate nejen podle jmena okna (Console), ale i podle vyvolavaciho symbolu >\n",
        "#\n",
        "# Pokud vami zadany prikaz nedokoncite a predcasne spustite pomoci ENTER, program zahlasi +\n",
        "# a ceka na dokonceni prikazu.\n",
        "# Jiz provedene prikazy lze zpetne vyvolat postupnym stisknutim kurzorove sipky nahoru.\n",
        "#\n",
        "# Jak ziskavat kod na cviceni:\n",
        "# Git: clone https://gitlab.fjfi.cvut.cz/francji1/01RAD.git\n",
        "# MS-teams: files -> exercises -> 01RAD  (v pripade potreby budu tam kopirovat)\n",
        "# \n",
        "# Spuste R projekt ze stahnute slozky: 01rad.Rproj\n",
        "# potom mate relativni cestu nastavenu a otevrete si v adresari /R prislusne cviceni\n",
        "\n",
        "# Pokud chcete nastavit cestu absolutne, tak zalozte si prisusny adresar,\n",
        "# zkopirujte do nej prislusny kod (adresar z MS teams) a \n",
        "# nastavte ho jako pracovni pomoci prikazu:\n",
        "# setwd(\"D:/Vyuka/01RAD/\")  \n",
        "#(upravte prikaz podle sve cesty)  \n",
        "\n",
        "\n",
        "#\tzkontrolujte nastaveni pracovni slozky zkontrolujete pomoci prikazu \n",
        "   getwd()\n"
      ]
    },
    {
      "cell_type": "code",
      "source": [
        "# Zadejte nekolik prikazu s ruzymi matematickymi operacemi primo do konzole\n",
        "#\n",
        " 40+2\n",
        " 50-8\n",
        " 21*2\n",
        "#   \n",
        "# Mnohem praktictejsi je ale psat prikazy do souboru scriptu, \n",
        "# ktery je mozno ulozit, opakovane spustit, psat k nemu komenty atd.\n",
        "# Naprikad tento dokument nesouci nazev REAN2017_Ex01.R\n",
        "   \n",
        "# Pozn. znak # uvozuje komentar \n",
        "   \n",
        "# Ze souboru odesleme oznacenou cast kodu do scriptu pomoci prikazu\n",
        "#   Ctrl+R \n",
        "# pokud neni oznacen zadny text odesle se radek, kde je kurzor.\n",
        "   \n",
        "#Default package\n",
        "(getOption(\"defaultPackages\"))  \n",
        "\n",
        "# informace o spustene session vcetne base balicku   \n",
        "sessionInfo()\n",
        "   \n",
        "# vycet vsech base a recommended balicku\n",
        "subset(as.data.frame(installed.packages()), Priority %in% c(\"base\",\"recommended\"), select=c(Package, Priority))\n",
        "   \n",
        "# vycet vsech nainstalovanych a dostupnych knihoven v pocitaci   \n",
        "library()\n"
      ],
      "metadata": {
        "id": "OHyHkvO7oj36"
      },
      "execution_count": null,
      "outputs": []
    },
    {
      "cell_type": "code",
      "source": [
        "# Jak stahnout a nainstalovat knihovnu - balicek (package)\n",
        "# Priklad balicku \"car\" - Companion to Applied Regression\n",
        "?install.packages\n",
        "install.packages(\"car\")\n",
        "library(car)\n",
        " "
      ],
      "metadata": {
        "id": "C9zTTgrQom1w"
      },
      "execution_count": null,
      "outputs": []
    },
    {
      "cell_type": "code",
      "source": [
        "# V R-studiu lze naklikat Packages -> install -> (zadat jmeno) a potvrdit Install \n",
        "\n",
        "# napoveda ke knihovne\n",
        "library(help = \"datasets\")   # priority: base\n",
        "library(help = \"car\")       # priority: recommended\n",
        "\n",
        "# Jednotlive balicky maji napovedu, pdf se seznamem funkci a medajlonky\n",
        "vignette(all = T)  # prehled vsech medailonku u vsech instalovanych balicku\n",
        "vignette(\"embedding\", package = \"car\")\n",
        "\n",
        "# Nektere balicky obsahuji krom funkci i data\n",
        "#Priklady dat z balicku datasets\n",
        "? Titanic\n",
        "WWWusage\n",
        "# prohlizeni dat v editoru\n",
        "View(Titanic)\n"
      ],
      "metadata": {
        "id": "ZIPaVANlopCn"
      },
      "execution_count": null,
      "outputs": []
    },
    {
      "cell_type": "code",
      "source": [
        "# R rozlisuje velikost pismen, tj\n",
        "titanic = 42\n",
        "Titanic == titanic\n",
        "class(titanic)\n",
        "class(Titanic)\n",
        "is.table(Titanic)\n",
        "is.data.frame(Titanic)\n",
        "Titanic_df = as.data.frame(Titanic)\n",
        "Titanic_df\n",
        "# datum a data.frame se budeme venovat pozdeji \n",
        "\n",
        "### Ukol: instalujte balicek MASS, nacteteho a projdete si k nemu help, \n",
        "#         jsou v nem obsazena i data popisující cenu nemovitostí v okolí Bostnu?\n",
        "install.packages(\"MASS\")\n",
        "library(help = \"MASS\") \n",
        "library(MASS)\n",
        "? Boston\n"
      ],
      "metadata": {
        "id": "Ruo_eNjsotOE"
      },
      "execution_count": null,
      "outputs": []
    },
    {
      "cell_type": "code",
      "source": [
        "######################################\n",
        "## Aritmetika - R jako kalkulacka\n",
        "40 + 2              # scitani\n",
        "44 - 2              # odcitani\n",
        "6  * 7              # nasobeni\n",
        "294 / 7             # deleni\n",
        "42^7                # mocnina\n",
        "sqrt(1764)          # druha odmocnina\n",
        "230539333248^(1/7)  # (od)mocnina, zavorky nutne\n",
        "\n",
        "#Konstanty a funkce \n",
        "exp(1)             # eulerovo cislo\n",
        "exp(42)            # exponenciela\n",
        "pi                 # konstanta pi\n",
        "sin(pi/2)          # sinus \n",
        "log(exp(1))        # přirozený logaritmus (pozor! jinde se casto značí ln)\n",
        "ln(exp(1))         # funkci ln R nezna !\n",
        "factorial(42)      # 42! \n",
        "choose(5, 2)       # 5 nad 2 = kombinacni cislo\n",
        "10/3\n",
        "options(digits = 15) # chcili zobrazit vice cislic\n",
        "10/3\n",
        "options(digits = 7)  # zpet na 7\n",
        "\n"
      ],
      "metadata": {
        "id": "V15Mw4s3ovgX"
      },
      "execution_count": null,
      "outputs": []
    },
    {
      "cell_type": "code",
      "source": [
        "######################################\n",
        "### Prace s promennymi\n",
        "\n",
        "x <- 42    # ulozeni hodnoty do \n",
        "x\t       # vytisteni hodnoty v promenne ulozene\n",
        "x = 42     # jiny zpusob, ale  nelze pouzit v kombinaci s jinym prikazem\n",
        "y <- 3    # uložení do jiné proměnné\n",
        "x + y    \n",
        "z <- x + y\n",
        "\n",
        "library(tidyverse)\n",
        "\n",
        "z <- x + y %>% print()\n",
        "print(z = x + y)\t \n"
      ],
      "metadata": {
        "id": "JtiTTIeBoxIB"
      },
      "execution_count": null,
      "outputs": []
    },
    {
      "cell_type": "code",
      "source": [
        "### Vymazani promennych\n",
        "### --------------\n",
        "ls()          # vypis pouzivanych a definovanych objektu\n",
        "rm(list=ls()) # vymaze vsechny objekty \n",
        "ls() \n",
        "\n",
        "WWWusage2 = WWWusage\n",
        "\n",
        "\n"
      ],
      "metadata": {
        "id": "2j3hPyK_ozAH"
      },
      "execution_count": null,
      "outputs": []
    },
    {
      "cell_type": "code",
      "source": [
        "##### Typy objektů\n",
        "#  integer, double: real numbers (rational and irrational)\n",
        "#  character, logical: includes TRUE, FALSE,\n",
        "#  NA stands for “not available”, i.e., a missing value.\n",
        "#  NULL znamena prazdnou promennou\n",
        "\n",
        "A <- NULL  \n",
        "B <- 2\n",
        "   is.na(A)   # nelze zjistit, A je prazdna\n",
        "is.na(B)\n",
        "\n",
        "B[1]\n",
        "\n",
        "a = -1\n",
        "\n",
        "sqrt(a) # isn't defined\n",
        "sqrt(-1+0i) # is defined\n",
        "sqrt(as.complex(a)) # same thing\n",
        "(0 + 1i)^2 # should be -1\n",
        "typeof((0 + 1i)^2)\n",
        "class((0 + 1i)^2)\n",
        "\n",
        " \n",
        "x <- (0 + 1i)^2\n",
        "x\n",
        "y <- as.numeric(x)\n",
        "y\n",
        "class(y)\n",
        "class(x)\n",
        "y == x\n",
        "\n",
        "x = -1\n",
        "is.complex(x)\n",
        "x = as.complex(x)\n",
        "sqrt(x)\n",
        "x = as.integer(x)\n",
        "sqrt(x)\n",
        "is.integer(x)\n",
        "class(x)\n",
        "\n"
      ],
      "metadata": {
        "id": "q4Pw3vMYo1YL"
      },
      "execution_count": null,
      "outputs": []
    },
    {
      "cell_type": "code",
      "source": [
        "### --- Vectors ---\n",
        "a <- c(1,2,5.3,6,-2,4)                   # numeric vector\n",
        "b <- c(\"one\",\"two\",\"three\")              # character vector\n",
        "c <- c(TRUE,TRUE,TRUE,FALSE,TRUE,FALSE)  # logical vector\n",
        "c\n",
        "is.logical(c)\n",
        "cc = as.numeric(c)\n",
        "cc\n",
        "\n"
      ],
      "metadata": {
        "id": "UGa5Qf3Io2tD"
      },
      "execution_count": null,
      "outputs": []
    },
    {
      "cell_type": "code",
      "source": [
        "#dalsi vektory:\n",
        "seq(from = 1, to = 5)\n",
        "1:5\n",
        "seq(from = 2, by = -0.1, length.out = 4)\n",
        "seq(from = 2, to = 10, by = 2)\n",
        "seq(from = as.Date(\"2019-09-24\"), to = as.Date(\"2019-09-28\"),by =1)\n",
        "rep(5,times = 6)\n",
        "\n",
        "x <- c(74, 31, 95, 61, 76, 34, 23, 54, 96)\n",
        "x\n",
        "x[1:50]\n",
        "x[c(1, 3, 4, 8)]\n",
        "x[-c(1, 3, 4, 8)]\n",
        "LETTERS[1:5]\n",
        "letters[-(6:23)]\n",
        "\n"
      ],
      "metadata": {
        "id": "9BLTUhSzo3_6"
      },
      "execution_count": null,
      "outputs": []
    },
    {
      "cell_type": "code",
      "source": [
        "### --- data.frame ---\n",
        "# data.frame je seznam vektorů stejné délky, každý sloupec má svůj datový typ.\n",
        "trees\n",
        "stromy = trees\n",
        "str(stromy)\n",
        "\n",
        "head(trees)       # prvnich par radku\n",
        "summary(trees)    # prehled promennych\n",
        "table(trees[,\"Girth\"])\n",
        "str(trees)\n",
        "View(trees)\n",
        "\n",
        "Girth           # nezna\n",
        "trees$Girth\t    # takto nahlidneme na prvni promenou\n",
        "trees[1:3,\"Girth\"]\n",
        "trees[1:3,1]\n",
        "G = trees$Girth # uz zname G\n",
        "G\n",
        "attach(trees)   # pouzivat jen pokud cely projekt budeme pouzivat jeden dataset\n",
        "                # casto vede k chybam, pouzivejte jen tam kde si jste jisti\n",
        "Girth\n",
        "detach(trees)\n",
        "\n",
        "\n",
        "\n"
      ],
      "metadata": {
        "id": "phrgIMpio5Af"
      },
      "execution_count": null,
      "outputs": []
    },
    {
      "cell_type": "code",
      "source": [
        "### --- tibbles ---\n",
        "# https://r4ds.had.co.nz/tibbles.html\n",
        "# Modern format of data.frame from the tidyverse \n",
        "# Krom rychlejsiho na\n",
        "# Lisi se napriklad v tom, ze nemeni typ promennych, \n",
        "#  nekonvertuje string do factoru, nemeni jmena promennych, a mnoho dalsiho \n",
        "# Interaguje s vetsinou funkci stejne jako data.frame\n",
        "\n",
        "\n"
      ],
      "metadata": {
        "id": "zuji9KCKo6S3"
      },
      "execution_count": null,
      "outputs": []
    },
    {
      "cell_type": "code",
      "source": [
        "### --- matrices ---\n",
        "# matrix má dvě dimenze a celá matice musí mít jeden datový typ.\n",
        "# Je užitečná pro algebraické operace a může zrychlit numerické operace.\n",
        "M <- matrix(c(3:14), nrow = 4, byrow = TRUE)\n",
        "print(M)\n",
        "\n",
        "\n"
      ],
      "metadata": {
        "id": "jcMV37i1o7Te"
      },
      "execution_count": null,
      "outputs": []
    },
    {
      "cell_type": "code",
      "source": [
        "##\tLze pracovat jen s nekterými sloupci, radky databaze\n",
        "\n",
        "trees[,1]\t\t      #\tjen 1. sloupec\n",
        "trees[-1,]\t\t      #\tbez 1. radku\n",
        "trees[c(2,3),]\t      #\tjen konkretni radky\n",
        "trees[,c(\"Girth\",\"Volume\")]\n",
        "trees[,-trees$Volume]\t#\tvykricnik  znamena negaci\n",
        "trees$novapromenna = \"vysoky strom\" #c(1:length(trees$Volume))\n",
        "trees$novapromenna[trees$Height<70] = \"maly strom\"\n",
        "str(trees)\n",
        "summary(trees)\n",
        "trees$novapromenna <- as.factor(trees$novapromenna)\n",
        "\n",
        "trees2 <- trees %>% \n",
        "   mutate(novapromenna = \"vysoky strom\",\n",
        "          novapromenna = factor(novapromenna))\n",
        "summary(trees2)\n",
        "\n",
        "\n",
        "\n"
      ],
      "metadata": {
        "id": "kbboVU-yo8Se"
      },
      "execution_count": null,
      "outputs": []
    },
    {
      "cell_type": "code",
      "source": [
        "### Ukol zadan zvlast v HW:\n",
        "\n",
        "#* Načtěte si data `trees` z base balicku datasets.\n",
        "#* Spočtěte střední hodnotu a rozptyl výšky a objemu stromů\n",
        "#* Porovnejte výsledek ze zabudovaných funkcí s \"manuálním\" výpočtem podle vzorce.\n",
        "#* Podívejte se `? trees` a převeďte proměnnou Girth na $cm$, Height na $m$, a Volume na $m^3$.\n",
        "#* Spočtěte BMI index stromu za předpokladu, že objemová hmotnost dřeva všech uvedených stromů je konstantní a rovna 900 kg / m$^3$, Výsledek  uložte do tabulky trees jako novou proměnnou `BMI`.\t\n",
        "#* Koukněte na tabulku `table` vypočtených hodnot, rozdělte ji na 3 skupiny  `{thin, normal, obese}` - a každému záznamu přiřaďte proměnnou typu faktor.\\\\\n",
        "#př: hodnoty break1 a break2 zvolte tak aby vám to dávalo smysl.\n",
        "\n",
        "\n",
        "\n",
        "\n",
        "\n"
      ],
      "metadata": {
        "id": "631ngKDHo9ms"
      },
      "execution_count": null,
      "outputs": []
    }
  ]
}