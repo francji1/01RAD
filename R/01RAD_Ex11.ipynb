{
  "nbformat": 4,
  "nbformat_minor": 0,
  "metadata": {
    "colab": {
      "private_outputs": true,
      "provenance": [],
      "authorship_tag": "ABX9TyOy/3ZHBX/997i8/BX8mLLP",
      "include_colab_link": true
    },
    "kernelspec": {
      "name": "ir",
      "display_name": "R"
    },
    "language_info": {
      "name": "R"
    }
  },
  "cells": [
    {
      "cell_type": "markdown",
      "metadata": {
        "id": "view-in-github",
        "colab_type": "text"
      },
      "source": [
        "<a href=\"https://colab.research.google.com/github/francji1/01RAD/blob/main/R/01RAD_Ex11.ipynb\" target=\"_parent\"><img src=\"https://colab.research.google.com/assets/colab-badge.svg\" alt=\"Open In Colab\"/></a>"
      ]
    },
    {
      "cell_type": "markdown",
      "source": [
        "## 01RAD Exercise 11\n",
        "\n",
        "* Robust Regression - How to deal with Outliers and Leverages\n",
        "* Very fast intro of Robust regression - M, MM, LTS, LWS\n"
      ],
      "metadata": {
        "id": "XwNWnH1kRGa9"
      }
    },
    {
      "cell_type": "markdown",
      "source": [],
      "metadata": {
        "id": "2yHszzsxxWrq"
      }
    },
    {
      "cell_type": "code",
      "source": [],
      "metadata": {
        "id": "6-39viLMxW6w"
      },
      "execution_count": null,
      "outputs": []
    },
    {
      "cell_type": "code",
      "source": [
        "######################\n",
        "######################\n",
        "# get requirements for this exercise (and previous ones)\n",
        "list_of_packages <- c(\"tidyverse\", \"car\", \"lattice\", \"MASS\",\"graphics\",\"psych\",\"effects\",\"corrplot\",\"ISLR\",\"robustbase\",\"rrcov\",\"robust\",\"quantreg\")\n",
        "                     # \"caret\",\"tidymodels\",\"GGally\",\"nortest\",\"lmtest\",\"leaps\",\"ISLR\",\"robustbase\",\"rrcov\",\"robust\",\"quantreg\"\n",
        "missing_packages <- list_of_packages[!(list_of_packages %in% installed.packages()[,\"Package\"])]\n",
        "if(length(missing_packages)) install.packages(missing_packages)\n",
        "lapply(list_of_packages, library, character.only = TRUE)\n",
        "\n",
        "######################\n",
        "# check our settings\n",
        "#getwd()\n",
        "#print(.libPaths())\n",
        "print(sessionInfo())\n",
        "#print(version)\n",
        "\n",
        "# delete graphics\n",
        "#dev.off()\n",
        "#par(mfrow = c(1, 1))\n",
        "############################################################\n",
        "############################################################\n"
      ],
      "metadata": {
        "id": "kjl9aWDJ1fKv"
      },
      "execution_count": null,
      "outputs": []
    },
    {
      "cell_type": "code",
      "source": [
        "\n",
        "# Dataset from the last exercise\n",
        "# Use Hertzsprung-Russell Diagram Data of Star Cluster CYG OB1\n",
        "? starsCYG\n",
        "summary(starsCYG)\n",
        "attach(starsCYG)\n",
        "#png('starsCYG.png')\n",
        "plot(log.light ~ log.Te,xlim=rev(range(log.Te)+c(-0.1,0.1)),ylim = c(3.5,6.5), pch=20, col = \"red3\", xaxs=\"i\",yaxs=\"i\",\n",
        "     main=\"Hertzsprung-Russell Diagram Data\",xlab=\"SURFICE TEMPERATURE\", ylab=\"LUMINIOUS OUTPUT\")\n",
        "#dev.off()\n",
        "\n"
      ],
      "metadata": {
        "id": "fzwnN57ePcYA"
      },
      "execution_count": null,
      "outputs": []
    },
    {
      "cell_type": "code",
      "source": [
        "#png('starsCYG.png')\n",
        "plot(log.light ~ log.Te,xlim=rev(range(log.Te)+c(-0.1,0.1)),ylim = c(3.5,6.5), pch=20, col = \"red3\", xaxs=\"i\",yaxs=\"i\",\n",
        "     main=\"Hertzsprung-Russell Diagram Data\",xlab=\"SURFICE TEMPERATURE\", ylab=\"LUMINIOUS OUTPUT\")\n",
        "#dev.off()"
      ],
      "metadata": {
        "id": "FxX6cG7zPJ_Y"
      },
      "execution_count": null,
      "outputs": []
    },
    {
      "cell_type": "code",
      "source": [
        "# Simple linear regression by OLS \n",
        "# Let's take Luminosity as a response variable\n",
        "\n",
        "OLS_stars <-(lm(log.light ~ log.Te,data=starsCYG))\n",
        "summary(OLS_stars)\n",
        "summary(influence.measures(OLS_stars))\n",
        "out_index<-as.numeric(row.names(summary(influence.measures(OLS_stars))))\n",
        "out_index\n"
      ],
      "metadata": {
        "id": "wPr44SnoPJat"
      },
      "execution_count": null,
      "outputs": []
    },
    {
      "cell_type": "code",
      "source": [
        "round(sort(hatvalues(OLS_stars),decreasing = T)[1:10],4)\n",
        "dim(starsCYG)\n",
        "r = sum(hatvalues(OLS_stars)) # == 2 no. of regress. coefficients\n",
        "n = 47\n",
        "sum(hatvalues(OLS_stars) > 3*r/n)\n",
        "starsCYG[hatvalues(OLS_stars) > 3*r/n,]"
      ],
      "metadata": {
        "id": "vjkXHulWPHuK"
      },
      "execution_count": null,
      "outputs": []
    },
    {
      "cell_type": "code",
      "source": [
        "round(sort(dffits(OLS_stars),decreasing = T)[1:10],4)\n",
        "starsCYG[abs(dffits(OLS_stars)) > 3*sqrt(r/(n-r)),]"
      ],
      "metadata": {
        "id": "_di6XWmxPHIV"
      },
      "execution_count": null,
      "outputs": []
    },
    {
      "cell_type": "code",
      "source": [
        "options(repr.plot.width=18, repr.plot.height=14)\n",
        "op <- par(mfrow=c(2,3))\n",
        "plot(OLS_stars,which=1)\n",
        "plot(OLS_stars,which=2)\n",
        "plot(OLS_stars,which=3)\n",
        "plot(OLS_stars,which=4)\n",
        "plot(OLS_stars,which=5)\n",
        "plot(OLS_stars,which=6)\n",
        "par(op)\n",
        "\n"
      ],
      "metadata": {
        "id": "Xu_8TfdMPG1F"
      },
      "execution_count": null,
      "outputs": []
    },
    {
      "cell_type": "code",
      "source": [
        "plot(log.light ~ log.Te,xlim=rev(range(log.Te)+c(-0.1,0.1)),ylim = c(3.5,6.5), pch=20, col = \"red3\", xaxs=\"i\",yaxs=\"i\",\n",
        "     main=\"Hertzsprung-Russell Diagram Data\",xlab=\"SURFICE TEMPERATURE\", ylab=\"LUMINIOUS OUTPUT\")\n",
        "abline(OLS_stars)\n",
        "points(log.Te[out_index],log.light[out_index],pch = 22, col = \"blue\", lwd =2)"
      ],
      "metadata": {
        "id": "r2Pzocv2PGT7"
      },
      "execution_count": null,
      "outputs": []
    },
    {
      "cell_type": "code",
      "source": [
        "c(1:length(log.Te))[log.Te<3.7]\n",
        "sort(OLS_stars$residuals)\n",
        "out_index2 <- c(1:length(log.Te))[log.Te<3.9]\n"
      ],
      "metadata": {
        "id": "XKnqmn2XPGIa"
      },
      "execution_count": null,
      "outputs": []
    },
    {
      "cell_type": "code",
      "source": [
        "OLS_stars2 <- lm(log.light[-out_index] ~ log.Te[-out_index])\n",
        "opar<-par(mfrow = c(2,2))\n",
        "plot(OLS_stars2)\n",
        "par(opar)\n",
        "summary(OLS_stars2)\n"
      ],
      "metadata": {
        "id": "_z3elo1XPF2t"
      },
      "execution_count": null,
      "outputs": []
    },
    {
      "cell_type": "code",
      "source": [
        "\n",
        "OLS_stars3 <- lm(log.light[-out_index2] ~ log.Te[-out_index2])\n",
        "opar<-par(mfrow = c(2,2))\n",
        "plot(OLS_stars3)\n",
        "par(opar)\n",
        "summary(OLS_stars3)\n"
      ],
      "metadata": {
        "id": "u2u_LLVFPFih"
      },
      "execution_count": null,
      "outputs": []
    },
    {
      "cell_type": "code",
      "source": [
        "\n",
        "plot(log.light ~ log.Te,xlim=rev(range(log.Te)+c(-0.1,0.1)),ylim = c(3.5,6.5), pch=20, col = \"red3\", xaxs=\"i\",yaxs=\"i\",\n",
        "     main=\"Hertzsprung-Russell Diagram Data\",xlab=\"SURFICE TEMPERATURE\", ylab=\"LUMINIOUS OUTPUT\")\n",
        "points(log.Te[log.Te<3.7],log.light[log.Te<3.7],pch = 22, col = \"blue\", lwd =2)\n",
        "points(log.Te[7],log.light[7],pch = 22, col = \"cyan\", lwd =2)\n",
        "abline(OLS_stars2, col =\"blue\")\n",
        "abline(OLS_stars3,col =\"cyan\")\n",
        "legend(\"bottomright\",cex=0.7,legend = c(\"OLS without 4pts\",\"OLS without 5pts\"),\n",
        "       lty = c(1,1),col = c(\"blue\",\"cyan\"))\n",
        "\n"
      ],
      "metadata": {
        "id": "0duFUiHSPFMS"
      },
      "execution_count": null,
      "outputs": []
    },
    {
      "cell_type": "markdown",
      "source": [
        "##  Direct Robust approach\n",
        "\n",
        "Robust regression by M-estimator\n",
        " `rlm(formula, data,..., method = c(\"M\",\"MM\"))` \n",
        " * M estimate with diferent types of weight functions psi (derivative of rho) \n",
        " * MM estimate - S estimate + M estimate \n",
        "\n",
        "\n",
        "See Definitions of Psi-Functions Available in Robustbase\n",
        "on https://cran.r-project.org/web/packages/robustbase/index.html\n"
      ],
      "metadata": {
        "id": "ofbVrX5LUvtt"
      }
    },
    {
      "cell_type": "code",
      "source": [
        "# Huber family of functions using tuning parameter k = 1.345.\n",
        "names(.Mpsi.tuning.defaults)\n",
        "plot(huberPsi, ylim=c(-1.4, 5), leg.loc=\"topright\",cex=0.8)\n"
      ],
      "metadata": {
        "id": "TNyTEVe2PC5V"
      },
      "execution_count": null,
      "outputs": []
    },
    {
      "cell_type": "code",
      "source": [
        "# Bisquare family functions using tuning parameter k = 4.685\n",
        "x = seq(-5,5,by=0.01)\n",
        "source(system.file(\"xtraR/plot-psiFun.R\", package = \"robustbase\", mustWork=TRUE))\n",
        "p.psiFun( x, \"biweight\", par = 4.685)\n"
      ],
      "metadata": {
        "id": "FybRW9xrPCm3"
      },
      "execution_count": null,
      "outputs": []
    },
    {
      "cell_type": "code",
      "source": [
        "# GGW (Generalized Gauss-Weight function )family of functions \n",
        "# using tuning parameters a = 1.387, b = 1.5 and c = 1.063.\n",
        "p.psiFun(x, \"GGW\", par = c(-.5, 1, .95, NA))\n"
      ],
      "metadata": {
        "id": "Hiiy4IVxVo7Z"
      },
      "execution_count": null,
      "outputs": []
    },
    {
      "cell_type": "code",
      "source": [
        "# rlm from MASS\n",
        "# Summary plot for starsCYG\n",
        "M_huber_stars    <- rlm(log.light ~ log.Te, method=\"M\", psi = psi.huber)    # Huber\n",
        "M_hampel_stars   <- rlm(log.light ~ log.Te, method=\"M\", psi = psi.hampel)   # Hampel\n",
        "M_bisquare_stars <- rlm(log.light ~ log.Te, method=\"M\", psi = psi.bisquare) # Tukey\n",
        "MM_bisquare_stars<- rlm(log.light ~ log.Te, method=\"MM\",psi = psi.bisquare) # Tukey\n",
        "MM_ggw_stars     <- rlm(log.light ~ log.Te, method=\"MM\",psi = psi.ggw)      # GGW\n",
        "plot(starsCYG,main=\"Hertzsprung-Russell Diagram Data\",xlab=\"SURFICE TEMPERATURE\", ylab=\"LUMINIOUS OUTPUT\")\n",
        "abline(M_huber_stars, col=\"coral\",lwd=1.8)\n",
        "abline(M_hampel_stars, col=\"blue\")\n",
        "abline(M_bisquare_stars, col=\"cyan\")\n",
        "abline(MM_bisquare_stars, col=\"firebrick\", lwd = 2)\n",
        "abline(MM_ggw_stars, col=\"green\")\n",
        "legend(\"bottomleft\",cex=0.7,legend = c(\"M Huber\",\"M Hampel\",\"M Tukey\",\"MM Tukey\",\"MM GGW\"),\n",
        "       lty = c(1,1,1,1,1),col = c(\"coral\",\"blue\",\"cyan\",\"firebrick\",\"green\"))\n",
        "\n"
      ],
      "metadata": {
        "id": "Zyi2sB8rPB4u"
      },
      "execution_count": null,
      "outputs": []
    },
    {
      "cell_type": "code",
      "source": [
        "coef(summary(M_huber_stars))\n",
        "coef(summary(M_hampel_stars))\n",
        "coef(summary(M_bisquare_stars))\n",
        "coef(summary(MM_bisquare_stars))\n",
        "coef(summary(MM_ggw_stars))\n",
        "\n",
        "summary(M_huber_stars)\n",
        "\n",
        "# alternative to MM from rlm is lmrob from robustbase package\n",
        "# lmrob computes fast MM-type estimator\n",
        "# ? mlrob - MM-type Estimators for Linear Regression\n",
        "# ? nlrob - Robust Fitting of Nonlinear Regression Models\n"
      ],
      "metadata": {
        "id": "vIm_4vl4PBZL"
      },
      "execution_count": null,
      "outputs": []
    },
    {
      "cell_type": "code",
      "source": [
        "MM_stars2 <- lmrob(log.light ~ log.Te, init = \"S\")\n",
        "MM_stars2$coefficients\n",
        "summary(MM_stars2)\n",
        "coef(summary(MM_stars2))\n",
        "\n",
        "# Least Absolute Residuals / L1 Regression\n",
        "# LAR_stars2 <- lmrob.lar(log.Te,log.light)\n",
        "# LAR_stars2$coefficients"
      ],
      "metadata": {
        "id": "AgwzuUfpPAgn"
      },
      "execution_count": null,
      "outputs": []
    },
    {
      "cell_type": "code",
      "source": [],
      "metadata": {
        "id": "8eipjWC-V8kw"
      },
      "execution_count": null,
      "outputs": []
    },
    {
      "cell_type": "markdown",
      "source": [
        "All of the previous estimators are not high breakdown point. First high breakdown point estimators are LMS and LTS:\n",
        "https://web.ipac.caltech.edu/staff/fmasci/home/astro_refs/LeastMedianOfSquares.pdf"
      ],
      "metadata": {
        "id": "pF3AgVTGV9WB"
      }
    },
    {
      "cell_type": "code",
      "source": [
        "# Robust regression by LMS-estimator\n",
        "LMS_stars  <- lmsreg(log.light ~ log.Te)\n",
        "LMS_stars\n",
        "\n"
      ],
      "metadata": {
        "id": "k889iiOyO_vY"
      },
      "execution_count": null,
      "outputs": []
    },
    {
      "cell_type": "markdown",
      "source": [
        "The objective function for TLS is\n",
        "$$ S(\\beta )=\\sum _{j=1}^{h}r_{(j)}(\\beta )^{2} $$\n",
        "where for fixed $\\beta$, $r_{(j)}(\\beta )$ denotes the $i$th ordered absolute values of the residual. \n",
        "\n",
        "\n",
        "$$ \\beta^{(TLS,h)} = argmin_{\\beta}  \\sum_{j=1}^{h}r_{(j)}(\\beta )^{2} $$"
      ],
      "metadata": {
        "id": "Wk--45w0P4rn"
      }
    },
    {
      "cell_type": "code",
      "source": [],
      "metadata": {
        "id": "cDoHFpXAQE7p"
      },
      "execution_count": null,
      "outputs": []
    },
    {
      "cell_type": "code",
      "source": [
        "# Robust regression by LTS-estimator\n",
        "# two possibilities - ltsreg from MASS (lqs(formula, data, ..., method = c(\"lts\")))\n",
        "#                   - ltsReg from robustbase\n",
        "?ltsreg\n",
        "?ltsReg\n"
      ],
      "metadata": {
        "id": "11xTwhKbO_cb"
      },
      "execution_count": null,
      "outputs": []
    },
    {
      "cell_type": "code",
      "source": [
        "LTS_stars  <- ltsreg(log.light ~ log.Te)\n",
        "\n",
        "LTS_stars  <- ltsReg(log.light ~ log.Te, alpha=0.9)\n",
        "# when stop the algorithm?\n",
        "LTS_stars  <- ltsReg(log.light ~ log.Te, alpha=0.5, nsamp=\"best\")\n",
        "LTS_stars  <- ltsReg(log.light ~ log.Te, alpha=0.5, nsamp=\"best\")\n",
        "LTS_stars  <- ltsReg(log.light ~ log.Te, alpha=0.5, nsamp=\"exact\")\n",
        "\n",
        "\n"
      ],
      "metadata": {
        "id": "WBO6SECbO9qn"
      },
      "execution_count": null,
      "outputs": []
    },
    {
      "cell_type": "code",
      "source": [
        "# Summary plot for starsCYG\n",
        "OLS_stars  <- lm(log.light ~ log.Te)\n",
        "MM_stars   <- rlm(log.light ~ log.Te,method=\"MM\")\n",
        "LTS_stars  <- ltsreg(log.light ~ log.Te)\n",
        "LTS2_stars <- ltsReg(log.light ~ log.Te, alpha=0.9)\n",
        "LMS_stars  <- lmsreg(log.light ~ log.Te)\n",
        "plot(starsCYG,main=\"Hertzsprung-Russell Diagram Data\",xlab=\"SURFICE TEMPERATURE\", ylab=\"LUMINIOUS OUTPUT\")\n",
        "abline(OLS_stars, col=\"black\")\n",
        "abline(MM_stars, col=\"blue\")\n",
        "abline(LTS_stars, col=\"red\")\n",
        "abline(LTS2_stars, col=\"darkred\")\n",
        "abline(LMS_stars, col=\"green\")\n",
        "legend(\"bottomleft\",cex=0.7,legend = c(\"OLS\",\"MM\",\"LTS, h=0.5\",\"LTS h=0.9\",\"LMS\"),\n",
        "         lty = c(1,1,1,1,1),col = c(\"black\",\"blue\",\"red\",\"darkred\",\"green\"))"
      ],
      "metadata": {
        "id": "VR2ZWuqCO7ZI"
      },
      "execution_count": null,
      "outputs": []
    },
    {
      "cell_type": "markdown",
      "source": [
        "### Summary \n",
        "\n",
        "Robust Location and Scatter Estimation via  Minimum Covariance Determinant\n",
        "https://arxiv.org/pdf/1709.07045.pdf\n",
        "`mcd_0.5  <- covMcd(starsCYG)`\n",
        "\n",
        "`mcd_0.75 <-  covMcd(starsCYG, alpha = 0.75)`\n",
        "\n",
        "GM-estimation\n",
        "  * MASS: rlm() with method=''M'' (Huber, Tukey, Hampel), Choice for the scale estimator: MAD, Huber Proposal 2\n",
        "\n",
        "S-estimation\n",
        "  * robust: lmRob with estim=''Initial''\n",
        "  * robustbase: lmrob.S\n",
        "\n",
        "MM-estimation\n",
        "  * MASS: rlm() with method=''MM''\n",
        "  * robust: lmRob (with estim='''Final'', default)\n",
        "  * robustbase: lmrob()\n"
      ],
      "metadata": {
        "id": "z7wvtc1nXcK4"
      }
    },
    {
      "cell_type": "code",
      "source": [
        "\n",
        "\n"
      ],
      "metadata": {
        "id": "F5Y-6fcAO59q"
      },
      "execution_count": null,
      "outputs": []
    },
    {
      "cell_type": "code",
      "source": [
        "# Problems with general position\n",
        "data(exAM)\n",
        "? exAM\n",
        "summary(exAM)\n"
      ],
      "metadata": {
        "id": "JWLW7nwRO4WJ"
      },
      "execution_count": null,
      "outputs": []
    },
    {
      "cell_type": "code",
      "source": [
        "#Because the points are not in general position, both LMS and LTS typically fail\n",
        "summary(lm1   <- lm(y ~ x, data=exAM))\n",
        "summary(rlm0  <- rlm(y ~ x, data=exAM,method=\"MM\"))\n",
        "summary(rlm1  <- ltsReg(y ~ x, data=exAM))\n",
        "summary(rlm1b <- ltsReg(y ~ x, alpha = 0.9,data=exAM))\n",
        "summary(rlm2  <- lmsreg(y ~ x, data=exAM))\n"
      ],
      "metadata": {
        "id": "YUSIYz2dO3vC"
      },
      "execution_count": null,
      "outputs": []
    },
    {
      "cell_type": "code",
      "source": [
        "plot(exAM,main=\"Antille and May artificial data set\")\n",
        "abline(lm1, col=\"black\")\n",
        "abline(rlm0, col=\"blue\")\n",
        "abline(rlm1, col=\"red\")\n",
        "abline(rlm1b, col=\"darkred\")\n",
        "abline(rlm2, col=\"green\")\n",
        "legend(\"topright\",cex=0.7,legend = c(\"OLS\",\"MM\",\"LTS, h=0.5\",\"LTS h=0.9\",\"LMS\"),\n",
        "       lty = c(1,1,1,1,1),col = c(\"black\",\"blue\",\"red\",\"darkred\",\"green\"))\n",
        "\n"
      ],
      "metadata": {
        "id": "4gZOS-sjO3F7"
      },
      "execution_count": null,
      "outputs": []
    },
    {
      "cell_type": "code",
      "source": [
        "# THE PROBLEM IS HOW LARGE h (alpha) WE SHOULD SELECT FOR LTS\n",
        "# for example in Stars data - nearly now change\n",
        "# How trimmed parameter h (alpha) change the estimation?\n",
        "LTS_stars09 <- ltsReg(log.light ~ log.Te, alpha=0.9)\n",
        "LTS_stars08 <- ltsReg(log.light ~ log.Te, alpha=0.8,nsamp=\"exact\",adjust=F,mcd = F)\n",
        "LTS_stars07 <- ltsReg(log.light ~ log.Te, alpha=0.7)\n",
        "LTS_stars06 <- ltsReg(log.light ~ log.Te, alpha=0.6)\n",
        "LTS_stars05 <- ltsReg(log.light ~ log.Te, alpha=0.5,nsamp=\"exact\",adjust=F,mcd = F)\n",
        "plot(starsCYG,main=\"Hertzsprung-Russell Diagram Data\",xlab=\"SURFICE TEMPERATURE\", ylab=\"LUMINIOUS OUTPUT\")\n",
        "abline(LTS_stars09, col=\"black\", lwd = 2)\n",
        "abline(LTS_stars08, col=\"blue\", lwd = 7)\n",
        "abline(LTS_stars07, col=\"red\", lwd = 5)\n",
        "abline(LTS_stars06, col=\"darkred\", lwd = 3)\n",
        "abline(LTS_stars05, col=\"green\", lwd = 1)\n",
        "legend(\"bottomleft\",cex=0.7,legend = c(\"LTS h=0.9\",\"LTS h=0.8\",\"LTS h=0.7\",\"LTS h=0.6\",\"LTS h=0.5\"),\n",
        "       lty = c(1,1,1,1,1),col = c(\"black\",\"blue\",\"red\",\"darkred\",\"green\"))\n"
      ],
      "metadata": {
        "id": "pUQV1pNTO2fY"
      },
      "execution_count": null,
      "outputs": []
    },
    {
      "cell_type": "code",
      "source": [
        "summary(LTS_stars05)\n",
        "summary(LTS_stars08)\n"
      ],
      "metadata": {
        "id": "Ev2tOp2VO16g"
      },
      "execution_count": null,
      "outputs": []
    },
    {
      "cell_type": "code",
      "source": [
        "\n",
        "# Let's check outputs\n",
        "LTS_stars05$quan\n",
        "LTS_stars08$quan\n",
        "\n",
        "LTS_stars05$crit\n",
        "LTS_stars08$crit\n"
      ],
      "metadata": {
        "id": "S6mOArJHO1qc"
      },
      "execution_count": null,
      "outputs": []
    },
    {
      "cell_type": "code",
      "source": [
        "\n",
        "# But coefficents are same :(\n",
        "LTS_stars05$coefficients\n",
        "LTS_stars08$coefficients\n"
      ],
      "metadata": {
        "id": "u7Gow0JWO1Dd"
      },
      "execution_count": null,
      "outputs": []
    },
    {
      "cell_type": "code",
      "source": [
        "\n",
        "# h points with smallest resids\n",
        "LTS_stars05$best\n",
        "LTS_stars08$best\n"
      ],
      "metadata": {
        "id": "3tBQcqc8O0wU"
      },
      "execution_count": null,
      "outputs": []
    },
    {
      "cell_type": "code",
      "source": [
        "\n",
        "# Apply ordinary LS to h best (selected) points\n",
        "LTS_stars05OLS <- lm(log.light ~ log.Te, data=starsCYG[LTS_stars05$best,])\n",
        "LTS_stars06OLS <- lm(log.light ~ log.Te, data=starsCYG[LTS_stars06$best,])\n",
        "LTS_stars07OLS <- lm(log.light ~ log.Te, data=starsCYG[LTS_stars07$best,])\n",
        "LTS_stars08OLS <- lm(log.light ~ log.Te, data=starsCYG[LTS_stars08$best,])\n",
        "LTS_stars09OLS <- lm(log.light ~ log.Te, data=starsCYG[LTS_stars09$best,])\n"
      ],
      "metadata": {
        "id": "DtR11-3OO0Sw"
      },
      "execution_count": null,
      "outputs": []
    },
    {
      "cell_type": "code",
      "source": [
        "\n",
        "# commpare\n",
        "summary(LTS_stars05OLS)\n",
        "summary(LTS_stars08OLS)\n"
      ],
      "metadata": {
        "id": "a-oezzdvOz9d"
      },
      "execution_count": null,
      "outputs": []
    },
    {
      "cell_type": "code",
      "source": [
        "\n",
        "plot(starsCYG,main=\"Hertzsprung-Russell Diagram Data\",xlab=\"SURFICE TEMPERATURE\", ylab=\"LUMINIOUS OUTPUT\")\n",
        "abline(LTS_stars09OLS, col=\"black\", lwd = 2)\n",
        "abline(LTS_stars08OLS, col=\"blue\", lwd = 2)\n",
        "abline(LTS_stars07OLS, col=\"red\", lwd = 2)\n",
        "abline(LTS_stars06OLS, col=\"darkred\", lwd = 2)\n",
        "abline(LTS_stars05OLS, col=\"green\", lwd = 2)\n",
        "legend(\"bottomleft\",cex=0.7,legend = c(\"LTS h=0.9\",\"LTS h=0.8\",\"LTS h=0.7\",\"LTS h=0.6\",\"LTS h=0.5\"),\n",
        "       lty = c(1,1,1,1,1),col = c(\"black\",\"blue\",\"red\",\"darkred\",\"green\"))\n",
        "\n",
        "\n",
        "\n"
      ],
      "metadata": {
        "id": "9DgJNeM6OzpH"
      },
      "execution_count": null,
      "outputs": []
    },
    {
      "cell_type": "code",
      "source": [
        "\n",
        "ggplot(data=starsCYG, aes(log.Te, log.light)) +                    # use starsCYGdata frame\n",
        "  geom_point() +                                                  \n",
        "  geom_smooth(method=\"lm\", aes(colour=\"OLS\"), se=F) +          \n",
        "  geom_smooth(method=\"rlm\", aes(colour=\"M\"), se=T) +          \n",
        "  stat_smooth(method=function(formula,data,weights=weight) rlm(formula,\n",
        "                                                               data,\n",
        "                                                               weights=weight,\n",
        "                                                               method=\"MM\",\n",
        "                                                               psi=psi.bisquare),\n",
        "              fullrange=TRUE,aes(colour=\"MM bisquare\"))+\n",
        "  labs(colour=NULL)  \n",
        "\n",
        "\n",
        "\n",
        "# Nacteme si funkce potrebne pro vypocet LWS\n"
      ],
      "metadata": {
        "id": "cY5bztgGOyvA"
      },
      "execution_count": null,
      "outputs": []
    },
    {
      "cell_type": "code",
      "source": [
        "\n",
        "# Nagenerujeme si data \n",
        "n=100\n",
        "p=3\n",
        "beta0 <- matrix(c(2,3,-4),p,1)\n"
      ],
      "metadata": {
        "id": "yCz_7QWgZBiR"
      },
      "execution_count": null,
      "outputs": []
    },
    {
      "cell_type": "code",
      "source": [
        "\n",
        "set.seed(123)\n",
        "X1 <- rep(1,times=n)\n",
        "X2 <- rnorm(n,10,2)\n",
        "X3 <- rexp(n,1/5)\n",
        "X  <- cbind(X1, X2, X3)\n",
        "e  <- rnorm(n,0,1)\n",
        "Y  <- X%*%beta0 + e\n"
      ],
      "metadata": {
        "id": "10YoW1ipOBWW"
      },
      "execution_count": null,
      "outputs": []
    },
    {
      "cell_type": "code",
      "source": [
        "\n",
        "# Vytvorime 5% outlieru\n",
        "Yoi    = sample(n)[1:ceiling(n/20)]\n",
        "Y[Yoi] = 5*Y[Yoi]\n"
      ],
      "metadata": {
        "id": "rW6BrVVYOA1W"
      },
      "execution_count": null,
      "outputs": []
    },
    {
      "cell_type": "code",
      "source": [
        "\n",
        "# Vytvorime 5% Leverage pointu\n",
        "Xoi     = sample(n)[1:ceiling(n/20)]\n",
        "X[Xoi,2:p]  = 0.2*X[Xoi,2:p]  \n",
        "\n"
      ],
      "metadata": {
        "id": "I1AAR9tcOAlp"
      },
      "execution_count": null,
      "outputs": []
    },
    {
      "cell_type": "code",
      "source": [],
      "metadata": {
        "id": "VuDXK1dAZGeg"
      },
      "execution_count": null,
      "outputs": []
    },
    {
      "cell_type": "code",
      "source": [
        "LWS <- function(y, x, w, niter){\n",
        "    \n",
        "    n <- nrow(x)\n",
        "    p <- ncol(x)\n",
        "    \n",
        "   rWr_LWS=Inf;\n",
        "   # iterations = rep(0,times=n);\n",
        "   # Outer Cycle\n",
        "   for(i in 1:niter) {\n",
        "   # Performing one iteration in the outer cycle\n",
        "   #    [b_OneIter,S_OneIter,rWr_OneIter,perm_OneIter,iterations_OneIter]=OneIter(X,Z,Y,w);\n",
        "   OneIter = LWS_OneIter(y,x,w)  \n",
        "   \n",
        "    if (rWr_LWS > OneIter$rWr){\n",
        "    b_LWS      =  OneIter$b\n",
        "    rWr_LWS    =  OneIter$rWr\n",
        "    perm_LWS   =  OneIter$perm\n",
        "    }\n",
        "   }\n",
        "    \n",
        "    result <- list(beta=b_LWS, resid = rWr_LWS, rank=perm_LWS)\n",
        "    return(result)\n",
        "}\n",
        "\n",
        "LWS2 <- function(y, x, hp, gp, niter){\n",
        "  n <- nrow(x)\n",
        "  p <- ncol(x)\n",
        "  w <- Weights2(n,hp,gp)\n",
        "    \n",
        "  rWr_LWS=Inf;\n",
        "  # iterations = rep(0,times=n);\n",
        "  # Outer Cycle\n",
        "  for(i in 1:niter) {\n",
        "    # Performing one iteration in the outer cycle\n",
        "    #    [b_OneIter,S_OneIter,rWr_OneIter,perm_OneIter,iterations_OneIter]=OneIter(X,Z,Y,w);\n",
        "    OneIter = LWS_OneIter(y,x,w)  \n",
        "    if (rWr_LWS > OneIter$rWr){\n",
        "      b_LWS      =  OneIter$b\n",
        "      rWr_LWS    =  OneIter$rWr\n",
        "      perm_LWS   =  OneIter$perm\n",
        "      }\n",
        "  }\n",
        "    \n",
        "  result <- list(beta=b_LWS, resid = rWr_LWS, rank=perm_LWS)\n",
        "  return(result)\n",
        "}\n",
        "\n",
        "LWS_OneIter = function(Y, X, w){\n",
        "    n <- nrow(X)\n",
        "    p <- ncol(X)\n",
        "    W <- diag(w);\n",
        "    tau         <- 0.00001;\n",
        "    rWr_OneIter <- Inf;\n",
        "    b_OneIter   <- matrix( rep(0,times=p),p,1);\n",
        "\n",
        "    # Select the initial values\n",
        "    index  = sample(n)\n",
        "    SX     = X[(index[1:p+2]),]\n",
        "    SY     = Y[index[1:p+2]]\n",
        "    while(kappa(SX) > 1e9 ){\n",
        "        index  = sample(n)\n",
        "        SX     = X[(index[1:(p+5)]),]\n",
        "        SY     = Y[index[1:(p+5)]]\n",
        "    }\n",
        "    #print(kappa(SX))\n",
        "    b = OLS_qr(SY,SX) \n",
        "\n",
        "    # Run the inner cycle\n",
        "    while (sum(abs(b_OneIter - b) < tau) != p){\n",
        "          #  rWr_OneIter > rWr && sum(abs(b_OneIter - b) < tau) ~= p;\n",
        "          b_OneIter     = b\n",
        "\n",
        "          r      = (Y-X%*%b)^2\n",
        "          rI     = order(r)\n",
        "          sX     = X[rI,]\n",
        "          sY     = Y[rI,]  \n",
        "          \n",
        "          swX    = (sqrt(w)*sX)[which(w != 0),]\n",
        "          swY    = (sqrt(w)*sY)[which(w != 0)]\n",
        "          b      = OLS_qr(swY,swX) \n",
        "    }\n",
        "    b_OneIter      = b\n",
        "    r_OneIter      = (Y-X%*%b_OneIter)^2\n",
        "    perm_OneIter   = order(r_OneIter)\n",
        "    rWr_OneIter    = (r_OneIter[perm_OneIter]^2)%*%w   \n",
        "    # S      = t((sY-sX%*%b)^2)%*%w\n",
        "    result_OneIter <- list(b=b_OneIter, rWr = rWr_OneIter, perm=perm_OneIter)\n",
        "    return(result_OneIter)\n",
        "} \n",
        "\n",
        "\n",
        "OLS_qr = function(y, x, tol=1.e-07 ){\n",
        "    qr_x <- qr(x, tol=tol, LAPACK=TRUE)\n",
        "    b<-qr.coef(qr_x, y)\n",
        "    return(b)\n",
        "} \n",
        "\n",
        "OLS_lm <- function (y, x){\n",
        "    b<-coef(lm(y ~ x - 1))\n",
        "    return(b)\n",
        "} \n",
        "\n",
        "OLS_def <- function (y, x) {\n",
        "    b <- as.vector((solve(t(x)%*%x))%*%(t(x)%*%y))\n",
        "    return(b)\n",
        "} \n",
        "\n",
        "Weights1 <- function(n){\n",
        "      # Generating weights\n",
        "      # h      - number of trimmed observations (observations with zero weights)\n",
        "      # g      - number of observations with weights equal to 1\n",
        "      # h-g-1  - number of observations with rapidly decreasing weights\n",
        "  h <- ceiling(0.9*n)\n",
        "  g <- ceiling(0.8*n)\n",
        "  w <- rep(0,times=n)\n",
        "  w[1:g] <- 1\n",
        "  w[g:h] <- seq(1,0,length=h-g+1)\n",
        "  return(w)\n",
        "}\n",
        "\n",
        "Weights2 <- function(n,hp,gp){\n",
        "      # Generating weights\n",
        "      # h      - number of trimmed observations (observations with zero weights)\n",
        "      # g      - number of observations with weights equal to 1\n",
        "      # h-g-1  - number of observations with rapidly decreasing weights\n",
        "  h <- ceiling(hp*n)\n",
        "  g <- ceiling(gp*n)\n",
        "  w <- rep(0,times=n)\n",
        "  w[1:g] <- seq(1,0.9,length=g)\n",
        "  w[g:h] <- seq(0.9,0,length=h-g+1)\n",
        "  return(w)\n",
        "}"
      ],
      "metadata": {
        "id": "Tc9fMWN1NjgF"
      },
      "execution_count": null,
      "outputs": []
    },
    {
      "cell_type": "code",
      "source": [
        "w = Weights1(n)\n",
        "OLS_qr(Y,X)\n",
        "LWS(Y,X,w,100)$beta\n",
        "summary(ltsReg(Y ~ X2+X3, alpha=0.9))$coeff\n",
        "\n"
      ],
      "metadata": {
        "id": "ZXD-lBnMOACR"
      },
      "execution_count": null,
      "outputs": []
    },
    {
      "cell_type": "code",
      "source": [
        "\n",
        "#Use Hertzsprung-Russell Diagram Data of Star Cluster CYG OB1\n",
        "? starsCYG\n",
        "summary(starsCYG)\n",
        "attach(starsCYG)\n"
      ],
      "metadata": {
        "id": "XSnpP2rxN_sn"
      },
      "execution_count": null,
      "outputs": []
    },
    {
      "cell_type": "code",
      "source": [
        "\n",
        "w_star       <- Weights1(nrow(starsCYG))\n",
        "YY = as.matrix(log.light)\n",
        "XX = cbind(rep(1,times=nrow(YY)), log.Te)\n",
        "LWS_stars_lm <- LWS(YY, XX, w_star, 1000)\n",
        "LTS_stars    <- ltsReg(log.light ~ log.Te, alpha=0.9)\n",
        "OLS_stars    <- lm(log.light ~ log.Te)\n"
      ],
      "metadata": {
        "id": "XVZZerPgN_dt"
      },
      "execution_count": null,
      "outputs": []
    },
    {
      "cell_type": "code",
      "source": [
        "\n",
        "plot(starsCYG,main=\"Hertzsprung-Russell Diagram Data\",xlab=\"SURFICE TEMPERATURE\", ylab=\"LUMINIOUS OUTPUT\")\n",
        "abline(OLS_stars, col=\"black\")\n",
        "abline(LWS_stars_lm$beta, col=\"blueviolet\")\n",
        "abline(LTS_stars, col=\"red\")\n",
        "legend(\"bottomleft\",cex=0.7,legend = c(\"OLS\",\"LTS, h=0.9\",\"LWS h=0.9\"),\n",
        "       lty = c(1,1,1),col = c(\"black\",\"blueviolet\",\"red\"))\n",
        "\n"
      ],
      "metadata": {
        "id": "b3i0N1WHN_Eq"
      },
      "execution_count": null,
      "outputs": []
    },
    {
      "cell_type": "code",
      "source": [
        "\n",
        "#POZN: Pokud muzete vyvarujte se pocitani LS pomoci primeho vypoctu inverzi matice z X'T !!!\n",
        "#      Pouzivejte NUMERICKY robustnejsi pristupy.\n",
        "\n",
        "##################\n",
        "# Task 01:\n",
        "###################\n",
        "#1)\n",
        "# Vyzkousejte si LWS na datech z minule hodiny, \n",
        "# porovnejte vysledky s dalsimi metodami, zkuste zmenit vstupni parametry\n",
        "\n",
        "\n",
        "#2)\n",
        "# Vytvorte funkci generujici vahy pro LWS Weights2  tak, \n",
        "#  aby pro prvnich g pozorovani klesala konstannte tak, ze na celkovem intervalu (0,g) klesne o 0.1 \n",
        "#  aby na inervalu (g,h) klesla z 0.9 na 0\n",
        "#  aby pro (n-h) pozorovani byla rovna 0 (nulova na intervalu (h,n))\n",
        "#  g a h byly vstupni parametry\n",
        "\n",
        "# Provedte experiment, kde otestujete konzistenci odhadu regresnich parametru pomoci metody LWS\n",
        "# Pro pocet pozorovani 50,100,200,300,400,500 nagenerujte data, kde regresni matice X bude mit\n",
        "#  1. sloupec intercept\n",
        "#  2. sloupec pozorovani z binomickeho rozdeleni s parametry k=10, p = 0.3 posunute o +1\n",
        "#  3. sloupec pozorovani z normalniho rozdeleni N(10,2)\n",
        "#  4. sloupec pozorovani z normalniho rozdeleni N(20,3)\n",
        "#  5. sloupec pozorovani z exponencialniho rozdeleni se stredni hodnotou 8 \n",
        "# vektor beta0 volte napriklad beta0=c(2,3,-2,2,3)\n",
        "\n",
        "# Pro dany pocet pozorovani si 1000 vygenerujte nova data, pro ne spoctete odhad pomoci OLS, LWS a LTS\n",
        "# Pro kazdy odhad parametru spoctete empiricky median z SE (popripade MSE)\n",
        "# vykreslete zavislost medianu (popripade eMSE) na poctu pozorovani pro vsechny 3 odhady\n",
        "\n",
        "#  Experiment opakujte s 0%, 5% a 10% odlehlych pozorovani, ktera muzete vytvorit podle sveho uvazeni \n",
        "########################\n"
      ],
      "metadata": {
        "id": "ajFND2HsN9-1"
      },
      "execution_count": null,
      "outputs": []
    },
    {
      "cell_type": "code",
      "source": [],
      "metadata": {
        "id": "02z1ien9NixC"
      },
      "execution_count": null,
      "outputs": []
    },
    {
      "cell_type": "code",
      "source": [
        "\n",
        "#########################\n",
        "# Ukazka reseni Ukolu 01\n",
        "ni    = c(50,100,200,300,400,500,1000)\n",
        "nrep  = 50\n",
        "niter = 100\n"
      ],
      "metadata": {
        "id": "0CG1QTYJNGFv"
      },
      "execution_count": null,
      "outputs": []
    },
    {
      "cell_type": "code",
      "source": [
        "\n",
        "p=5\n",
        "beta0 = matrix(c(2,3,-2,2,3),5,1) \n"
      ],
      "metadata": {
        "id": "DRRNESUPNE17"
      },
      "execution_count": null,
      "outputs": []
    },
    {
      "cell_type": "code",
      "source": [
        "\n",
        "betaMSE_OLS <- matrix(NA,length(ni),p)    \n",
        "betaMSE_LWS <- matrix(NA,length(ni),p) \n",
        "betaMSE_LTS <- matrix(NA,length(ni),p) \n"
      ],
      "metadata": {
        "id": "_psIP_QTNEei"
      },
      "execution_count": null,
      "outputs": []
    },
    {
      "cell_type": "code",
      "source": [
        "\n",
        "betaMedSE_OLS <- matrix(NA,length(ni),p)    \n",
        "betaMedSE_LWS <- matrix(NA,length(ni),p) \n",
        "betaMedSE_LTS <- matrix(NA,length(ni),p) \n"
      ],
      "metadata": {
        "id": "LK3_sEbeNEPK"
      },
      "execution_count": null,
      "outputs": []
    },
    {
      "cell_type": "code",
      "source": [
        "\n",
        "for (i in 1:length(ni)){\n",
        "  betaSE_OLS <- matrix(NA,nrep,p)    \n",
        "  betaSE_LWS <- matrix(NA,nrep,p) \n",
        "  betaSE_LTS <- matrix(NA,nrep,p) \n",
        "  for (j in 1:nrep){\n",
        "    n  <- ni[i]\n",
        "    X1 <- rep(1,times=n)\n",
        "    X2 <- rbinom(n,10,0.3)+1\n",
        "    X3 <- rnorm(n,10,2)\n",
        "    X4 <- rnorm(n,20,3)\n",
        "    X5 <- rexp(n,1/8)\n",
        "    X  <- cbind(X1, X2, X3, X4, X5)\n",
        "    e  <- rnorm(n,0,1)\n",
        "    Y  <- X%*%beta0 + e\n",
        "    \n",
        "    # Vytvorime 5% outlieru\n",
        "    Yoi    = sample(n)[1:ceiling(n/20)]\n",
        "    Y[Yoi] = 5*Y[Yoi]\n",
        "    \n",
        "    # Vytvorime 5% Leverage pointu\n",
        "    Xoi     = sample(n)[1:ceiling(n/20)]\n",
        "    X[Xoi,2:p]  = 0.2*X[Xoi,2:p]  \n",
        "    \n",
        "    betaSE_OLS[j,] <- OLS_qr(Y,X)\n",
        "    betaSE_LWS[j,] <- LWS2(Y,X,0.9,0.8,niter)$beta\n",
        "    betaSE_LTS[j,] <- ltsReg(Y ~ X2+X3+X4+X5, alpha=0.9)$coeff\n",
        "  }\n",
        "  # odecist beta0\n",
        "  betaMSE_OLS[i,] <- colMeans((betaSE_OLS - t(matrix(rep(beta0, times = nrep),nrow=p)))^2)   \n",
        "  betaMSE_LWS[i,] <- colMeans((betaSE_LWS - t(matrix(rep(beta0, times = nrep),nrow=p)))^2) \n",
        "  betaMSE_LTS[i,] <- colMeans((betaSE_LTS - t(matrix(rep(beta0, times = nrep),nrow=p)))^2) \n",
        "  \n",
        "  betaMedSE_OLS[i,] <- colMedians((betaSE_OLS - t(matrix(rep(beta0, times = nrep),nrow=p)))^2)  \n",
        "  betaMedSE_LWS[i,] <- colMedians((betaSE_LWS - t(matrix(rep(beta0, times = nrep),nrow=p)))^2) \n",
        "  betaMedSE_LTS[i,] <- colMedians((betaSE_LTS - t(matrix(rep(beta0, times = nrep),nrow=p)))^2) \n",
        "}\n"
      ],
      "metadata": {
        "id": "3_P2NU2gNDQh"
      },
      "execution_count": null,
      "outputs": []
    },
    {
      "cell_type": "code",
      "source": [
        "\n",
        "#par(mfrow = c(2, 2))\n",
        "#plot(ni,betaMSE_OLS[,2], log=\"y\", ylim=c(0.01, 20),yaxt=\"n\", type = \"l\", col=\"black\")\n",
        "for (ii in 1:5){\n",
        "  par(mfrow = c(1, 1))\n",
        "  plot(seq(50,5000,by=1), 1/seq(50,5000,by=1),type = \"l\", col=\"black\",log=\"y\", ylim=c(0.0001, 1))\n",
        "  lines(ni,betaMSE_LWS[,ii],type = \"l\", col=\"red\")\n",
        "  lines(ni,betaMSE_LTS[,ii],type = \"l\", col=\"blue\")\n",
        "}\n",
        "################################\n"
      ],
      "metadata": {
        "id": "RyuINY0HNBNj"
      },
      "execution_count": null,
      "outputs": []
    },
    {
      "cell_type": "code",
      "source": [
        "\n",
        "#####################\n",
        "######## Today Exercise\n",
        "\n",
        "# Investiagate following datasets\n",
        "# Try to find influence points (leverages, outliers)\n",
        "# Compare robust estiamtors with different input parameters with\n",
        "# classical OLS method with removed influence points\n",
        "# plot regression lines of more estimators together and discuss resluts\n",
        "\n",
        "\n",
        "# Crime data\n",
        "# Source: Statistical Methods for Social Sciences\n",
        "# Alan Agresti and Barbara Finlay (1997)\n",
        "crimedata = read.csv(\"data/crimedata.csv\",sep=\",\")\n",
        "# Variables\n",
        "#state id (sid)\n",
        "#state name (state)\n",
        "#violent crimes per 100,000 people (crime)\n",
        "#murders per 1,000,000 (murder)\n",
        "#the percent of the population living in metropolitan areas (pctmetro)\n",
        "#the percent of the population that is white (pctwhite)\n",
        "#percent of population with a high school education or above (pcths)\n",
        "#percent of population living under poverty line (poverty)\n",
        "#percent of population that are single parents (single).\n",
        "summary(crimedata)\n",
        "pairs.panels(crimedata[-51,4:10],smooth=F,lm=T,scale=T,pch=20)\n",
        "\n",
        "# 0) Explain crime by single\n",
        "# 1) Explain crime by poverty and single\n",
        "# 2) Explain crime by poverty, single, pcths, pctwhite, pctmetro\n",
        "# Extra) If you want, do the same for murders\n",
        "\n"
      ],
      "metadata": {
        "id": "mXfvecudNAON"
      },
      "execution_count": null,
      "outputs": []
    },
    {
      "cell_type": "code",
      "source": [],
      "metadata": {
        "id": "5PgCKUGp1fST"
      },
      "execution_count": null,
      "outputs": []
    },
    {
      "cell_type": "code",
      "source": [],
      "metadata": {
        "id": "3fcnP-xURGop"
      },
      "execution_count": null,
      "outputs": []
    }
  ]
}