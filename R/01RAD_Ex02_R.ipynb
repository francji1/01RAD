{
  "nbformat": 4,
  "nbformat_minor": 0,
  "metadata": {
    "colab": {
      "private_outputs": true,
      "provenance": [],
      "include_colab_link": true
    },
    "kernelspec": {
      "name": "ir",
      "display_name": "R"
    },
    "language_info": {
      "name": "R"
    }
  },
  "cells": [
    {
      "cell_type": "markdown",
      "metadata": {
        "id": "view-in-github",
        "colab_type": "text"
      },
      "source": [
        "<a href=\"https://colab.research.google.com/github/francji1/01RAD/blob/main/R/01RAD_Ex02_R.ipynb\" target=\"_parent\"><img src=\"https://colab.research.google.com/assets/colab-badge.svg\" alt=\"Open In Colab\"/></a>"
      ]
    },
    {
      "cell_type": "markdown",
      "source": [
        "# 01RAD - EX03 Introduction to Simple Linear Regression in R\n",
        "\n",
        "* Data visualisation\n",
        "* Compute linear coefficients from scratch\n",
        "* Residauls\n",
        "* Us *lm()* function"
      ],
      "metadata": {
        "id": "c_FzbuQbgJEq"
      }
    },
    {
      "cell_type": "code",
      "execution_count": null,
      "metadata": {
        "id": "OObxUnIYfo2F"
      },
      "outputs": [],
      "source": [
        "# get requirements for this exercise\n",
        "list_of_packages <- c(\"tidyverse\", \"car\", \"lattice\", \"pwr\", \"MASS\",\"GGally\",\"colorspace\",\"UsingR\")\n",
        "missing_packages <- list_of_packages[!(list_of_packages %in% installed.packages()[,\"Package\"])]\n",
        "if(length(missing_packages)) install.packages(missing_packages)\n",
        "lapply(list_of_packages, library, character.only = TRUE)\n",
        "\n"
      ]
    },
    {
      "cell_type": "code",
      "source": [
        "######################\n",
        "# check our settings\n",
        "#getwd()\n",
        "#print(.libPaths())\n",
        "#print(sessionInfo())\n",
        "print(version)"
      ],
      "metadata": {
        "id": "6PyrgMWPgoMk"
      },
      "execution_count": null,
      "outputs": []
    },
    {
      "cell_type": "markdown",
      "source": [
        "## Read and setup dataset"
      ],
      "metadata": {
        "id": "VDshPFuArjYT"
      }
    },
    {
      "cell_type": "code",
      "source": [
        "### Read required dataset\n",
        "\n",
        "# From github\n",
        "fsdata = read.csv('https://raw.githubusercontent.com/francji1/01RAD/main/data/fsdata.csv', sep = \",\", header = T)#[,-1]\n",
        "\n",
        "# From the package \"UsingR\"\n",
        "#data(father.son)\n",
        "#fsdata2 = father.son %>%\n",
        "#  rename(father = fheight,\n",
        "#         son = sheight)"
      ],
      "metadata": {
        "id": "1DMSOJjPgtEi"
      },
      "execution_count": null,
      "outputs": []
    },
    {
      "cell_type": "code",
      "source": [
        "#### Check out the structure of the data set\n",
        "head(fsdata)\n",
        "# Datatypes\n",
        "str(fsdata)\n",
        "# Summary\n",
        "summary(fsdata)\n",
        "# Dimension\n",
        "dim(fsdata)"
      ],
      "metadata": {
        "id": "7FfbzfvTkHnY"
      },
      "execution_count": null,
      "outputs": []
    },
    {
      "cell_type": "code",
      "source": [
        "# Check NA occurence\n",
        "colSums(is.na(fsdata))"
      ],
      "metadata": {
        "id": "1K93epIZkp2k"
      },
      "execution_count": null,
      "outputs": []
    },
    {
      "cell_type": "code",
      "source": [
        "# define color palette from library(colorspace)\n",
        "color_6 <- rainbow_hcl(6)\n",
        "color_1 <- rainbow_hcl(1)"
      ],
      "metadata": {
        "id": "Z4ATUKYohcGj"
      },
      "execution_count": null,
      "outputs": []
    },
    {
      "cell_type": "markdown",
      "source": [
        "## Visualize data"
      ],
      "metadata": {
        "id": "GoaBtWz3rnWs"
      }
    },
    {
      "cell_type": "code",
      "source": [
        "hist(c(fsdata$son,fsdata$father), freq = F, col=color_1, breaks = 20,\n",
        "        main=\"Histogram and Kernel density plot\",xlab=\"Height\", ylab=\"Density\")\n",
        "lines(density(fsdata$son,na.rm=TRUE),col=\"red\")\n",
        "lines(density(fsdata$father,na.rm=TRUE),col=\"blue\")\n",
        "legend(\"topright\",legend = c(\"son\",\"father\"),lty = c(1,1),col = c(\"red\",\"blue\"))\n",
        "\n"
      ],
      "metadata": {
        "id": "u1ksS21fhbKZ"
      },
      "execution_count": null,
      "outputs": []
    },
    {
      "cell_type": "code",
      "source": [
        "fsdata_long <- fsdata %>%\n",
        "    pivot_longer(cols = c(\"father\",\"son\"),\n",
        "                 names_to = \"relation\",\n",
        "                 values_to = \"height\") %>%\n",
        "    rename(family = X)\n",
        "fsdata_long %>% head()"
      ],
      "metadata": {
        "id": "cmDu6-8JhaoQ"
      },
      "execution_count": null,
      "outputs": []
    },
    {
      "cell_type": "code",
      "source": [
        "ggplot(data=fsdata, aes(x=father, y=son)) +\n",
        "    geom_point()\n"
      ],
      "metadata": {
        "id": "HDhOLuAOhaGw"
      },
      "execution_count": null,
      "outputs": []
    },
    {
      "cell_type": "code",
      "source": [
        "ggplot(fsdata_long,aes(x = height, colour=relation)) +\n",
        "    geom_histogram(aes(y = ..count.., fill=relation),binwidth = 2,alpha=0.4,position=\"identity\")\n"
      ],
      "metadata": {
        "id": "hZZ8FfNMhZsJ"
      },
      "execution_count": null,
      "outputs": []
    },
    {
      "cell_type": "code",
      "source": [
        "ggplot(fsdata_long,aes(x = height, fill=relation, colour=relation)) +\n",
        "    geom_histogram(aes(y = ..density.., fill=relation),binwidth = 2,alpha=0.3,position=\"identity\") +\n",
        "    geom_density(kernel = \"gaussian\", alpha = 0.2) +\n",
        "    geom_vline(data= fsdata_long %>% group_by(relation) %>% summarise(mean = mean(height)),\n",
        "               aes(xintercept=mean,colour=relation),\n",
        "               linetype=\"dashed\", size=1)\n",
        "# check ?density parameters to compute reasonable kernel density estimates\n",
        "\n"
      ],
      "metadata": {
        "id": "EfNgeDjuhZXA"
      },
      "execution_count": null,
      "outputs": []
    },
    {
      "cell_type": "code",
      "source": [
        "### (play around) What if data are not paired?\n",
        "histogram(~ height | as.factor(relation), data = fsdata_long, type = \"density\", col = color_1, ylab = \"Density\")\n",
        "# The relation ship between fathers and sons height can't be determined without family information\n",
        "\n"
      ],
      "metadata": {
        "id": "CkLe6OpAhY34"
      },
      "execution_count": null,
      "outputs": []
    },
    {
      "cell_type": "code",
      "source": [
        "# Lets take data as a generation problem (no relation between son-father)\n",
        "# Has fathers and sons same variance\n"
      ],
      "metadata": {
        "id": "DHFFcOphhYfW"
      },
      "execution_count": null,
      "outputs": []
    },
    {
      "cell_type": "code",
      "source": [
        "# F test\n",
        "var.test(fsdata$father,fsdata$son)\n"
      ],
      "metadata": {
        "id": "wNCdxitVhYMO"
      },
      "execution_count": null,
      "outputs": []
    },
    {
      "cell_type": "code",
      "source": [
        "# F test manual\n",
        "test_stat<- var(fsdata$father)/var(fsdata$son)\n",
        "df1      <- length(fsdata$father)-1\n",
        "df2      <- length(fsdata$son)-1\n",
        "p_val    <- pf(test_stat,df1=df1-1,df2=df2-1)\n",
        "2*(min(p_val,1-p_val)) # compare with var.test function result\n"
      ],
      "metadata": {
        "id": "ZvU6rjSShX1S"
      },
      "execution_count": null,
      "outputs": []
    },
    {
      "cell_type": "code",
      "source": [
        "# Is fathers generation tall as sons generation?\n",
        "t.test(fsdata$father,fsdata$son, paired = F, var.equal = T)"
      ],
      "metadata": {
        "id": "0lRaYvcyhWoC"
      },
      "execution_count": null,
      "outputs": []
    },
    {
      "cell_type": "code",
      "source": [
        "# Are fathers taller than their sons?\n",
        "# t-test\n",
        "t.test(fsdata$father,fsdata$son, paired = T, var.equal = T)\n",
        "# Wilcox test\n",
        "wilcox.test(fsdata$father,fsdata$son, paired = F)\n"
      ],
      "metadata": {
        "id": "XYUS5N_krF64"
      },
      "execution_count": null,
      "outputs": []
    },
    {
      "cell_type": "code",
      "source": [
        "# Question: What are the assumptions for using the t-test?\n",
        "# Question: # Are sons  taller than fathers\n",
        "t.test(fsdata$father,fsdata$son, alternative = c(\"less\"),\n",
        " paired = T, var.equal = T)\n",
        "\n",
        "\n",
        ""
      ],
      "metadata": {
        "id": "hwtXeQ6ihWRD"
      },
      "execution_count": null,
      "outputs": []
    },
    {
      "cell_type": "markdown",
      "source": [
        "\n",
        "## Continue plotting\n"
      ],
      "metadata": {
        "id": "34bRpd2XreRy"
      }
    },
    {
      "cell_type": "code",
      "source": [
        "# Basic scatterplot matrix\n",
        "pairs(fsdata[,2:3])"
      ],
      "metadata": {
        "id": "JhA_97mKhVYW"
      },
      "execution_count": null,
      "outputs": []
    },
    {
      "cell_type": "code",
      "source": [
        "# Nicer by GGally package\n",
        "ggpairs(fsdata[,2:3])"
      ],
      "metadata": {
        "id": "4Bwil7OChVD2"
      },
      "execution_count": null,
      "outputs": []
    },
    {
      "cell_type": "code",
      "source": [
        "# Longr format with factor variable\n",
        "ggpairs(fsdata_long)\n",
        "\n"
      ],
      "metadata": {
        "id": "fPvZhVI0rxjg"
      },
      "execution_count": null,
      "outputs": []
    },
    {
      "cell_type": "code",
      "source": [
        "# Scatterplot of variables of interest by simple plot function\n",
        "plot(father ~ son,fsdata,\n",
        "     main=\"Father and Son Height - Dalton dataset\",\n",
        "     xlab=\"Height of Son\", ylab=\"Height of Father\")\n",
        "\n"
      ],
      "metadata": {
        "id": "gHLGTWwQhTvs"
      },
      "execution_count": null,
      "outputs": []
    },
    {
      "cell_type": "code",
      "source": [
        "# Use ggplot library:\n",
        "ggplot(fsdata, aes(x=father, y=son))  +\n",
        "    geom_point(size=1, alpha=0.7) +\n",
        "    xlab(\"Height of Father\") +\n",
        "    ylab(\"Height of Son\") +\n",
        "    theme_bw() +\n",
        "    ggtitle(\"Father and Son Height - Dalton dataset\")\n"
      ],
      "metadata": {
        "id": "4MnNGgLyhTPm"
      },
      "execution_count": null,
      "outputs": []
    },
    {
      "cell_type": "code",
      "source": [
        "# Guess regression line (now by \"blackbox\" function geom_smoots)\n",
        "ggplot(data=fsdata, aes(x=father, y=son)) +\n",
        "    geom_point() +\n",
        "    geom_abline(intercept = 0, slope = 1, col = \"black\") +\n",
        "    geom_smooth(method = \"lm\", se = T,col = \"blue\") +\n",
        "    geom_smooth(method = \"lm\", formula = y ~ -1 +x, se = T,col = \"red\")\n"
      ],
      "metadata": {
        "id": "aCC3kF1AhSgm"
      },
      "execution_count": null,
      "outputs": []
    },
    {
      "cell_type": "code",
      "source": [
        "# plot including some \"now lackbox\" fit lines, marginal box plots (need car library)\n",
        "scatterplot(fsdata$father,fsdata$son)\n",
        "scatterplotMatrix(fsdata[,2:3])\n",
        "\n",
        "\n",
        "\n"
      ],
      "metadata": {
        "id": "E--Mb0W3hRqo"
      },
      "execution_count": null,
      "outputs": []
    },
    {
      "cell_type": "markdown",
      "source": [
        "###  Question: Is there close relationship between father and son height?"
      ],
      "metadata": {
        "id": "vVZtsQaqsnVk"
      }
    },
    {
      "cell_type": "code",
      "source": [
        "# back to old scatter plots\n",
        "plot(son ~ father,\n",
        "     fsdata,\n",
        "     main=\"Father and Son Height - Dalton dataset\",\n",
        "     xlab=\"Height of Son\",\n",
        "     ylab=\"Height of Father\")\n",
        "abline(0,1)\n"
      ],
      "metadata": {
        "id": "hFAFTLsohQXN"
      },
      "execution_count": null,
      "outputs": []
    },
    {
      "cell_type": "code",
      "source": [
        "# Change plot: add line starting in (0,0) and force R to start x,yaxis in 0\n",
        "plot(son ~ father,fsdata,xlim = c(0,90), ylim = c(0,90),pch=\".\", xaxs=\"i\",yaxs=\"i\",\n",
        "     main=\"Father and Son Height - Dalton dataset\",xlab=\"Height of Son\", ylab=\"Height of Father\")\n",
        "abline(0,1)\n"
      ],
      "metadata": {
        "id": "fB9dPr-5hPxM"
      },
      "execution_count": null,
      "outputs": []
    },
    {
      "cell_type": "code",
      "source": [],
      "metadata": {
        "id": "QMS0ADvJsx2G"
      },
      "execution_count": null,
      "outputs": []
    },
    {
      "cell_type": "markdown",
      "source": [
        "# Simple Regression from scratch"
      ],
      "metadata": {
        "id": "6ihNft9gsyNF"
      }
    },
    {
      "cell_type": "markdown",
      "source": [
        "### Analyze data by \"manually\""
      ],
      "metadata": {
        "id": "G7JKaSzXs8zw"
      }
    },
    {
      "cell_type": "code",
      "source": [
        "# mean deviations of the father and son heights\n",
        "s_mean  <- mean(fsdata$son)\n",
        "s_mean  == sum(fsdata$son)/(length(fsdata$son)) # same as manually from the definition of sample mean\n",
        "f_mean  <- mean(fsdata$father)\n",
        "c(s_mean,f_mean)\n"
      ],
      "metadata": {
        "id": "MRo_ZGKMhOcF"
      },
      "execution_count": null,
      "outputs": []
    },
    {
      "cell_type": "code",
      "source": [
        "# standard deviations of the father and son heights\n",
        "s_sd   <- sd(fsdata$son)\n",
        "f_sd   <- sd(fsdata$father)\n",
        "c(s_sd,f_sd)"
      ],
      "metadata": {
        "id": "jtBuS1sjhOAJ"
      },
      "execution_count": null,
      "outputs": []
    },
    {
      "cell_type": "code",
      "source": [
        "# correlation of fsdata data (father x son is in interest)\n",
        "\n",
        "#cor(fsdata$son, fsdata$father)\n",
        "fs_cor1  <- cor(fsdata)[2, 3]\n",
        "fs_cor2 <- cov(fsdata$son, fsdata$father)/(s_sd*f_sd)\n",
        "fs_cor3 <- (((fsdata$son - s_mean)%*%(fsdata$father - f_mean))/(length(fsdata$son)-1))/(s_sd*f_sd)\n",
        "c(fs_cor1,fs_cor2,fs_cor3)\n"
      ],
      "metadata": {
        "id": "Dxr2xFV4hNG5"
      },
      "execution_count": null,
      "outputs": []
    },
    {
      "cell_type": "markdown",
      "source": [
        "How to compute slope of the regression line?"
      ],
      "metadata": {
        "id": "qZoKoIL7tUns"
      }
    },
    {
      "cell_type": "code",
      "source": [
        "# slope lecture\n",
        "b1_hat <- ((fsdata$son - s_mean)%*%(fsdata$father - f_mean))/(sum(fsdata$father^2)-length(fsdata$father)*f_mean^2)\n",
        "b1_hat"
      ],
      "metadata": {
        "id": "l2TscO-FhMhR"
      },
      "execution_count": null,
      "outputs": []
    },
    {
      "cell_type": "markdown",
      "source": [
        "What is Independent variable X and what is Response Y?"
      ],
      "metadata": {
        "id": "h7-_b2Rgt62l"
      }
    },
    {
      "cell_type": "code",
      "source": [
        "# slope alternative\n",
        "b1_hat <- fs_cor1*(s_sd / f_sd)\n",
        "b1_hat"
      ],
      "metadata": {
        "id": "TKXbk1jShLh7"
      },
      "execution_count": null,
      "outputs": []
    },
    {
      "cell_type": "code",
      "source": [
        "# and finally it's the same as\n",
        "b1_hat <- cov(fsdata$father,fsdata$son)/(sd(fsdata$father))^2\n",
        "       #   cov(fsdata$father,fsdata$son)/var(fsdata$father)\n",
        "       #  cor(fsdata$father,fsdata$son)*(sd(fsdata$son)/sd(fsdata$father))\n",
        "b1_hat\n"
      ],
      "metadata": {
        "id": "YlrBqkC7hL7Q"
      },
      "execution_count": null,
      "outputs": []
    },
    {
      "cell_type": "code",
      "source": [
        "# intercept\n",
        "b0_hat <- s_mean - b1_hat*f_mean\n",
        "b0_hat\n"
      ],
      "metadata": {
        "id": "w2jGlfWshKMy"
      },
      "execution_count": null,
      "outputs": []
    },
    {
      "cell_type": "code",
      "source": [
        "# print regression line parameters\n",
        "beta_hat = rbind(b0_hat,b1_hat)\n",
        "beta_hat\n"
      ],
      "metadata": {
        "id": "KxnX7e-LhJ4m"
      },
      "execution_count": null,
      "outputs": []
    },
    {
      "cell_type": "code",
      "source": [
        "# do the same with different notation\n",
        "intercept <- rep(1,length(fsdata$son))\n",
        "X         <- (fsdata$father)\n",
        "IX        <- cbind(intercept,X)\n",
        "Y         <- (fsdata$son)\n",
        "head(cbind(Y,intercept,X))\n"
      ],
      "metadata": {
        "id": "uqps4RtAhJSN"
      },
      "execution_count": null,
      "outputs": []
    },
    {
      "cell_type": "code",
      "source": [
        "b1_hat    <- cor(X,Y) * (sd(Y)/sd(X))\n",
        "b1_hat\n",
        "b0_hat    <- mean(Y) - b1_hat*mean(X)\n",
        "b0_hat\n",
        "\n",
        "\n"
      ],
      "metadata": {
        "id": "Xy4vk2W6hI4x"
      },
      "execution_count": null,
      "outputs": []
    },
    {
      "cell_type": "code",
      "source": [
        "# find residuals\n",
        "res =  Y - IX%*%beta_hat\n",
        "summary(res)\n",
        "# estimate variance of disturbances sigma^2\n",
        "n=dim(fsdata)[1] # number of observations\n",
        "p=1              # number of regression coefficients - No. of DF\n",
        "sigma <- sqrt((1/(n-1-p))*sum((Y - IX%*%beta_hat)^2)) # estimtion of sigma, s_n from the lecture\n"
      ],
      "metadata": {
        "id": "YHgxz8s7hH-H"
      },
      "execution_count": null,
      "outputs": []
    },
    {
      "cell_type": "code",
      "source": [
        "# same diff notation\n",
        "MSE  <- sum(res^2)/(n-2)  #  unbiased estimation of sigma^2\n",
        "RMSE = sqrt(MSE)          #  (biased) estimation of sigma, E[s] <= sigma\n"
      ],
      "metadata": {
        "id": "Wq5Wm4JChHoq"
      },
      "execution_count": null,
      "outputs": []
    },
    {
      "cell_type": "code",
      "source": [
        "#  variance of parameters\n",
        "S_xx <- sum((X - mean(X))^2)\n",
        "var_b1_hat <- sigma^2/S_xx\n",
        "         # <- sigma^2*(1/((n-1)*var(X))) #the same\n",
        "sd_b1_hat  <- sqrt(var_b1_hat)\n",
        "var_b1_hat\n",
        "sd_b1_hat\n"
      ],
      "metadata": {
        "id": "MXEbYZ0KhHJA"
      },
      "execution_count": null,
      "outputs": []
    },
    {
      "cell_type": "code",
      "source": [
        "\n",
        "\n",
        "var_b0_hat  <- sigma^2*(sum(X^2)/(n*sum((X - mean(X))^2)))\n",
        "sd_b0_hat   <- sqrt(var_b0_hat)\n",
        "var_b0_hat\n",
        "sd_b0_hat\n",
        "\n"
      ],
      "metadata": {
        "id": "AQQFnjuPhGzA"
      },
      "execution_count": null,
      "outputs": []
    },
    {
      "cell_type": "code",
      "source": [
        "\n",
        "##############################\n",
        "### OLS estimate #############\n",
        "# A * B \tElement-wise multiplication\n",
        "# A %*% B \tMatrix multiplication\n"
      ],
      "metadata": {
        "id": "XZXKwZoRhGPO"
      },
      "execution_count": null,
      "outputs": []
    },
    {
      "cell_type": "code",
      "source": [
        "\n",
        "# without intercept\n",
        "beta_hat_wo = solve(t(X)%*%(X))%*%(t(X)%*%Y)\n",
        "beta_hat_wo\n",
        "# with intercept\n",
        "beta_hat_w = solve(t(IX)%*%(IX))%*%(t(IX)%*%Y)\n",
        "beta_hat_w\n",
        "################\n"
      ],
      "metadata": {
        "id": "16dOzK3BhFu1"
      },
      "execution_count": null,
      "outputs": []
    },
    {
      "cell_type": "code",
      "source": [
        "\n",
        "#############################################\n",
        "# Compute coefficient of determination  (Was it aready covered on lectures?)\n",
        "# R-squared = Explained variation / Total variation\n",
        "SS_tot = sum((Y - mean(Y))^2)\n",
        "SS_reg = sum((IX%*%beta_hat - mean(Y))^2)\n",
        "SS_res = sum(res^2)\n",
        "SS_tot == SS_res+SS_reg\n"
      ],
      "metadata": {
        "id": "yGC1jBj3hFW8"
      },
      "execution_count": null,
      "outputs": []
    },
    {
      "cell_type": "code",
      "source": [
        "\n",
        "R2 = 1-SS_res/SS_tot\n",
        "R2\n",
        "R2 = SS_reg/SS_tot\n",
        "R2\n",
        "R2 = (SS_tot - SS_res)/SS_tot\n",
        "R2\n"
      ],
      "metadata": {
        "id": "0zy4gWuGhE6S"
      },
      "execution_count": null,
      "outputs": []
    },
    {
      "cell_type": "code",
      "source": [
        "\n",
        "#############################################\n",
        "SS_tot_wo = sum((fsdata$son)^2)\n",
        "SS_reg_wo = sum((fsdata$father%*%beta_hat_wo)^2)\n",
        "res_wo =  fsdata$son - fsdata$father%*%beta_hat_wo\n",
        "SS_res_wo = sum(res_wo^2)\n",
        "SS_tot_wo == SS_res_wo+SS_reg_wo\n"
      ],
      "metadata": {
        "id": "LXg183-Og87A"
      },
      "execution_count": null,
      "outputs": []
    },
    {
      "cell_type": "code",
      "source": [
        "\n",
        "R2_wo = 1-SS_res_wo/SS_tot_wo\n",
        "R2_wo\n",
        "R2_wo = SS_reg_wo/SS_tot_wo\n",
        "R2_wo\n",
        "R2_wo = (SS_tot_wo - SS_res_wo)/SS_tot_wo\n",
        "R2_wo\n",
        "###################################\n",
        "\n"
      ],
      "metadata": {
        "id": "zrN3lxhOg78R"
      },
      "execution_count": null,
      "outputs": []
    },
    {
      "cell_type": "code",
      "source": [
        "\n",
        "\n",
        "#################################\n",
        "#### Use R lm function !!! ######\n",
        "#################################\n",
        "# We will use it all the time !!!\n"
      ],
      "metadata": {
        "id": "CFoJxZeTg62q"
      },
      "execution_count": null,
      "outputs": []
    },
    {
      "cell_type": "code",
      "source": [
        "\n",
        "# model without intercept\n",
        "model0 = lm(son ~ -1 + father ,fsdata)\n",
        "summary(model0)\n"
      ],
      "metadata": {
        "id": "jNW3Utclg6QU"
      },
      "execution_count": null,
      "outputs": []
    },
    {
      "cell_type": "code",
      "source": [
        "\n",
        "# model with intercept\n",
        "model1 = lm(son ~ father,fsdata)\n",
        "summary(model1)\n"
      ],
      "metadata": {
        "id": "jvviVHJYg52D"
      },
      "execution_count": null,
      "outputs": []
    },
    {
      "cell_type": "code",
      "source": [
        "\n",
        "# study summary function for lm\n",
        "help(summary.lm)\n"
      ],
      "metadata": {
        "id": "Wng9Fjb7g5iN"
      },
      "execution_count": null,
      "outputs": []
    },
    {
      "cell_type": "code",
      "source": [
        "\n",
        "## direct print of given variables from lm - objects\n",
        "## examples - in details next lessons\n",
        "coef(model1)\n",
        "model1$coefficients\n",
        "residuals(model1)\n",
        "hist(fitted.values(model1))\n",
        "fitted(model1)\n",
        "sigmaHat(model1)\n",
        "# ......\n",
        "\n"
      ],
      "metadata": {
        "id": "efMfkd0hg406"
      },
      "execution_count": null,
      "outputs": []
    },
    {
      "cell_type": "code",
      "source": [
        "\n",
        "# Q: why R-squared differ in both approaches?\n",
        "#    Which approach is the right one?\n",
        "\n",
        "# plot data with regression line\n",
        "plot(son ~ father,fsdata,\n",
        "     main=\"Father and Son Height - Dalton dataset\",xlab=\"Height of Father\", ylab=\"Height of Son \")\n",
        "abline(model0,col =\"blue\")\n",
        "abline(model1, col =\"red\")\n",
        "abline(a=mean(fsdata_long$height),b=0)\n",
        "(mean(fsdata_long$height))\n",
        "legend(\"topleft\",legend = c(\"without intercept\",\"with intercept\"),lty = c(1,1),col = c(\"blue\",\"red\"))\n",
        "\n",
        "\n"
      ],
      "metadata": {
        "id": "sEWwPDNtg4Lg"
      },
      "execution_count": null,
      "outputs": []
    },
    {
      "cell_type": "code",
      "source": [
        "\n",
        "###### verify assumptions ###########\n",
        "# Will be covered in details later###\n",
        "#####################################\n",
        "#"
      ],
      "metadata": {
        "id": "ibuWJuQ0g3Fz"
      },
      "execution_count": null,
      "outputs": []
    },
    {
      "cell_type": "code",
      "source": [
        "# plot residuals -\n",
        "layout(matrix(1:4,2,2))\n",
        "plot(model0)\n"
      ],
      "metadata": {
        "id": "HpLorHHpg1no"
      },
      "execution_count": null,
      "outputs": []
    },
    {
      "cell_type": "code",
      "source": [
        "\n",
        "opar    = par(mfrow=c(1,1))\n",
        "plot(model1)\n",
        "par(opar)\n"
      ],
      "metadata": {
        "id": "wTf-Mckcg0Nj"
      },
      "execution_count": null,
      "outputs": []
    },
    {
      "cell_type": "code",
      "source": [
        "\n",
        "qqnorm(residuals(model1))\n",
        "qqline(residuals(model1), col = 2)\n",
        "\n",
        "#dev.off()\n",
        "#graphics.off()\n"
      ],
      "metadata": {
        "id": "9OWcvgOKgz53"
      },
      "execution_count": null,
      "outputs": []
    },
    {
      "cell_type": "code",
      "source": [
        "\n",
        "# Post hoc analysis - hypothesis testing\n",
        "ks.test(residuals(model1),\"pnorm\")\n",
        "shapiro.test(residuals(model1))\n",
        "###############################\n",
        "\n"
      ],
      "metadata": {
        "id": "dgwVJCRsgzLB"
      },
      "execution_count": null,
      "outputs": []
    },
    {
      "cell_type": "code",
      "source": [
        "\n",
        "###############################\n",
        "#### Display results by ggplot library\n"
      ],
      "metadata": {
        "id": "5M1z_VfCgyp_"
      },
      "execution_count": null,
      "outputs": []
    },
    {
      "cell_type": "code",
      "source": [
        "\n",
        "# minimum and maximum father height\n",
        "f_min <- min(fsdata$father)\n",
        "f_max <- max(fsdata$father)\n"
      ],
      "metadata": {
        "id": "eFMwTzxzgx_A"
      },
      "execution_count": null,
      "outputs": []
    },
    {
      "cell_type": "code",
      "source": [
        "\n",
        "# equally space points between from the min-max height interval\n",
        "xdat <- (f_max - f_min) * seq(0, 1, 0.01) + f_min\n",
        "ydat <- b0_hat + b1_hat*xdat\n"
      ],
      "metadata": {
        "id": "-4Ft61mvgxqk"
      },
      "execution_count": null,
      "outputs": []
    },
    {
      "cell_type": "code",
      "source": [
        "\n",
        "# regression line data frame\n",
        "regressionLine <- data.frame(xdat, ydat)\n",
        "names(regressionLine) <- c(\"son\", \"father\")\n"
      ],
      "metadata": {
        "id": "aBt4L3c7gxWz"
      },
      "execution_count": null,
      "outputs": []
    },
    {
      "cell_type": "code",
      "source": [
        "\n",
        "# plot of data set with regression line\n",
        "ggplot(fsdata, aes(x=father, y=son)) +\n",
        "    geom_point(size=1, alpha=0.7) +\n",
        "    xlab(\"Height of father\") +\n",
        "    ylab(\"Height of son\") +\n",
        "    ggtitle(\"Father-son Height Data\")  +\n",
        "    geom_line(data=regressionLine, aes(x=son, y=father), lwd=1.5, color=\"red\")\n",
        "#    geom_smooth(method = \"lm\", se = F) +\n",
        "#   geom_abline(intercept = b0_hat, slope = b1_hat,color = \"green\")\n",
        "\n"
      ],
      "metadata": {
        "id": "WfjiybN0gw4M"
      },
      "execution_count": null,
      "outputs": []
    },
    {
      "cell_type": "code",
      "source": [
        "\n",
        "### Funny question: What if 2 fathers have a liliput sons?\n",
        "#fsdata = read.csv('data/fsdata.csv', sep = \",\")\n",
        "#head(fsdata)\n",
        "#dim(fsdata)\n",
        "fsdata[dim(fsdata)[1]+1,] = c(dim(fsdata)[1]+1,70,10)\n",
        "fsdata[dim(fsdata)[1]+1,] = c(dim(fsdata)[1]+1,80,20)\n",
        "scatterplotMatrix(fsdata[,2:3])\n",
        "\n"
      ],
      "metadata": {
        "id": "21Sa7QCYgwRT"
      },
      "execution_count": null,
      "outputs": []
    },
    {
      "cell_type": "code",
      "source": [
        "\n",
        "############### Exercise - Mini Homework 03 ###########\n",
        "\n",
        "# Investigate a relationship between speed and stopping distance for cars\n",
        "summary(cars)\n",
        "?cars\n",
        "# Questions:\n",
        "# 1) Display data set (scatter plot, histograms and density plots of speed and dist variables)\n",
        "# 2) Try model with and without intercept\n",
        "# 3) Compute \"manually\" OLS estimate of regression parameters and error variance\n",
        "# 4) Compute \"manually\" variance of estimated parameters\n",
        "# 5) Plot data with both estimated regression lines\n",
        "# 6) Investigate output from the lm function\n",
        "# 7) whats the estimated stopping distance for a car going 20mph? (use both models)\n",
        "#    compare with the estimated stopping distance for a car going 30mph? (use both models, can we predict this?)\n",
        "# 8) Is the simple linear model good approximation for these problems? Suggest next steps.\n",
        "\n",
        "\n"
      ],
      "metadata": {
        "id": "1YiF44ptgvd-"
      },
      "execution_count": null,
      "outputs": []
    },
    {
      "cell_type": "code",
      "source": [],
      "metadata": {
        "id": "MW4ghGVDfq9r"
      },
      "execution_count": null,
      "outputs": []
    }
  ]
}